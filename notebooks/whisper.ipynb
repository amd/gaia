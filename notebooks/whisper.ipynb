{
 "cells": [
  {
   "cell_type": "code",
   "execution_count": 9,
   "metadata": {},
   "outputs": [
    {
     "name": "stdout",
     "output_type": "stream",
     "text": [
      "Channels:\n",
      " - conda-forge\n",
      " - defaults\n",
      "Platform: win-64\n",
      "Collecting package metadata (repodata.json): ...working... done\n",
      "Solving environment: ...working... done\n",
      "\n",
      "# All requested packages already installed.\n",
      "\n"
     ]
    },
    {
     "name": "stderr",
     "output_type": "stream",
     "text": [
      "C:\\Users\\kalin\\miniconda3\\Lib\\site-packages\\conda\\base\\context.py:969: FutureWarning: Adding 'defaults' to channel list implicitly. is deprecated and will be removed in 25.3. \n",
      "\n",
      "To remove this warning, please choose a default channel explicitly via 'conda config --add channels <name>', e.g. 'conda config --add channels defaults'.\n",
      "  deprecated.topic(\n"
     ]
    }
   ],
   "source": [
    "!conda install ffmpeg -c conda-forge"
   ]
  },
  {
   "cell_type": "code",
   "execution_count": 8,
   "metadata": {},
   "outputs": [
    {
     "name": "stdout",
     "output_type": "stream",
     "text": [
      "Collecting pyaudio\n",
      "  Downloading PyAudio-0.2.14-cp310-cp310-win_amd64.whl.metadata (2.7 kB)\n",
      "Requirement already satisfied: numpy in c:\\users\\kalin\\miniconda3\\envs\\gaiaenv\\lib\\site-packages (1.26.4)\n",
      "Downloading PyAudio-0.2.14-cp310-cp310-win_amd64.whl (164 kB)\n",
      "Installing collected packages: pyaudio\n",
      "Successfully installed pyaudio-0.2.14\n"
     ]
    }
   ],
   "source": [
    "!pip install pyaudio numpy"
   ]
  },
  {
   "cell_type": "code",
   "execution_count": 4,
   "metadata": {},
   "outputs": [
    {
     "name": "stdout",
     "output_type": "stream",
     "text": [
      "FFmpeg is installed and accessible\n"
     ]
    }
   ],
   "source": [
    "import subprocess\n",
    "\n",
    "# Check if FFmpeg is available\n",
    "try:\n",
    "    subprocess.run(['ffmpeg', '-version'], capture_output=True, check=True)\n",
    "    print(\"FFmpeg is installed and accessible\")\n",
    "except FileNotFoundError:\n",
    "    print(\"FFmpeg is not installed or not in PATH\")\n",
    "except subprocess.CalledProcessError as e:\n",
    "    print(f\"Error running FFmpeg: {e}\")"
   ]
  },
  {
   "cell_type": "code",
   "execution_count": 5,
   "metadata": {},
   "outputs": [
    {
     "name": "stdout",
     "output_type": "stream",
     "text": [
      "Current working directory: c:\\Users\\kalin\\Work\\gaia2\\notebooks\n",
      "Full path to audio file: c:\\Users\\kalin\\Work\\gaia2\\data\\audio\\test.mp3\n",
      "Successfully loaded audio file. Sample rate: 44100\n"
     ]
    },
    {
     "name": "stderr",
     "output_type": "stream",
     "text": [
      "c:\\Users\\kalin\\miniconda3\\envs\\gaiaenv\\lib\\site-packages\\whisper\\transcribe.py:126: UserWarning: FP16 is not supported on CPU; using FP32 instead\n",
      "  warnings.warn(\"FP16 is not supported on CPU; using FP32 instead\")\n"
     ]
    },
    {
     "name": "stdout",
     "output_type": "stream",
     "text": [
      "The text in video: \n",
      "  Your hands lie open in the long fresh grass. The finger points look through like rosy blooms. Your eyes smile peace. The pasture gleams and glooms beneath billowing skies that scatter and amass. All round our nest far as the eye can pass. Our golden king cup feels with silver edge where the cow partially skirts the Hawthorn hedge to his visible silence still is the hourglass. Your hands lie open in the long fresh grass. The finger points look through like rosy blooms. Your eyes smile peace. The pasture gleams and glooms beneath billowing skies that scatter and amass. All round our nest far as the eye can pass. Our golden king cup feels with silver edge where the cow partially skirts the Hawthorn hedge to his visible silence still is the hourglass.\n"
     ]
    }
   ],
   "source": [
    "import os\n",
    "import soundfile as sf  # You might need to pip install soundfile\n",
    "import whisper\n",
    "\n",
    "# Check current working directory\n",
    "print(f\"Current working directory: {os.getcwd()}\")\n",
    "\n",
    "audio_path = os.path.abspath(\"../data/audio/test.mp3\")\n",
    "print(f\"Full path to audio file: {audio_path}\")\n",
    "\n",
    "# More detailed file checking\n",
    "if os.path.exists(audio_path):\n",
    "    try:\n",
    "        # Try to open the audio file first\n",
    "        data, samplerate = sf.read(audio_path)\n",
    "        print(f\"Successfully loaded audio file. Sample rate: {samplerate}\")\n",
    "        \n",
    "        # If audio loads successfully, proceed with whisper\n",
    "        model = whisper.load_model(\"base\")\n",
    "        result = model.transcribe(audio_path)\n",
    "        print(f'The text in video: \\n {result[\"text\"]}')\n",
    "    except Exception as e:\n",
    "        print(f\"Error loading audio file: {str(e)}\")\n",
    "else:\n",
    "    print(f\"Error: File not found at path: {audio_path}\")"
   ]
  },
  {
   "cell_type": "code",
   "execution_count": 6,
   "metadata": {},
   "outputs": [
    {
     "name": "stdout",
     "output_type": "stream",
     "text": [
      " The text in video: \n",
      "  Your hands lie open in the long fresh grass. The finger points look through like rosy blooms. Your eyes smile peace. The pasture gleams and glooms beneath billowing skies that scatter and amass. All round our nest far as the eye can pass. Our golden king cup feels with silver edge where the cow partially skirts the Hawthorn hedge to his visible silence still is the hourglass. Your hands lie open in the long fresh grass. The finger points look through like rosy blooms. Your eyes smile peace. The pasture gleams and glooms beneath billowing skies that scatter and amass. All round our nest far as the eye can pass. Our golden king cup feels with silver edge where the cow partially skirts the Hawthorn hedge to his visible silence still is the hourglass.\n"
     ]
    }
   ],
   "source": [
    "import whisper\n",
    "model = whisper.load_model(\"base\")\n",
    "result = model.transcribe(\"../data/audio/test.mp3\")\n",
    "print(f' The text in video: \\n {result[\"text\"]}')"
   ]
  },
  {
   "cell_type": "markdown",
   "metadata": {},
   "source": [
    "Available Audio Devices:\n",
    "- Index 0: Microsoft Sound Mapper - Input\n",
    "- Index 1: Microphone Array (Realtek(R) Au\n",
    "- Index 4: Primary Sound Capture Driver\n",
    "- Index 5: Microphone Array (Realtek(R) Audio)\n",
    "- Index 9: Microphone Array (Realtek(R) Audio)\n",
    "- Index 10: Microphone (Realtek HD Audio Mic input)\n",
    "- Index 13: PC Speaker (Realtek HD Audio 2nd output with HAP)\n",
    "- Index 14: Stereo Mix (Realtek HD Audio Stereo input)\n",
    "- Index 15: Microphone Array (Realtek HD Audio Mic Array input)\n",
    "- Index 18: PC Speaker (Realtek HD Audio output with HAP)\n",
    "- Index 19: Headset (AMD Bluetooth Audio Device Microphone)\n",
    "- Index 22: Input (AMD Bluetooth Audio Device Speaker)"
   ]
  },
  {
   "cell_type": "code",
   "execution_count": 5,
   "metadata": {},
   "outputs": [
    {
     "name": "stdout",
     "output_type": "stream",
     "text": [
      "\n",
      "Available Audio Devices:\n",
      "Index 0: Microsoft Sound Mapper - Input\n",
      "Index 1: Microphone Array (Realtek(R) Au\n",
      "Index 4: Primary Sound Capture Driver\n",
      "Index 5: Microphone Array (Realtek(R) Audio)\n",
      "Index 9: Microphone Array (Realtek(R) Audio)\n",
      "Index 10: Microphone (Realtek HD Audio Mic input)\n",
      "Index 13: PC Speaker (Realtek HD Audio 2nd output with HAP)\n",
      "Index 14: Stereo Mix (Realtek HD Audio Stereo input)\n",
      "Index 15: Microphone Array (Realtek HD Audio Mic Array input)\n",
      "Index 18: PC Speaker (Realtek HD Audio output with HAP)\n",
      "Index 19: Headset (AMD Bluetooth Audio Device Microphone)\n",
      "Index 22: Input (AMD Bluetooth Audio Device Speaker)\n",
      "Using device: Microphone Array (Realtek(R) Au\n",
      "* Recording started...\n"
     ]
    },
    {
     "name": "stderr",
     "output_type": "stream",
     "text": [
      "c:\\Users\\kalin\\miniconda3\\envs\\gaiaenv\\lib\\site-packages\\whisper\\transcribe.py:126: UserWarning: FP16 is not supported on CPU; using FP32 instead\n",
      "  warnings.warn(\"FP16 is not supported on CPU; using FP32 instead\")\n"
     ]
    },
    {
     "name": "stdout",
     "output_type": "stream",
     "text": [
      "Transcription:  Can you do real-time streaming? Hello? Do you hear me?"
     ]
    }
   ],
   "source": [
    "# First, install required packages if you haven't:\n",
    "# pip install pyaudio numpy\n",
    "\n",
    "import pyaudio\n",
    "import wave\n",
    "import numpy as np\n",
    "import whisper\n",
    "import threading\n",
    "import queue\n",
    "import time\n",
    "\n",
    "# Initialize audio parameters\n",
    "CHUNK = 1024 * 3\n",
    "FORMAT = pyaudio.paFloat32\n",
    "CHANNELS = 1\n",
    "RATE = 16000  # Whisper expects 16kHz\n",
    "\n",
    "# Initialize Whisper model\n",
    "model = whisper.load_model(\"base\")\n",
    "\n",
    "# Create a queue for audio chunks\n",
    "audio_queue = queue.Queue()\n",
    "is_recording = True\n",
    "\n",
    "def list_audio_devices():\n",
    "    p = pyaudio.PyAudio()\n",
    "    info = []\n",
    "    print(\"\\nAvailable Audio Devices:\")\n",
    "    for i in range(p.get_device_count()):\n",
    "        dev_info = p.get_device_info_by_index(i)\n",
    "        if dev_info.get('maxInputChannels') > 0:  # Only input devices\n",
    "            print(f\"Index {i}: {dev_info.get('name')}\")\n",
    "            info.append(dev_info)\n",
    "    p.terminate()\n",
    "    return info\n",
    "\n",
    "def record_audio():\n",
    "    p = pyaudio.PyAudio()\n",
    "    \n",
    "    # Get device info\n",
    "    device_index = 1  # Try Realtek Mic first\n",
    "    try:\n",
    "        device_info = p.get_device_info_by_index(device_index)\n",
    "        print(f\"Using device: {device_info['name']}\")\n",
    "        \n",
    "        # Verify device parameters\n",
    "        supported_rate = int(device_info['defaultSampleRate'])\n",
    "        channels = min(device_info['maxInputChannels'], CHANNELS)\n",
    "        \n",
    "        stream = p.open(format=FORMAT,\n",
    "                       channels=channels,\n",
    "                       rate=RATE,  # Force 16kHz sampling rate\n",
    "                       input=True,\n",
    "                       input_device_index=device_index,\n",
    "                       frames_per_buffer=CHUNK)\n",
    "        \n",
    "        print(\"* Recording started...\")\n",
    "        \n",
    "        while is_recording:\n",
    "            try:\n",
    "                data = np.frombuffer(stream.read(CHUNK, exception_on_overflow=False), dtype=np.float32)\n",
    "                audio_queue.put(data)\n",
    "            except Exception as e:\n",
    "                print(f\"Error reading from stream: {e}\")\n",
    "                break\n",
    "                \n",
    "    except Exception as e:\n",
    "        print(f\"Error setting up audio stream: {e}\")\n",
    "        # Try fallback to default input device\n",
    "        try:\n",
    "            stream = p.open(format=FORMAT,\n",
    "                          channels=CHANNELS,\n",
    "                          rate=RATE,\n",
    "                          input=True,\n",
    "                          frames_per_buffer=CHUNK)\n",
    "            print(\"* Recording started with default device...\")\n",
    "            \n",
    "            while is_recording:\n",
    "                data = np.frombuffer(stream.read(CHUNK, exception_on_overflow=False), dtype=np.float32)\n",
    "                audio_queue.put(data)\n",
    "                \n",
    "        except Exception as e:\n",
    "            print(f\"Error with fallback device: {e}\")\n",
    "    \n",
    "    finally:\n",
    "        try:\n",
    "            stream.stop_stream()\n",
    "            stream.close()\n",
    "        except:\n",
    "            pass\n",
    "        p.terminate()\n",
    "\n",
    "def process_audio():\n",
    "    accumulated_audio = np.array([], dtype=np.float32)\n",
    "    \n",
    "    while is_recording:\n",
    "        # Process audio in ~5-second chunks\n",
    "        while len(accumulated_audio) < RATE * 5 and is_recording:\n",
    "            if not audio_queue.empty():\n",
    "                chunk = audio_queue.get()\n",
    "                accumulated_audio = np.concatenate((accumulated_audio, chunk))\n",
    "        \n",
    "        if len(accumulated_audio) > 0:\n",
    "            # Save temporary WAV file\n",
    "            temp_file = \"temp_audio.wav\"\n",
    "            with wave.open(temp_file, 'wb') as wf:\n",
    "                wf.setnchannels(CHANNELS)\n",
    "                wf.setsampwidth(2)  # 16-bit\n",
    "                wf.setframerate(RATE)\n",
    "                wf.writeframes((accumulated_audio * 32767).astype(np.int16).tobytes())\n",
    "            \n",
    "            # Transcribe\n",
    "            result = model.transcribe(temp_file)\n",
    "            print(f\"\\rTranscription: {result['text']}\", end='', flush=True)\n",
    "            \n",
    "            # Reset accumulated audio\n",
    "            accumulated_audio = np.array([], dtype=np.float32)\n",
    "\n",
    "list_audio_devices()\n",
    "\n",
    "# Start recording and processing threads\n",
    "record_thread = threading.Thread(target=record_audio)\n",
    "process_thread = threading.Thread(target=process_audio)\n",
    "\n",
    "record_thread.start()\n",
    "process_thread.start()\n",
    "\n",
    "# Let it run for some time (e.g., 30 seconds)\n",
    "time.sleep(30)\n",
    "\n",
    "# Stop recording\n",
    "is_recording = False\n",
    "record_thread.join()\n",
    "process_thread.join()"
   ]
  }
 ],
 "metadata": {
  "kernelspec": {
   "display_name": "gaiaenv",
   "language": "python",
   "name": "python3"
  },
  "language_info": {
   "codemirror_mode": {
    "name": "ipython",
    "version": 3
   },
   "file_extension": ".py",
   "mimetype": "text/x-python",
   "name": "python",
   "nbconvert_exporter": "python",
   "pygments_lexer": "ipython3",
   "version": "3.10.15"
  }
 },
 "nbformat": 4,
 "nbformat_minor": 2
}
