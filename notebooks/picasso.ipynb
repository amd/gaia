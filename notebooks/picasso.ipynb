{
 "cells": [
  {
   "cell_type": "code",
   "execution_count": null,
   "metadata": {},
   "outputs": [],
   "source": [
    "import os\n",
    "import openai\n",
    "from dotenv import load_dotenv\n",
    "from dotenv import load_dotenv, find_dotenv\n",
    "\n",
    "load_dotenv()\n",
    "openai.api_key = os.getenv('OPENAI_API_KEY')\n",
    "assert openai.api_key, 'Please set OPENAI_API_KEY!'"
   ]
  },
  {
   "cell_type": "markdown",
   "metadata": {},
   "source": [
    "Prompt list sourced from [here](https://medium.com/phygital/top-40-useful-prompts-for-stable-diffusion-xl-008c03dd0557)"
   ]
  },
  {
   "cell_type": "code",
   "execution_count": 13,
   "metadata": {},
   "outputs": [],
   "source": [
    "sdxl_prompts = \"\"\"\n",
    "1. Warm portrait: portrait of a pretty blonde woman, a flower crown, earthy makeup, flowing maxi dress with colorful patterns and fringe, a sunset or nature scene, green and gold color scheme\n",
    "2. Old man portrait: photorealistic, visionary portrait of a dignified older man with weather-worn features, digitally enhanced, high contrast, chiaroscuro lighting technique, intimate, close-up, detailed, steady gaze, rendered in sepia tones, evoking rembrandt, timeless, expressive, highly detailed, sharp focus, high resolution\n",
    "3. Interior: a living room, bright modern Scandinavian style house, large windows, magazine photoshoot, 8k, studio lighting\n",
    "4. Closeup portrait: closeup portrait photo of beautiful goth woman, makeup, 8k uhd, high quality, dramatic, cinematic\n",
    "5. Animal photo: close up photo of a rabbit, forest in spring, haze, halation, bloom, dramatic atmosphere, centred, rule of thirds, 200mm 1.4f macro shot\n",
    "6. Kodak portrait: happy indian girl, portrait photography, beautiful, morning sunlight, smooth light, shot on kodak portra 200, film grain, nostalgic mood\n",
    "7. Luxury product: breathtaking shot of a bag, luxury product style, elegant, sophisticated, high-end, luxurious, professional, highly detailed\n",
    "8. Noir: johnny depp photo portrait, film noir style, monochrome, high contrast, dramatic shadows, 1940s style, mysterious, cinematic\n",
    "9. Animal photo: a cat under the snow with blue eyes, covered by snow, cinematic style, medium shot, professional photo, animal\n",
    "10. Long exposure: long exposure photo of tokyo street, blurred motion, streaks of light, surreal, dreamy, ghosting effect, highly detailed\n",
    "11. Cyberpunk photoshoot: a glamorous digital magazine photoshoot, a fashionable model wearing avant-garde clothing, set in a futuristic cyberpunk roof-top environment, with a neon-lit city background, intricate high fashion details, backlit by vibrant city glow, Vogue fashion photography\n",
    "12. Drink photography: freshly made hot floral tea in glass kettle on the table, angled shot, midday warm, Nikon D850 105mm, close-up\n",
    "13. Happy portrait: masterpiece, best quality, girl, collarbone, wavy hair, looking at viewer, blurry foreground, upper body, necklace, contemporary, plain pants, intricate, print, pattern, ponytail, freckles, red hair, dappled sunlight, smile, happy\n",
    "14. Neon symbol: symbol of a stylized pink cat head with sunglasses, glowing, neon, logo for a game, cyberpunk, vector, dark background with black and blue abstract shadows, cartoon, simple\n",
    "15. Comicbook: a girl sitting in the cafe, comic, graphic illustration, comic art, graphic novel art, vibrant, highly detailed, colored, 2d minimalistic\n",
    "16. Pixel: haunted house, pixel-art, low-res, blocky, pixel art style, 8-bit graphics, colorful\n",
    "17. Pixar: batman, cute modern disney style, Pixar 3d portrait, ultra detailed, gorgeous, 3d zbrush, trending on dribbble, 8k render\n",
    "18. Watercolor: cinnamon bun on the plate, watercolor painting, detailed, brush strokes, light palette, light, cozy\n",
    "19. Clipart: clipart style, cute, playful scene, playful dog chasing a frisbee, with a bright, happy color palette, simple shapes, and thick, bold lines, hand-drawn digital illustration, highly detailed, perfect for children’s book, colorful, whimsical, Artstation HQ, digital art\n",
    "20. Anime astronaut: a girl astronaut exploring the cosmos, floating among planets and stars, high quality detail, , anime screencap, studio ghibli style, illustration, high contrast, masterpiece, best quality\n",
    "21. Psychedelic: autumn forest landscape, psychedelic style, vibrant colors, swirling patterns, abstract forms, surreal, trippy, colorful\n",
    "22. Double exposure effect: double exposure portrait of a beautiful woman with brown hair and a snowy tree under the bright moonlight by Dave White, Conrad Roset, Brandon Kidwell, Andreas Lie, Dan Mountford, Agnes Cecile, splash art, winter colours, gouache, triadic colours, thick opaque strokes, brocade, depth of field, hyperdetailed, whimsimcal, amazing depth, dynamic, dreamy masterwork\n",
    "23. Vaporwave: girl with pink hair, vaporwave style, retro aesthetic, cyberpunk, vibrant, neon colors, vintage 80s and 90s style, highly detailed\n",
    "24. Lowpoly: a lion, colorful, low-poly, cyan and orange eyes, poly-hd, 3d, low-poly game art, polygon mesh, jagged, blocky, wireframe edges, centered composition\n",
    "25. Flat illustration: flat vector illustration of a house, clear off background, minimalistic, clean lines, adobe illustrator\n",
    "26. Sticker: vibrant and dynamic die cut sticker design, portraying a wolfs head interlaced with cosmic galaxies, AI, stickers, high contrast, bright neon colors, top-view, high resolution, vector art, detailed stylization, modern graphic art, unique, opaque, weather resistant, UV laminated, white background\n",
    "27. Product prototype: a sleek, ultra-thin, high resolution bezel-less monitor mockup, realistic, modern, detailed, vibrant colors, glossy finish, floating design, lowlight, art by peter mohrbacher and donato giancola, digital illustration, trending on Artstation, high-tech, smooth, minimalist workstation background, crisp reflection on screen, soft lighting\n",
    "28. Logo: logo of mountain, hike, modern, colorful, rounded, 2d concept, white off background\n",
    "29. Icon: a guitar, 2d minimalistic icon, flat vector illustration, digital, smooth shadows, design asset\n",
    "30. Tattoo design: a tattoo design, a small bird, minimalistic, black and white drawing, detailed, 8k\n",
    "31. Fashion design: extravagant high fashion show concept featuring elaborate costumes with feathered details and sparkling jewels, runway, fashion designer inspiration, style of gaultier and gianni versace, deep vibrant colors, strong directional light sources, catwalk, heavy diffusion of light, highly detailed, top trend in vogue, art by lois van baarle and loish and ross tran and rossdraws, Artstation, front row view, full scene, elegant, glamorous, intricate, sharp focus, haute couture\n",
    "32. Gradient: gradient background, pastel colors, background reference, empty, smooth transition, horizontal layout, visually pleasing, calming, relaxing\n",
    "33. Fantasy elf: ethereal fantasy concept art of an elf, magnificent, celestial, ethereal, painterly, epic, majestic, magical, fantasy art, cover art, dreamy\n",
    "34. Post apocalypse: abandoned city with ruined buildings, long deserted streets, cars aged by time, trees, flowers, scattered leaves, empty street, vibrant colors, lineart\n",
    "35. Dragon: a fantasy illustration of a majestic, ancient dragon with an opalescent scales, amidst glowing enchanted forest, illuminated by magical moonlight, intricate, highly detailed, rich textures, mystical ambiance, digital painting, vivid colors, ethereal, artstation trending, detailed matte background, sharp focus, smooth, majestic, by Todd Lockwood, Donato Giancola, Frank Frazetta, and Brom\n",
    "36. Pianist: pianist playing somber music, abstract style, non-representational, colors and shapes, expression of feelings, imaginative, highly detailed\n",
    "37. Griffon: a highly detailed, full body depiction of a griffin, showcasing a mix of lion’s body, eagle’s head and wings in a dramatic forest setting under a warm evening sky, smooth, vibrant, digital painting, matte, sharp focus, by artgerm, greg rutkowski and zdislav beksinski, with a hint of magical realism, exquisite detailing, including feathers, fur, and talons, where the griffin is poised to leap into flight, trending on Artstation, saving the image in 4K UHD quality\n",
    "38. Jedi cat: a master jedi cat in star wars holding a lightsaber, wearing a jedi cloak hood, dramatic, cinematic lighting\n",
    "39. Wellness and calm: uplifting wellness-inspired illustration showing a serene yoga session at sunrise on a misty mountain peak, warm color palette, tranquil, soft focus, smooth gradients, digital painting, highly detailed, calming, positive energy flow, nature elements, mindfulness theme, art by Leonid Afremov, DeviantArt\n",
    "40. Frozen rose: a frozen cosmic rose, the petals glitter with a crystalline shimmer, swirling nebulas, 8k unreal engine photorealism, ethereal lighting, red, nighttime, darkness, surreal art\n",
    "41. RPG character: full body, cat dressed as a Viking, with weapon in his paws, battle coloring, glow hyper-detail, hyper-realism, cinematic\n",
    "42. Plush toy: adorable concept illustration of a plush animal peacefully sitting on a child’s bed, soft lighting, gentle texture, dreamy atmosphere, pastel tones, matte finish, wide shot, by Yuko Shimizu, by Marc Brunet, by Joshua Middleton, children illustration, highly detailed, trending on artstation, fluffy, smooth, digital art, sharp focus\n",
    "\"\"\""
   ]
  },
  {
   "cell_type": "markdown",
   "metadata": {},
   "source": [
    "## Create the index"
   ]
  },
  {
   "cell_type": "code",
   "execution_count": 20,
   "metadata": {},
   "outputs": [
    {
     "name": "stderr",
     "output_type": "stream",
     "text": [
      "Parsing nodes: 100%|██████████| 1/1 [00:00<00:00, 185.61it/s]\n",
      "Generating embeddings: 100%|██████████| 3/3 [00:00<00:00,  7.46it/s]\n"
     ]
    },
    {
     "name": "stdout",
     "output_type": "stream",
     "text": [
      "Create a magical illustration of a majestic unicorn with a shimmering, iridescent horn, flowing mane, and ethereal presence. The unicorn should be set in a dreamy, enchanted forest surrounded by soft pastel colors and sparkling fairy lights, evoking a sense of wonder and fantasy.\n"
     ]
    }
   ],
   "source": [
    "from llama_index.core import Document, VectorStoreIndex\n",
    "\n",
    "sdxl_doc = Document(text=sdxl_prompts)\n",
    "sdxl_index = VectorStoreIndex.from_documents([sdxl_doc], show_progress=True)\n",
    "sdxl_query_engine = sdxl_index.as_query_engine()"
   ]
  },
  {
   "cell_type": "code",
   "execution_count": null,
   "metadata": {},
   "outputs": [],
   "source": [
    "from llama_index.llms.openai import OpenAI\n",
    "from llama_index.core.agent import ReActAgent\n",
    "\n",
    "llm = OpenAI(model=\"gpt-4\")\n",
    "agent = ReActAgent.from_tools([sdxl_tool], llm=llm, verbose=True)"
   ]
  },
  {
   "cell_type": "code",
   "execution_count": 25,
   "metadata": {},
   "outputs": [
    {
     "name": "stdout",
     "output_type": "stream",
     "text": [
      "Create a magical illustration of a majestic unicorn with a shimmering rainbow-colored mane and tail, standing gracefully in a lush meadow filled with colorful wildflowers under a clear blue sky. The unicorn should exude a sense of wonder and enchantment, with a horn that gleams in the sunlight and a gentle expression in its eyes. The background should be serene and dreamy, capturing the essence of fantasy and beauty.\n"
     ]
    },
    {
     "ename": "NameError",
     "evalue": "name 'OpenAI' is not defined",
     "output_type": "error",
     "traceback": [
      "\u001b[1;31m---------------------------------------------------------------------------\u001b[0m",
      "\u001b[1;31mNameError\u001b[0m                                 Traceback (most recent call last)",
      "Cell \u001b[1;32mIn[25], line 3\u001b[0m\n\u001b[0;32m      1\u001b[0m \u001b[38;5;28mprint\u001b[39m(sdxl_query_engine\u001b[38;5;241m.\u001b[39mquery(\u001b[38;5;124m\"\u001b[39m\u001b[38;5;124mCreate a picture of a unicorn.\u001b[39m\u001b[38;5;124m\"\u001b[39m))\n\u001b[1;32m----> 3\u001b[0m llm \u001b[38;5;241m=\u001b[39m \u001b[43mOpenAI\u001b[49m(model\u001b[38;5;241m=\u001b[39m\u001b[38;5;124m\"\u001b[39m\u001b[38;5;124mgpt-4\u001b[39m\u001b[38;5;124m\"\u001b[39m)\n\u001b[0;32m      4\u001b[0m sdxl_chat_engine \u001b[38;5;241m=\u001b[39m sdxl_index\u001b[38;5;241m.\u001b[39mas_chat_engine(chat_mode\u001b[38;5;241m=\u001b[39m\u001b[38;5;124m\"\u001b[39m\u001b[38;5;124mbest\u001b[39m\u001b[38;5;124m\"\u001b[39m, llm\u001b[38;5;241m=\u001b[39mllm, verbose\u001b[38;5;241m=\u001b[39m\u001b[38;5;28;01mTrue\u001b[39;00m)\n\u001b[0;32m      5\u001b[0m response \u001b[38;5;241m=\u001b[39m sdxl_chat_engine\u001b[38;5;241m.\u001b[39mchat(\u001b[38;5;124m\"\u001b[39m\u001b[38;5;124mcreate a picture of a unicorn.\u001b[39m\u001b[38;5;124m\"\u001b[39m)\n",
      "\u001b[1;31mNameError\u001b[0m: name 'OpenAI' is not defined"
     ]
    }
   ],
   "source": [
    "print(sdxl_query_engine.query(\"Create a picture of a unicorn.\"))\n",
    "\n",
    "llm = OpenAI(model=\"gpt-4\")\n",
    "sdxl_chat_engine = sdxl_index.as_chat_engine(chat_mode=\"best\", llm=llm, verbose=True)\n",
    "response = sdxl_chat_engine.chat(\"create a picture of a unicorn.\")\n",
    "print(response)\n"
   ]
  }
 ],
 "metadata": {
  "kernelspec": {
   "display_name": "gaiavenv",
   "language": "python",
   "name": "python3"
  },
  "language_info": {
   "codemirror_mode": {
    "name": "ipython",
    "version": 3
   },
   "file_extension": ".py",
   "mimetype": "text/x-python",
   "name": "python",
   "nbconvert_exporter": "python",
   "pygments_lexer": "ipython3",
   "version": "3.10.0"
  }
 },
 "nbformat": 4,
 "nbformat_minor": 2
}
