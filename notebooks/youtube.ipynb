{
 "cells": [
  {
   "cell_type": "code",
   "execution_count": 2,
   "metadata": {},
   "outputs": [
    {
     "name": "stdout",
     "output_type": "stream",
     "text": [
      "Collecting torch==2.2.1\n",
      "  Using cached torch-2.2.1-cp39-cp39-win_amd64.whl.metadata (26 kB)\n",
      "Requirement already satisfied: filelock in c:\\users\\kalin\\miniconda3\\envs\\gaiavenv\\lib\\site-packages (from torch==2.2.1) (3.14.0)\n",
      "Requirement already satisfied: typing-extensions>=4.8.0 in c:\\users\\kalin\\miniconda3\\envs\\gaiavenv\\lib\\site-packages (from torch==2.2.1) (4.11.0)\n",
      "Requirement already satisfied: sympy in c:\\users\\kalin\\miniconda3\\envs\\gaiavenv\\lib\\site-packages (from torch==2.2.1) (1.12)\n",
      "Requirement already satisfied: networkx in c:\\users\\kalin\\miniconda3\\envs\\gaiavenv\\lib\\site-packages (from torch==2.2.1) (3.2.1)\n",
      "Requirement already satisfied: jinja2 in c:\\users\\kalin\\miniconda3\\envs\\gaiavenv\\lib\\site-packages (from torch==2.2.1) (3.1.4)\n",
      "Requirement already satisfied: fsspec in c:\\users\\kalin\\miniconda3\\envs\\gaiavenv\\lib\\site-packages (from torch==2.2.1) (2024.3.1)\n",
      "Requirement already satisfied: MarkupSafe>=2.0 in c:\\users\\kalin\\miniconda3\\envs\\gaiavenv\\lib\\site-packages (from jinja2->torch==2.2.1) (2.1.5)\n",
      "Requirement already satisfied: mpmath>=0.19 in c:\\users\\kalin\\miniconda3\\envs\\gaiavenv\\lib\\site-packages (from sympy->torch==2.2.1) (1.3.0)\n",
      "Using cached torch-2.2.1-cp39-cp39-win_amd64.whl (198.5 MB)\n",
      "Installing collected packages: torch\n",
      "  Attempting uninstall: torch\n",
      "    Found existing installation: torch 2.3.0\n",
      "    Uninstalling torch-2.3.0:\n",
      "      Successfully uninstalled torch-2.3.0\n",
      "Successfully installed torch-2.2.1\n",
      "Collecting sentence-transformers==2.6.0\n",
      "  Using cached sentence_transformers-2.6.0-py3-none-any.whl.metadata (11 kB)\n",
      "Requirement already satisfied: transformers<5.0.0,>=4.32.0 in c:\\users\\kalin\\miniconda3\\envs\\gaiavenv\\lib\\site-packages (from sentence-transformers==2.6.0) (4.40.2)\n",
      "Requirement already satisfied: tqdm in c:\\users\\kalin\\miniconda3\\envs\\gaiavenv\\lib\\site-packages (from sentence-transformers==2.6.0) (4.66.4)\n",
      "Requirement already satisfied: torch>=1.11.0 in c:\\users\\kalin\\miniconda3\\envs\\gaiavenv\\lib\\site-packages (from sentence-transformers==2.6.0) (2.2.1)\n",
      "Requirement already satisfied: numpy in c:\\users\\kalin\\miniconda3\\envs\\gaiavenv\\lib\\site-packages (from sentence-transformers==2.6.0) (1.26.4)\n",
      "Collecting scikit-learn (from sentence-transformers==2.6.0)\n",
      "  Using cached scikit_learn-1.4.2-cp39-cp39-win_amd64.whl.metadata (11 kB)\n",
      "Collecting scipy (from sentence-transformers==2.6.0)\n",
      "  Using cached scipy-1.13.0-cp39-cp39-win_amd64.whl.metadata (60 kB)\n",
      "Requirement already satisfied: huggingface-hub>=0.15.1 in c:\\users\\kalin\\miniconda3\\envs\\gaiavenv\\lib\\site-packages (from sentence-transformers==2.6.0) (0.23.0)\n",
      "Requirement already satisfied: Pillow in c:\\users\\kalin\\miniconda3\\envs\\gaiavenv\\lib\\site-packages (from sentence-transformers==2.6.0) (10.3.0)\n",
      "Requirement already satisfied: filelock in c:\\users\\kalin\\miniconda3\\envs\\gaiavenv\\lib\\site-packages (from huggingface-hub>=0.15.1->sentence-transformers==2.6.0) (3.14.0)\n",
      "Requirement already satisfied: fsspec>=2023.5.0 in c:\\users\\kalin\\miniconda3\\envs\\gaiavenv\\lib\\site-packages (from huggingface-hub>=0.15.1->sentence-transformers==2.6.0) (2024.3.1)\n",
      "Requirement already satisfied: packaging>=20.9 in c:\\users\\kalin\\miniconda3\\envs\\gaiavenv\\lib\\site-packages (from huggingface-hub>=0.15.1->sentence-transformers==2.6.0) (24.0)\n",
      "Requirement already satisfied: pyyaml>=5.1 in c:\\users\\kalin\\miniconda3\\envs\\gaiavenv\\lib\\site-packages (from huggingface-hub>=0.15.1->sentence-transformers==2.6.0) (6.0.1)\n",
      "Requirement already satisfied: requests in c:\\users\\kalin\\miniconda3\\envs\\gaiavenv\\lib\\site-packages (from huggingface-hub>=0.15.1->sentence-transformers==2.6.0) (2.31.0)\n",
      "Requirement already satisfied: typing-extensions>=3.7.4.3 in c:\\users\\kalin\\miniconda3\\envs\\gaiavenv\\lib\\site-packages (from huggingface-hub>=0.15.1->sentence-transformers==2.6.0) (4.11.0)\n",
      "Requirement already satisfied: sympy in c:\\users\\kalin\\miniconda3\\envs\\gaiavenv\\lib\\site-packages (from torch>=1.11.0->sentence-transformers==2.6.0) (1.12)\n",
      "Requirement already satisfied: networkx in c:\\users\\kalin\\miniconda3\\envs\\gaiavenv\\lib\\site-packages (from torch>=1.11.0->sentence-transformers==2.6.0) (3.2.1)\n",
      "Requirement already satisfied: jinja2 in c:\\users\\kalin\\miniconda3\\envs\\gaiavenv\\lib\\site-packages (from torch>=1.11.0->sentence-transformers==2.6.0) (3.1.4)\n",
      "Requirement already satisfied: colorama in c:\\users\\kalin\\miniconda3\\envs\\gaiavenv\\lib\\site-packages (from tqdm->sentence-transformers==2.6.0) (0.4.6)\n",
      "Requirement already satisfied: regex!=2019.12.17 in c:\\users\\kalin\\miniconda3\\envs\\gaiavenv\\lib\\site-packages (from transformers<5.0.0,>=4.32.0->sentence-transformers==2.6.0) (2024.4.28)\n",
      "Requirement already satisfied: tokenizers<0.20,>=0.19 in c:\\users\\kalin\\miniconda3\\envs\\gaiavenv\\lib\\site-packages (from transformers<5.0.0,>=4.32.0->sentence-transformers==2.6.0) (0.19.1)\n",
      "Requirement already satisfied: safetensors>=0.4.1 in c:\\users\\kalin\\miniconda3\\envs\\gaiavenv\\lib\\site-packages (from transformers<5.0.0,>=4.32.0->sentence-transformers==2.6.0) (0.4.3)\n",
      "Requirement already satisfied: joblib>=1.2.0 in c:\\users\\kalin\\miniconda3\\envs\\gaiavenv\\lib\\site-packages (from scikit-learn->sentence-transformers==2.6.0) (1.4.2)\n",
      "Collecting threadpoolctl>=2.0.0 (from scikit-learn->sentence-transformers==2.6.0)\n",
      "  Using cached threadpoolctl-3.5.0-py3-none-any.whl.metadata (13 kB)\n",
      "Requirement already satisfied: MarkupSafe>=2.0 in c:\\users\\kalin\\miniconda3\\envs\\gaiavenv\\lib\\site-packages (from jinja2->torch>=1.11.0->sentence-transformers==2.6.0) (2.1.5)\n",
      "Requirement already satisfied: charset-normalizer<4,>=2 in c:\\users\\kalin\\miniconda3\\envs\\gaiavenv\\lib\\site-packages (from requests->huggingface-hub>=0.15.1->sentence-transformers==2.6.0) (3.3.2)\n",
      "Requirement already satisfied: idna<4,>=2.5 in c:\\users\\kalin\\miniconda3\\envs\\gaiavenv\\lib\\site-packages (from requests->huggingface-hub>=0.15.1->sentence-transformers==2.6.0) (3.7)\n",
      "Requirement already satisfied: urllib3<3,>=1.21.1 in c:\\users\\kalin\\miniconda3\\envs\\gaiavenv\\lib\\site-packages (from requests->huggingface-hub>=0.15.1->sentence-transformers==2.6.0) (2.2.1)\n",
      "Requirement already satisfied: certifi>=2017.4.17 in c:\\users\\kalin\\miniconda3\\envs\\gaiavenv\\lib\\site-packages (from requests->huggingface-hub>=0.15.1->sentence-transformers==2.6.0) (2024.2.2)\n",
      "Requirement already satisfied: mpmath>=0.19 in c:\\users\\kalin\\miniconda3\\envs\\gaiavenv\\lib\\site-packages (from sympy->torch>=1.11.0->sentence-transformers==2.6.0) (1.3.0)\n",
      "Using cached sentence_transformers-2.6.0-py3-none-any.whl (163 kB)\n",
      "Using cached scikit_learn-1.4.2-cp39-cp39-win_amd64.whl (10.6 MB)\n",
      "Using cached scipy-1.13.0-cp39-cp39-win_amd64.whl (46.2 MB)\n",
      "Using cached threadpoolctl-3.5.0-py3-none-any.whl (18 kB)\n",
      "Installing collected packages: threadpoolctl, scipy, scikit-learn, sentence-transformers\n",
      "Successfully installed scikit-learn-1.4.2 scipy-1.13.0 sentence-transformers-2.6.0 threadpoolctl-3.5.0\n",
      "Collecting llama-index==0.10.20\n",
      "  Using cached llama_index-0.10.20-py3-none-any.whl.metadata (8.8 kB)\n",
      "Collecting llama-index-agent-openai<0.2.0,>=0.1.4 (from llama-index==0.10.20)\n",
      "  Using cached llama_index_agent_openai-0.1.7-py3-none-any.whl.metadata (644 bytes)\n",
      "Requirement already satisfied: llama-index-cli<0.2.0,>=0.1.2 in c:\\users\\kalin\\miniconda3\\envs\\gaiavenv\\lib\\site-packages (from llama-index==0.10.20) (0.1.12)\n",
      "Requirement already satisfied: llama-index-core<0.11.0,>=0.10.20 in c:\\users\\kalin\\miniconda3\\envs\\gaiavenv\\lib\\site-packages (from llama-index==0.10.20) (0.10.36)\n",
      "Requirement already satisfied: llama-index-embeddings-openai<0.2.0,>=0.1.5 in c:\\users\\kalin\\miniconda3\\envs\\gaiavenv\\lib\\site-packages (from llama-index==0.10.20) (0.1.9)\n",
      "Requirement already satisfied: llama-index-indices-managed-llama-cloud<0.2.0,>=0.1.2 in c:\\users\\kalin\\miniconda3\\envs\\gaiavenv\\lib\\site-packages (from llama-index==0.10.20) (0.1.6)\n",
      "Requirement already satisfied: llama-index-legacy<0.10.0,>=0.9.48 in c:\\users\\kalin\\miniconda3\\envs\\gaiavenv\\lib\\site-packages (from llama-index==0.10.20) (0.9.48)\n",
      "Requirement already satisfied: llama-index-llms-openai<0.2.0,>=0.1.5 in c:\\users\\kalin\\miniconda3\\envs\\gaiavenv\\lib\\site-packages (from llama-index==0.10.20) (0.1.18)\n",
      "Requirement already satisfied: llama-index-multi-modal-llms-openai<0.2.0,>=0.1.3 in c:\\users\\kalin\\miniconda3\\envs\\gaiavenv\\lib\\site-packages (from llama-index==0.10.20) (0.1.5)\n",
      "Requirement already satisfied: llama-index-program-openai<0.2.0,>=0.1.3 in c:\\users\\kalin\\miniconda3\\envs\\gaiavenv\\lib\\site-packages (from llama-index==0.10.20) (0.1.6)\n",
      "Requirement already satisfied: llama-index-question-gen-openai<0.2.0,>=0.1.2 in c:\\users\\kalin\\miniconda3\\envs\\gaiavenv\\lib\\site-packages (from llama-index==0.10.20) (0.1.3)\n",
      "Requirement already satisfied: llama-index-readers-file<0.2.0,>=0.1.4 in c:\\users\\kalin\\miniconda3\\envs\\gaiavenv\\lib\\site-packages (from llama-index==0.10.20) (0.1.22)\n",
      "Requirement already satisfied: llama-index-readers-llama-parse<0.2.0,>=0.1.2 in c:\\users\\kalin\\miniconda3\\envs\\gaiavenv\\lib\\site-packages (from llama-index==0.10.20) (0.1.4)\n",
      "Requirement already satisfied: PyYAML>=6.0.1 in c:\\users\\kalin\\miniconda3\\envs\\gaiavenv\\lib\\site-packages (from llama-index-core<0.11.0,>=0.10.20->llama-index==0.10.20) (6.0.1)\n",
      "Requirement already satisfied: SQLAlchemy>=1.4.49 in c:\\users\\kalin\\miniconda3\\envs\\gaiavenv\\lib\\site-packages (from SQLAlchemy[asyncio]>=1.4.49->llama-index-core<0.11.0,>=0.10.20->llama-index==0.10.20) (2.0.30)\n",
      "Requirement already satisfied: aiohttp<4.0.0,>=3.8.6 in c:\\users\\kalin\\miniconda3\\envs\\gaiavenv\\lib\\site-packages (from llama-index-core<0.11.0,>=0.10.20->llama-index==0.10.20) (3.9.5)\n",
      "Requirement already satisfied: dataclasses-json in c:\\users\\kalin\\miniconda3\\envs\\gaiavenv\\lib\\site-packages (from llama-index-core<0.11.0,>=0.10.20->llama-index==0.10.20) (0.6.5)\n",
      "Requirement already satisfied: deprecated>=1.2.9.3 in c:\\users\\kalin\\miniconda3\\envs\\gaiavenv\\lib\\site-packages (from llama-index-core<0.11.0,>=0.10.20->llama-index==0.10.20) (1.2.14)\n",
      "Requirement already satisfied: dirtyjson<2.0.0,>=1.0.8 in c:\\users\\kalin\\miniconda3\\envs\\gaiavenv\\lib\\site-packages (from llama-index-core<0.11.0,>=0.10.20->llama-index==0.10.20) (1.0.8)\n",
      "Requirement already satisfied: fsspec>=2023.5.0 in c:\\users\\kalin\\miniconda3\\envs\\gaiavenv\\lib\\site-packages (from llama-index-core<0.11.0,>=0.10.20->llama-index==0.10.20) (2024.3.1)\n",
      "Requirement already satisfied: httpx in c:\\users\\kalin\\miniconda3\\envs\\gaiavenv\\lib\\site-packages (from llama-index-core<0.11.0,>=0.10.20->llama-index==0.10.20) (0.27.0)\n",
      "Requirement already satisfied: llamaindex-py-client<0.2.0,>=0.1.18 in c:\\users\\kalin\\miniconda3\\envs\\gaiavenv\\lib\\site-packages (from llama-index-core<0.11.0,>=0.10.20->llama-index==0.10.20) (0.1.19)\n",
      "Requirement already satisfied: nest-asyncio<2.0.0,>=1.5.8 in c:\\users\\kalin\\miniconda3\\envs\\gaiavenv\\lib\\site-packages (from llama-index-core<0.11.0,>=0.10.20->llama-index==0.10.20) (1.6.0)\n",
      "Requirement already satisfied: networkx>=3.0 in c:\\users\\kalin\\miniconda3\\envs\\gaiavenv\\lib\\site-packages (from llama-index-core<0.11.0,>=0.10.20->llama-index==0.10.20) (3.2.1)\n",
      "Requirement already satisfied: nltk<4.0.0,>=3.8.1 in c:\\users\\kalin\\miniconda3\\envs\\gaiavenv\\lib\\site-packages (from llama-index-core<0.11.0,>=0.10.20->llama-index==0.10.20) (3.8.1)\n",
      "Requirement already satisfied: numpy in c:\\users\\kalin\\miniconda3\\envs\\gaiavenv\\lib\\site-packages (from llama-index-core<0.11.0,>=0.10.20->llama-index==0.10.20) (1.26.4)\n",
      "Requirement already satisfied: openai>=1.1.0 in c:\\users\\kalin\\miniconda3\\envs\\gaiavenv\\lib\\site-packages (from llama-index-core<0.11.0,>=0.10.20->llama-index==0.10.20) (1.27.0)\n",
      "Requirement already satisfied: pandas in c:\\users\\kalin\\miniconda3\\envs\\gaiavenv\\lib\\site-packages (from llama-index-core<0.11.0,>=0.10.20->llama-index==0.10.20) (2.2.2)\n",
      "Requirement already satisfied: pillow>=9.0.0 in c:\\users\\kalin\\miniconda3\\envs\\gaiavenv\\lib\\site-packages (from llama-index-core<0.11.0,>=0.10.20->llama-index==0.10.20) (10.3.0)\n",
      "Requirement already satisfied: requests>=2.31.0 in c:\\users\\kalin\\miniconda3\\envs\\gaiavenv\\lib\\site-packages (from llama-index-core<0.11.0,>=0.10.20->llama-index==0.10.20) (2.31.0)\n",
      "Requirement already satisfied: tenacity<9.0.0,>=8.2.0 in c:\\users\\kalin\\miniconda3\\envs\\gaiavenv\\lib\\site-packages (from llama-index-core<0.11.0,>=0.10.20->llama-index==0.10.20) (8.3.0)\n",
      "Requirement already satisfied: tiktoken>=0.3.3 in c:\\users\\kalin\\miniconda3\\envs\\gaiavenv\\lib\\site-packages (from llama-index-core<0.11.0,>=0.10.20->llama-index==0.10.20) (0.6.0)\n",
      "Requirement already satisfied: tqdm<5.0.0,>=4.66.1 in c:\\users\\kalin\\miniconda3\\envs\\gaiavenv\\lib\\site-packages (from llama-index-core<0.11.0,>=0.10.20->llama-index==0.10.20) (4.66.4)\n",
      "Requirement already satisfied: typing-extensions>=4.5.0 in c:\\users\\kalin\\miniconda3\\envs\\gaiavenv\\lib\\site-packages (from llama-index-core<0.11.0,>=0.10.20->llama-index==0.10.20) (4.11.0)\n",
      "Requirement already satisfied: typing-inspect>=0.8.0 in c:\\users\\kalin\\miniconda3\\envs\\gaiavenv\\lib\\site-packages (from llama-index-core<0.11.0,>=0.10.20->llama-index==0.10.20) (0.9.0)\n",
      "Requirement already satisfied: wrapt in c:\\users\\kalin\\miniconda3\\envs\\gaiavenv\\lib\\site-packages (from llama-index-core<0.11.0,>=0.10.20->llama-index==0.10.20) (1.16.0)\n",
      "Requirement already satisfied: beautifulsoup4<5.0.0,>=4.12.3 in c:\\users\\kalin\\miniconda3\\envs\\gaiavenv\\lib\\site-packages (from llama-index-readers-file<0.2.0,>=0.1.4->llama-index==0.10.20) (4.12.3)\n",
      "Requirement already satisfied: pypdf<5.0.0,>=4.0.1 in c:\\users\\kalin\\miniconda3\\envs\\gaiavenv\\lib\\site-packages (from llama-index-readers-file<0.2.0,>=0.1.4->llama-index==0.10.20) (4.2.0)\n",
      "Requirement already satisfied: striprtf<0.0.27,>=0.0.26 in c:\\users\\kalin\\miniconda3\\envs\\gaiavenv\\lib\\site-packages (from llama-index-readers-file<0.2.0,>=0.1.4->llama-index==0.10.20) (0.0.26)\n",
      "Requirement already satisfied: llama-parse<0.5.0,>=0.4.0 in c:\\users\\kalin\\miniconda3\\envs\\gaiavenv\\lib\\site-packages (from llama-index-readers-llama-parse<0.2.0,>=0.1.2->llama-index==0.10.20) (0.4.2)\n",
      "Requirement already satisfied: aiosignal>=1.1.2 in c:\\users\\kalin\\miniconda3\\envs\\gaiavenv\\lib\\site-packages (from aiohttp<4.0.0,>=3.8.6->llama-index-core<0.11.0,>=0.10.20->llama-index==0.10.20) (1.3.1)\n",
      "Requirement already satisfied: attrs>=17.3.0 in c:\\users\\kalin\\miniconda3\\envs\\gaiavenv\\lib\\site-packages (from aiohttp<4.0.0,>=3.8.6->llama-index-core<0.11.0,>=0.10.20->llama-index==0.10.20) (23.2.0)\n",
      "Requirement already satisfied: frozenlist>=1.1.1 in c:\\users\\kalin\\miniconda3\\envs\\gaiavenv\\lib\\site-packages (from aiohttp<4.0.0,>=3.8.6->llama-index-core<0.11.0,>=0.10.20->llama-index==0.10.20) (1.4.1)\n",
      "Requirement already satisfied: multidict<7.0,>=4.5 in c:\\users\\kalin\\miniconda3\\envs\\gaiavenv\\lib\\site-packages (from aiohttp<4.0.0,>=3.8.6->llama-index-core<0.11.0,>=0.10.20->llama-index==0.10.20) (6.0.5)\n",
      "Requirement already satisfied: yarl<2.0,>=1.0 in c:\\users\\kalin\\miniconda3\\envs\\gaiavenv\\lib\\site-packages (from aiohttp<4.0.0,>=3.8.6->llama-index-core<0.11.0,>=0.10.20->llama-index==0.10.20) (1.9.4)\n",
      "Requirement already satisfied: async-timeout<5.0,>=4.0 in c:\\users\\kalin\\miniconda3\\envs\\gaiavenv\\lib\\site-packages (from aiohttp<4.0.0,>=3.8.6->llama-index-core<0.11.0,>=0.10.20->llama-index==0.10.20) (4.0.3)\n",
      "Requirement already satisfied: soupsieve>1.2 in c:\\users\\kalin\\miniconda3\\envs\\gaiavenv\\lib\\site-packages (from beautifulsoup4<5.0.0,>=4.12.3->llama-index-readers-file<0.2.0,>=0.1.4->llama-index==0.10.20) (2.5)\n",
      "Requirement already satisfied: pydantic>=1.10 in c:\\users\\kalin\\miniconda3\\envs\\gaiavenv\\lib\\site-packages (from llamaindex-py-client<0.2.0,>=0.1.18->llama-index-core<0.11.0,>=0.10.20->llama-index==0.10.20) (2.7.1)\n",
      "Requirement already satisfied: anyio in c:\\users\\kalin\\miniconda3\\envs\\gaiavenv\\lib\\site-packages (from httpx->llama-index-core<0.11.0,>=0.10.20->llama-index==0.10.20) (4.3.0)\n",
      "Requirement already satisfied: certifi in c:\\users\\kalin\\miniconda3\\envs\\gaiavenv\\lib\\site-packages (from httpx->llama-index-core<0.11.0,>=0.10.20->llama-index==0.10.20) (2024.2.2)\n",
      "Requirement already satisfied: httpcore==1.* in c:\\users\\kalin\\miniconda3\\envs\\gaiavenv\\lib\\site-packages (from httpx->llama-index-core<0.11.0,>=0.10.20->llama-index==0.10.20) (1.0.5)\n",
      "Requirement already satisfied: idna in c:\\users\\kalin\\miniconda3\\envs\\gaiavenv\\lib\\site-packages (from httpx->llama-index-core<0.11.0,>=0.10.20->llama-index==0.10.20) (3.7)\n",
      "Requirement already satisfied: sniffio in c:\\users\\kalin\\miniconda3\\envs\\gaiavenv\\lib\\site-packages (from httpx->llama-index-core<0.11.0,>=0.10.20->llama-index==0.10.20) (1.3.1)\n",
      "Requirement already satisfied: h11<0.15,>=0.13 in c:\\users\\kalin\\miniconda3\\envs\\gaiavenv\\lib\\site-packages (from httpcore==1.*->httpx->llama-index-core<0.11.0,>=0.10.20->llama-index==0.10.20) (0.14.0)\n",
      "Requirement already satisfied: click in c:\\users\\kalin\\miniconda3\\envs\\gaiavenv\\lib\\site-packages (from nltk<4.0.0,>=3.8.1->llama-index-core<0.11.0,>=0.10.20->llama-index==0.10.20) (8.1.7)\n",
      "Requirement already satisfied: joblib in c:\\users\\kalin\\miniconda3\\envs\\gaiavenv\\lib\\site-packages (from nltk<4.0.0,>=3.8.1->llama-index-core<0.11.0,>=0.10.20->llama-index==0.10.20) (1.4.2)\n",
      "Requirement already satisfied: regex>=2021.8.3 in c:\\users\\kalin\\miniconda3\\envs\\gaiavenv\\lib\\site-packages (from nltk<4.0.0,>=3.8.1->llama-index-core<0.11.0,>=0.10.20->llama-index==0.10.20) (2024.4.28)\n",
      "Requirement already satisfied: distro<2,>=1.7.0 in c:\\users\\kalin\\miniconda3\\envs\\gaiavenv\\lib\\site-packages (from openai>=1.1.0->llama-index-core<0.11.0,>=0.10.20->llama-index==0.10.20) (1.9.0)\n",
      "Requirement already satisfied: charset-normalizer<4,>=2 in c:\\users\\kalin\\miniconda3\\envs\\gaiavenv\\lib\\site-packages (from requests>=2.31.0->llama-index-core<0.11.0,>=0.10.20->llama-index==0.10.20) (3.3.2)\n",
      "Requirement already satisfied: urllib3<3,>=1.21.1 in c:\\users\\kalin\\miniconda3\\envs\\gaiavenv\\lib\\site-packages (from requests>=2.31.0->llama-index-core<0.11.0,>=0.10.20->llama-index==0.10.20) (2.2.1)\n",
      "Requirement already satisfied: greenlet!=0.4.17 in c:\\users\\kalin\\miniconda3\\envs\\gaiavenv\\lib\\site-packages (from SQLAlchemy>=1.4.49->SQLAlchemy[asyncio]>=1.4.49->llama-index-core<0.11.0,>=0.10.20->llama-index==0.10.20) (3.0.3)\n",
      "Requirement already satisfied: colorama in c:\\users\\kalin\\miniconda3\\envs\\gaiavenv\\lib\\site-packages (from tqdm<5.0.0,>=4.66.1->llama-index-core<0.11.0,>=0.10.20->llama-index==0.10.20) (0.4.6)\n",
      "Requirement already satisfied: mypy-extensions>=0.3.0 in c:\\users\\kalin\\miniconda3\\envs\\gaiavenv\\lib\\site-packages (from typing-inspect>=0.8.0->llama-index-core<0.11.0,>=0.10.20->llama-index==0.10.20) (1.0.0)\n",
      "Requirement already satisfied: marshmallow<4.0.0,>=3.18.0 in c:\\users\\kalin\\miniconda3\\envs\\gaiavenv\\lib\\site-packages (from dataclasses-json->llama-index-core<0.11.0,>=0.10.20->llama-index==0.10.20) (3.21.2)\n",
      "Requirement already satisfied: python-dateutil>=2.8.2 in c:\\users\\kalin\\miniconda3\\envs\\gaiavenv\\lib\\site-packages (from pandas->llama-index-core<0.11.0,>=0.10.20->llama-index==0.10.20) (2.9.0.post0)\n",
      "Requirement already satisfied: pytz>=2020.1 in c:\\users\\kalin\\miniconda3\\envs\\gaiavenv\\lib\\site-packages (from pandas->llama-index-core<0.11.0,>=0.10.20->llama-index==0.10.20) (2024.1)\n",
      "Requirement already satisfied: tzdata>=2022.7 in c:\\users\\kalin\\miniconda3\\envs\\gaiavenv\\lib\\site-packages (from pandas->llama-index-core<0.11.0,>=0.10.20->llama-index==0.10.20) (2024.1)\n",
      "Requirement already satisfied: exceptiongroup>=1.0.2 in c:\\users\\kalin\\miniconda3\\envs\\gaiavenv\\lib\\site-packages (from anyio->httpx->llama-index-core<0.11.0,>=0.10.20->llama-index==0.10.20) (1.2.0)\n",
      "Requirement already satisfied: packaging>=17.0 in c:\\users\\kalin\\miniconda3\\envs\\gaiavenv\\lib\\site-packages (from marshmallow<4.0.0,>=3.18.0->dataclasses-json->llama-index-core<0.11.0,>=0.10.20->llama-index==0.10.20) (24.0)\n",
      "Requirement already satisfied: annotated-types>=0.4.0 in c:\\users\\kalin\\miniconda3\\envs\\gaiavenv\\lib\\site-packages (from pydantic>=1.10->llamaindex-py-client<0.2.0,>=0.1.18->llama-index-core<0.11.0,>=0.10.20->llama-index==0.10.20) (0.6.0)\n",
      "Requirement already satisfied: pydantic-core==2.18.2 in c:\\users\\kalin\\miniconda3\\envs\\gaiavenv\\lib\\site-packages (from pydantic>=1.10->llamaindex-py-client<0.2.0,>=0.1.18->llama-index-core<0.11.0,>=0.10.20->llama-index==0.10.20) (2.18.2)\n",
      "Requirement already satisfied: six>=1.5 in c:\\users\\kalin\\miniconda3\\envs\\gaiavenv\\lib\\site-packages (from python-dateutil>=2.8.2->pandas->llama-index-core<0.11.0,>=0.10.20->llama-index==0.10.20) (1.16.0)\n",
      "Using cached llama_index-0.10.20-py3-none-any.whl (5.6 kB)\n",
      "Using cached llama_index_agent_openai-0.1.7-py3-none-any.whl (12 kB)\n",
      "Installing collected packages: llama-index-agent-openai, llama-index\n",
      "  Attempting uninstall: llama-index-agent-openai\n",
      "    Found existing installation: llama-index-agent-openai 0.2.4\n",
      "    Uninstalling llama-index-agent-openai-0.2.4:\n",
      "      Successfully uninstalled llama-index-agent-openai-0.2.4\n",
      "  Attempting uninstall: llama-index\n",
      "    Found existing installation: llama-index 0.10.36\n",
      "    Uninstalling llama-index-0.10.36:\n",
      "      Successfully uninstalled llama-index-0.10.36\n",
      "Successfully installed llama-index-0.10.20 llama-index-agent-openai-0.1.7\n",
      "Requirement already satisfied: python-dotenv==1.0.1 in c:\\users\\kalin\\miniconda3\\envs\\gaiavenv\\lib\\site-packages (1.0.1)\n",
      "Collecting llama-index-embeddings-huggingface==0.1.4\n",
      "  Using cached llama_index_embeddings_huggingface-0.1.4-py3-none-any.whl.metadata (806 bytes)\n",
      "Requirement already satisfied: huggingface-hub>=0.19.0 in c:\\users\\kalin\\miniconda3\\envs\\gaiavenv\\lib\\site-packages (from huggingface-hub[inference]>=0.19.0->llama-index-embeddings-huggingface==0.1.4) (0.23.0)\n",
      "Requirement already satisfied: llama-index-core<0.11.0,>=0.10.1 in c:\\users\\kalin\\miniconda3\\envs\\gaiavenv\\lib\\site-packages (from llama-index-embeddings-huggingface==0.1.4) (0.10.36)\n",
      "Requirement already satisfied: torch<3.0.0,>=2.1.2 in c:\\users\\kalin\\miniconda3\\envs\\gaiavenv\\lib\\site-packages (from llama-index-embeddings-huggingface==0.1.4) (2.2.1)\n",
      "Requirement already satisfied: transformers<5.0.0,>=4.37.0 in c:\\users\\kalin\\miniconda3\\envs\\gaiavenv\\lib\\site-packages (from llama-index-embeddings-huggingface==0.1.4) (4.40.2)\n",
      "Requirement already satisfied: filelock in c:\\users\\kalin\\miniconda3\\envs\\gaiavenv\\lib\\site-packages (from huggingface-hub>=0.19.0->huggingface-hub[inference]>=0.19.0->llama-index-embeddings-huggingface==0.1.4) (3.14.0)\n",
      "Requirement already satisfied: fsspec>=2023.5.0 in c:\\users\\kalin\\miniconda3\\envs\\gaiavenv\\lib\\site-packages (from huggingface-hub>=0.19.0->huggingface-hub[inference]>=0.19.0->llama-index-embeddings-huggingface==0.1.4) (2024.3.1)\n",
      "Requirement already satisfied: packaging>=20.9 in c:\\users\\kalin\\miniconda3\\envs\\gaiavenv\\lib\\site-packages (from huggingface-hub>=0.19.0->huggingface-hub[inference]>=0.19.0->llama-index-embeddings-huggingface==0.1.4) (24.0)\n",
      "Requirement already satisfied: pyyaml>=5.1 in c:\\users\\kalin\\miniconda3\\envs\\gaiavenv\\lib\\site-packages (from huggingface-hub>=0.19.0->huggingface-hub[inference]>=0.19.0->llama-index-embeddings-huggingface==0.1.4) (6.0.1)\n",
      "Requirement already satisfied: requests in c:\\users\\kalin\\miniconda3\\envs\\gaiavenv\\lib\\site-packages (from huggingface-hub>=0.19.0->huggingface-hub[inference]>=0.19.0->llama-index-embeddings-huggingface==0.1.4) (2.31.0)\n",
      "Requirement already satisfied: tqdm>=4.42.1 in c:\\users\\kalin\\miniconda3\\envs\\gaiavenv\\lib\\site-packages (from huggingface-hub>=0.19.0->huggingface-hub[inference]>=0.19.0->llama-index-embeddings-huggingface==0.1.4) (4.66.4)\n",
      "Requirement already satisfied: typing-extensions>=3.7.4.3 in c:\\users\\kalin\\miniconda3\\envs\\gaiavenv\\lib\\site-packages (from huggingface-hub>=0.19.0->huggingface-hub[inference]>=0.19.0->llama-index-embeddings-huggingface==0.1.4) (4.11.0)\n",
      "Requirement already satisfied: aiohttp in c:\\users\\kalin\\miniconda3\\envs\\gaiavenv\\lib\\site-packages (from huggingface-hub[inference]>=0.19.0->llama-index-embeddings-huggingface==0.1.4) (3.9.5)\n",
      "Collecting minijinja>=1.0 (from huggingface-hub[inference]>=0.19.0->llama-index-embeddings-huggingface==0.1.4)\n",
      "  Using cached minijinja-2.0.1-cp38-abi3-win_amd64.whl.metadata (9.0 kB)\n",
      "Requirement already satisfied: SQLAlchemy>=1.4.49 in c:\\users\\kalin\\miniconda3\\envs\\gaiavenv\\lib\\site-packages (from SQLAlchemy[asyncio]>=1.4.49->llama-index-core<0.11.0,>=0.10.1->llama-index-embeddings-huggingface==0.1.4) (2.0.30)\n",
      "Requirement already satisfied: dataclasses-json in c:\\users\\kalin\\miniconda3\\envs\\gaiavenv\\lib\\site-packages (from llama-index-core<0.11.0,>=0.10.1->llama-index-embeddings-huggingface==0.1.4) (0.6.5)\n",
      "Requirement already satisfied: deprecated>=1.2.9.3 in c:\\users\\kalin\\miniconda3\\envs\\gaiavenv\\lib\\site-packages (from llama-index-core<0.11.0,>=0.10.1->llama-index-embeddings-huggingface==0.1.4) (1.2.14)\n",
      "Requirement already satisfied: dirtyjson<2.0.0,>=1.0.8 in c:\\users\\kalin\\miniconda3\\envs\\gaiavenv\\lib\\site-packages (from llama-index-core<0.11.0,>=0.10.1->llama-index-embeddings-huggingface==0.1.4) (1.0.8)\n",
      "Requirement already satisfied: httpx in c:\\users\\kalin\\miniconda3\\envs\\gaiavenv\\lib\\site-packages (from llama-index-core<0.11.0,>=0.10.1->llama-index-embeddings-huggingface==0.1.4) (0.27.0)\n",
      "Requirement already satisfied: llamaindex-py-client<0.2.0,>=0.1.18 in c:\\users\\kalin\\miniconda3\\envs\\gaiavenv\\lib\\site-packages (from llama-index-core<0.11.0,>=0.10.1->llama-index-embeddings-huggingface==0.1.4) (0.1.19)\n",
      "Requirement already satisfied: nest-asyncio<2.0.0,>=1.5.8 in c:\\users\\kalin\\miniconda3\\envs\\gaiavenv\\lib\\site-packages (from llama-index-core<0.11.0,>=0.10.1->llama-index-embeddings-huggingface==0.1.4) (1.6.0)\n",
      "Requirement already satisfied: networkx>=3.0 in c:\\users\\kalin\\miniconda3\\envs\\gaiavenv\\lib\\site-packages (from llama-index-core<0.11.0,>=0.10.1->llama-index-embeddings-huggingface==0.1.4) (3.2.1)\n",
      "Requirement already satisfied: nltk<4.0.0,>=3.8.1 in c:\\users\\kalin\\miniconda3\\envs\\gaiavenv\\lib\\site-packages (from llama-index-core<0.11.0,>=0.10.1->llama-index-embeddings-huggingface==0.1.4) (3.8.1)\n",
      "Requirement already satisfied: numpy in c:\\users\\kalin\\miniconda3\\envs\\gaiavenv\\lib\\site-packages (from llama-index-core<0.11.0,>=0.10.1->llama-index-embeddings-huggingface==0.1.4) (1.26.4)\n",
      "Requirement already satisfied: openai>=1.1.0 in c:\\users\\kalin\\miniconda3\\envs\\gaiavenv\\lib\\site-packages (from llama-index-core<0.11.0,>=0.10.1->llama-index-embeddings-huggingface==0.1.4) (1.27.0)\n",
      "Requirement already satisfied: pandas in c:\\users\\kalin\\miniconda3\\envs\\gaiavenv\\lib\\site-packages (from llama-index-core<0.11.0,>=0.10.1->llama-index-embeddings-huggingface==0.1.4) (2.2.2)\n",
      "Requirement already satisfied: pillow>=9.0.0 in c:\\users\\kalin\\miniconda3\\envs\\gaiavenv\\lib\\site-packages (from llama-index-core<0.11.0,>=0.10.1->llama-index-embeddings-huggingface==0.1.4) (10.3.0)\n",
      "Requirement already satisfied: tenacity<9.0.0,>=8.2.0 in c:\\users\\kalin\\miniconda3\\envs\\gaiavenv\\lib\\site-packages (from llama-index-core<0.11.0,>=0.10.1->llama-index-embeddings-huggingface==0.1.4) (8.3.0)\n",
      "Requirement already satisfied: tiktoken>=0.3.3 in c:\\users\\kalin\\miniconda3\\envs\\gaiavenv\\lib\\site-packages (from llama-index-core<0.11.0,>=0.10.1->llama-index-embeddings-huggingface==0.1.4) (0.6.0)\n",
      "Requirement already satisfied: typing-inspect>=0.8.0 in c:\\users\\kalin\\miniconda3\\envs\\gaiavenv\\lib\\site-packages (from llama-index-core<0.11.0,>=0.10.1->llama-index-embeddings-huggingface==0.1.4) (0.9.0)\n",
      "Requirement already satisfied: wrapt in c:\\users\\kalin\\miniconda3\\envs\\gaiavenv\\lib\\site-packages (from llama-index-core<0.11.0,>=0.10.1->llama-index-embeddings-huggingface==0.1.4) (1.16.0)\n",
      "Requirement already satisfied: sympy in c:\\users\\kalin\\miniconda3\\envs\\gaiavenv\\lib\\site-packages (from torch<3.0.0,>=2.1.2->llama-index-embeddings-huggingface==0.1.4) (1.12)\n",
      "Requirement already satisfied: jinja2 in c:\\users\\kalin\\miniconda3\\envs\\gaiavenv\\lib\\site-packages (from torch<3.0.0,>=2.1.2->llama-index-embeddings-huggingface==0.1.4) (3.1.4)\n",
      "Requirement already satisfied: regex!=2019.12.17 in c:\\users\\kalin\\miniconda3\\envs\\gaiavenv\\lib\\site-packages (from transformers<5.0.0,>=4.37.0->llama-index-embeddings-huggingface==0.1.4) (2024.4.28)\n",
      "Requirement already satisfied: tokenizers<0.20,>=0.19 in c:\\users\\kalin\\miniconda3\\envs\\gaiavenv\\lib\\site-packages (from transformers<5.0.0,>=4.37.0->llama-index-embeddings-huggingface==0.1.4) (0.19.1)\n",
      "Requirement already satisfied: safetensors>=0.4.1 in c:\\users\\kalin\\miniconda3\\envs\\gaiavenv\\lib\\site-packages (from transformers<5.0.0,>=4.37.0->llama-index-embeddings-huggingface==0.1.4) (0.4.3)\n",
      "Requirement already satisfied: aiosignal>=1.1.2 in c:\\users\\kalin\\miniconda3\\envs\\gaiavenv\\lib\\site-packages (from aiohttp->huggingface-hub[inference]>=0.19.0->llama-index-embeddings-huggingface==0.1.4) (1.3.1)\n",
      "Requirement already satisfied: attrs>=17.3.0 in c:\\users\\kalin\\miniconda3\\envs\\gaiavenv\\lib\\site-packages (from aiohttp->huggingface-hub[inference]>=0.19.0->llama-index-embeddings-huggingface==0.1.4) (23.2.0)\n",
      "Requirement already satisfied: frozenlist>=1.1.1 in c:\\users\\kalin\\miniconda3\\envs\\gaiavenv\\lib\\site-packages (from aiohttp->huggingface-hub[inference]>=0.19.0->llama-index-embeddings-huggingface==0.1.4) (1.4.1)\n",
      "Requirement already satisfied: multidict<7.0,>=4.5 in c:\\users\\kalin\\miniconda3\\envs\\gaiavenv\\lib\\site-packages (from aiohttp->huggingface-hub[inference]>=0.19.0->llama-index-embeddings-huggingface==0.1.4) (6.0.5)\n",
      "Requirement already satisfied: yarl<2.0,>=1.0 in c:\\users\\kalin\\miniconda3\\envs\\gaiavenv\\lib\\site-packages (from aiohttp->huggingface-hub[inference]>=0.19.0->llama-index-embeddings-huggingface==0.1.4) (1.9.4)\n",
      "Requirement already satisfied: async-timeout<5.0,>=4.0 in c:\\users\\kalin\\miniconda3\\envs\\gaiavenv\\lib\\site-packages (from aiohttp->huggingface-hub[inference]>=0.19.0->llama-index-embeddings-huggingface==0.1.4) (4.0.3)\n",
      "Requirement already satisfied: pydantic>=1.10 in c:\\users\\kalin\\miniconda3\\envs\\gaiavenv\\lib\\site-packages (from llamaindex-py-client<0.2.0,>=0.1.18->llama-index-core<0.11.0,>=0.10.1->llama-index-embeddings-huggingface==0.1.4) (2.7.1)\n",
      "Requirement already satisfied: anyio in c:\\users\\kalin\\miniconda3\\envs\\gaiavenv\\lib\\site-packages (from httpx->llama-index-core<0.11.0,>=0.10.1->llama-index-embeddings-huggingface==0.1.4) (4.3.0)\n",
      "Requirement already satisfied: certifi in c:\\users\\kalin\\miniconda3\\envs\\gaiavenv\\lib\\site-packages (from httpx->llama-index-core<0.11.0,>=0.10.1->llama-index-embeddings-huggingface==0.1.4) (2024.2.2)\n",
      "Requirement already satisfied: httpcore==1.* in c:\\users\\kalin\\miniconda3\\envs\\gaiavenv\\lib\\site-packages (from httpx->llama-index-core<0.11.0,>=0.10.1->llama-index-embeddings-huggingface==0.1.4) (1.0.5)\n",
      "Requirement already satisfied: idna in c:\\users\\kalin\\miniconda3\\envs\\gaiavenv\\lib\\site-packages (from httpx->llama-index-core<0.11.0,>=0.10.1->llama-index-embeddings-huggingface==0.1.4) (3.7)\n",
      "Requirement already satisfied: sniffio in c:\\users\\kalin\\miniconda3\\envs\\gaiavenv\\lib\\site-packages (from httpx->llama-index-core<0.11.0,>=0.10.1->llama-index-embeddings-huggingface==0.1.4) (1.3.1)\n",
      "Requirement already satisfied: h11<0.15,>=0.13 in c:\\users\\kalin\\miniconda3\\envs\\gaiavenv\\lib\\site-packages (from httpcore==1.*->httpx->llama-index-core<0.11.0,>=0.10.1->llama-index-embeddings-huggingface==0.1.4) (0.14.0)\n",
      "Requirement already satisfied: click in c:\\users\\kalin\\miniconda3\\envs\\gaiavenv\\lib\\site-packages (from nltk<4.0.0,>=3.8.1->llama-index-core<0.11.0,>=0.10.1->llama-index-embeddings-huggingface==0.1.4) (8.1.7)\n",
      "Requirement already satisfied: joblib in c:\\users\\kalin\\miniconda3\\envs\\gaiavenv\\lib\\site-packages (from nltk<4.0.0,>=3.8.1->llama-index-core<0.11.0,>=0.10.1->llama-index-embeddings-huggingface==0.1.4) (1.4.2)\n",
      "Requirement already satisfied: distro<2,>=1.7.0 in c:\\users\\kalin\\miniconda3\\envs\\gaiavenv\\lib\\site-packages (from openai>=1.1.0->llama-index-core<0.11.0,>=0.10.1->llama-index-embeddings-huggingface==0.1.4) (1.9.0)\n",
      "Requirement already satisfied: charset-normalizer<4,>=2 in c:\\users\\kalin\\miniconda3\\envs\\gaiavenv\\lib\\site-packages (from requests->huggingface-hub>=0.19.0->huggingface-hub[inference]>=0.19.0->llama-index-embeddings-huggingface==0.1.4) (3.3.2)\n",
      "Requirement already satisfied: urllib3<3,>=1.21.1 in c:\\users\\kalin\\miniconda3\\envs\\gaiavenv\\lib\\site-packages (from requests->huggingface-hub>=0.19.0->huggingface-hub[inference]>=0.19.0->llama-index-embeddings-huggingface==0.1.4) (2.2.1)\n",
      "Requirement already satisfied: greenlet!=0.4.17 in c:\\users\\kalin\\miniconda3\\envs\\gaiavenv\\lib\\site-packages (from SQLAlchemy>=1.4.49->SQLAlchemy[asyncio]>=1.4.49->llama-index-core<0.11.0,>=0.10.1->llama-index-embeddings-huggingface==0.1.4) (3.0.3)\n",
      "Requirement already satisfied: colorama in c:\\users\\kalin\\miniconda3\\envs\\gaiavenv\\lib\\site-packages (from tqdm>=4.42.1->huggingface-hub>=0.19.0->huggingface-hub[inference]>=0.19.0->llama-index-embeddings-huggingface==0.1.4) (0.4.6)\n",
      "Requirement already satisfied: mypy-extensions>=0.3.0 in c:\\users\\kalin\\miniconda3\\envs\\gaiavenv\\lib\\site-packages (from typing-inspect>=0.8.0->llama-index-core<0.11.0,>=0.10.1->llama-index-embeddings-huggingface==0.1.4) (1.0.0)\n",
      "Requirement already satisfied: marshmallow<4.0.0,>=3.18.0 in c:\\users\\kalin\\miniconda3\\envs\\gaiavenv\\lib\\site-packages (from dataclasses-json->llama-index-core<0.11.0,>=0.10.1->llama-index-embeddings-huggingface==0.1.4) (3.21.2)\n",
      "Requirement already satisfied: MarkupSafe>=2.0 in c:\\users\\kalin\\miniconda3\\envs\\gaiavenv\\lib\\site-packages (from jinja2->torch<3.0.0,>=2.1.2->llama-index-embeddings-huggingface==0.1.4) (2.1.5)\n",
      "Requirement already satisfied: python-dateutil>=2.8.2 in c:\\users\\kalin\\miniconda3\\envs\\gaiavenv\\lib\\site-packages (from pandas->llama-index-core<0.11.0,>=0.10.1->llama-index-embeddings-huggingface==0.1.4) (2.9.0.post0)\n",
      "Requirement already satisfied: pytz>=2020.1 in c:\\users\\kalin\\miniconda3\\envs\\gaiavenv\\lib\\site-packages (from pandas->llama-index-core<0.11.0,>=0.10.1->llama-index-embeddings-huggingface==0.1.4) (2024.1)\n",
      "Requirement already satisfied: tzdata>=2022.7 in c:\\users\\kalin\\miniconda3\\envs\\gaiavenv\\lib\\site-packages (from pandas->llama-index-core<0.11.0,>=0.10.1->llama-index-embeddings-huggingface==0.1.4) (2024.1)\n",
      "Requirement already satisfied: mpmath>=0.19 in c:\\users\\kalin\\miniconda3\\envs\\gaiavenv\\lib\\site-packages (from sympy->torch<3.0.0,>=2.1.2->llama-index-embeddings-huggingface==0.1.4) (1.3.0)\n",
      "Requirement already satisfied: exceptiongroup>=1.0.2 in c:\\users\\kalin\\miniconda3\\envs\\gaiavenv\\lib\\site-packages (from anyio->httpx->llama-index-core<0.11.0,>=0.10.1->llama-index-embeddings-huggingface==0.1.4) (1.2.0)\n",
      "Requirement already satisfied: annotated-types>=0.4.0 in c:\\users\\kalin\\miniconda3\\envs\\gaiavenv\\lib\\site-packages (from pydantic>=1.10->llamaindex-py-client<0.2.0,>=0.1.18->llama-index-core<0.11.0,>=0.10.1->llama-index-embeddings-huggingface==0.1.4) (0.6.0)\n",
      "Requirement already satisfied: pydantic-core==2.18.2 in c:\\users\\kalin\\miniconda3\\envs\\gaiavenv\\lib\\site-packages (from pydantic>=1.10->llamaindex-py-client<0.2.0,>=0.1.18->llama-index-core<0.11.0,>=0.10.1->llama-index-embeddings-huggingface==0.1.4) (2.18.2)\n",
      "Requirement already satisfied: six>=1.5 in c:\\users\\kalin\\miniconda3\\envs\\gaiavenv\\lib\\site-packages (from python-dateutil>=2.8.2->pandas->llama-index-core<0.11.0,>=0.10.1->llama-index-embeddings-huggingface==0.1.4) (1.16.0)\n",
      "Using cached llama_index_embeddings_huggingface-0.1.4-py3-none-any.whl (7.7 kB)\n",
      "Using cached minijinja-2.0.1-cp38-abi3-win_amd64.whl (752 kB)\n",
      "Installing collected packages: minijinja, llama-index-embeddings-huggingface\n",
      "Successfully installed llama-index-embeddings-huggingface-0.1.4 minijinja-2.0.1\n",
      "Collecting llama-index-readers-web==0.1.9\n",
      "  Using cached llama_index_readers_web-0.1.9-py3-none-any.whl.metadata (1.1 kB)\n",
      "Requirement already satisfied: aiohttp<4.0.0,>=3.9.1 in c:\\users\\kalin\\miniconda3\\envs\\gaiavenv\\lib\\site-packages (from llama-index-readers-web==0.1.9) (3.9.5)\n",
      "Requirement already satisfied: beautifulsoup4<5.0.0,>=4.12.3 in c:\\users\\kalin\\miniconda3\\envs\\gaiavenv\\lib\\site-packages (from llama-index-readers-web==0.1.9) (4.12.3)\n",
      "Collecting chromedriver-autoinstaller<0.7.0,>=0.6.3 (from llama-index-readers-web==0.1.9)\n",
      "  Using cached chromedriver_autoinstaller-0.6.4-py3-none-any.whl.metadata (2.1 kB)\n",
      "Collecting html2text<2021.0.0,>=2020.1.16 (from llama-index-readers-web==0.1.9)\n",
      "  Using cached html2text-2020.1.16-py3-none-any.whl.metadata (4.3 kB)\n",
      "Requirement already satisfied: llama-index-core<0.11.0,>=0.10.1 in c:\\users\\kalin\\miniconda3\\envs\\gaiavenv\\lib\\site-packages (from llama-index-readers-web==0.1.9) (0.10.36)\n",
      "Collecting newspaper3k<0.3.0,>=0.2.8 (from llama-index-readers-web==0.1.9)\n",
      "  Using cached newspaper3k-0.2.8-py3-none-any.whl.metadata (11 kB)\n",
      "Collecting playwright<2.0,>=1.30 (from llama-index-readers-web==0.1.9)\n",
      "  Downloading playwright-1.44.0-py3-none-win_amd64.whl.metadata (3.5 kB)\n",
      "Requirement already satisfied: requests<3.0.0,>=2.31.0 in c:\\users\\kalin\\miniconda3\\envs\\gaiavenv\\lib\\site-packages (from llama-index-readers-web==0.1.9) (2.31.0)\n",
      "Collecting selenium<5.0.0,>=4.17.2 (from llama-index-readers-web==0.1.9)\n",
      "  Downloading selenium-4.21.0-py3-none-any.whl.metadata (6.9 kB)\n",
      "Requirement already satisfied: urllib3>=1.1.0 in c:\\users\\kalin\\miniconda3\\envs\\gaiavenv\\lib\\site-packages (from llama-index-readers-web==0.1.9) (2.2.1)\n",
      "Requirement already satisfied: aiosignal>=1.1.2 in c:\\users\\kalin\\miniconda3\\envs\\gaiavenv\\lib\\site-packages (from aiohttp<4.0.0,>=3.9.1->llama-index-readers-web==0.1.9) (1.3.1)\n",
      "Requirement already satisfied: attrs>=17.3.0 in c:\\users\\kalin\\miniconda3\\envs\\gaiavenv\\lib\\site-packages (from aiohttp<4.0.0,>=3.9.1->llama-index-readers-web==0.1.9) (23.2.0)\n",
      "Requirement already satisfied: frozenlist>=1.1.1 in c:\\users\\kalin\\miniconda3\\envs\\gaiavenv\\lib\\site-packages (from aiohttp<4.0.0,>=3.9.1->llama-index-readers-web==0.1.9) (1.4.1)\n",
      "Requirement already satisfied: multidict<7.0,>=4.5 in c:\\users\\kalin\\miniconda3\\envs\\gaiavenv\\lib\\site-packages (from aiohttp<4.0.0,>=3.9.1->llama-index-readers-web==0.1.9) (6.0.5)\n",
      "Requirement already satisfied: yarl<2.0,>=1.0 in c:\\users\\kalin\\miniconda3\\envs\\gaiavenv\\lib\\site-packages (from aiohttp<4.0.0,>=3.9.1->llama-index-readers-web==0.1.9) (1.9.4)\n",
      "Requirement already satisfied: async-timeout<5.0,>=4.0 in c:\\users\\kalin\\miniconda3\\envs\\gaiavenv\\lib\\site-packages (from aiohttp<4.0.0,>=3.9.1->llama-index-readers-web==0.1.9) (4.0.3)\n",
      "Requirement already satisfied: soupsieve>1.2 in c:\\users\\kalin\\miniconda3\\envs\\gaiavenv\\lib\\site-packages (from beautifulsoup4<5.0.0,>=4.12.3->llama-index-readers-web==0.1.9) (2.5)\n",
      "Requirement already satisfied: packaging>=23.1 in c:\\users\\kalin\\miniconda3\\envs\\gaiavenv\\lib\\site-packages (from chromedriver-autoinstaller<0.7.0,>=0.6.3->llama-index-readers-web==0.1.9) (24.0)\n",
      "Requirement already satisfied: PyYAML>=6.0.1 in c:\\users\\kalin\\miniconda3\\envs\\gaiavenv\\lib\\site-packages (from llama-index-core<0.11.0,>=0.10.1->llama-index-readers-web==0.1.9) (6.0.1)\n",
      "Requirement already satisfied: SQLAlchemy>=1.4.49 in c:\\users\\kalin\\miniconda3\\envs\\gaiavenv\\lib\\site-packages (from SQLAlchemy[asyncio]>=1.4.49->llama-index-core<0.11.0,>=0.10.1->llama-index-readers-web==0.1.9) (2.0.30)\n",
      "Requirement already satisfied: dataclasses-json in c:\\users\\kalin\\miniconda3\\envs\\gaiavenv\\lib\\site-packages (from llama-index-core<0.11.0,>=0.10.1->llama-index-readers-web==0.1.9) (0.6.5)\n",
      "Requirement already satisfied: deprecated>=1.2.9.3 in c:\\users\\kalin\\miniconda3\\envs\\gaiavenv\\lib\\site-packages (from llama-index-core<0.11.0,>=0.10.1->llama-index-readers-web==0.1.9) (1.2.14)\n",
      "Requirement already satisfied: dirtyjson<2.0.0,>=1.0.8 in c:\\users\\kalin\\miniconda3\\envs\\gaiavenv\\lib\\site-packages (from llama-index-core<0.11.0,>=0.10.1->llama-index-readers-web==0.1.9) (1.0.8)\n",
      "Requirement already satisfied: fsspec>=2023.5.0 in c:\\users\\kalin\\miniconda3\\envs\\gaiavenv\\lib\\site-packages (from llama-index-core<0.11.0,>=0.10.1->llama-index-readers-web==0.1.9) (2024.3.1)\n",
      "Requirement already satisfied: httpx in c:\\users\\kalin\\miniconda3\\envs\\gaiavenv\\lib\\site-packages (from llama-index-core<0.11.0,>=0.10.1->llama-index-readers-web==0.1.9) (0.27.0)\n",
      "Requirement already satisfied: llamaindex-py-client<0.2.0,>=0.1.18 in c:\\users\\kalin\\miniconda3\\envs\\gaiavenv\\lib\\site-packages (from llama-index-core<0.11.0,>=0.10.1->llama-index-readers-web==0.1.9) (0.1.19)\n",
      "Requirement already satisfied: nest-asyncio<2.0.0,>=1.5.8 in c:\\users\\kalin\\miniconda3\\envs\\gaiavenv\\lib\\site-packages (from llama-index-core<0.11.0,>=0.10.1->llama-index-readers-web==0.1.9) (1.6.0)\n",
      "Requirement already satisfied: networkx>=3.0 in c:\\users\\kalin\\miniconda3\\envs\\gaiavenv\\lib\\site-packages (from llama-index-core<0.11.0,>=0.10.1->llama-index-readers-web==0.1.9) (3.2.1)\n",
      "Requirement already satisfied: nltk<4.0.0,>=3.8.1 in c:\\users\\kalin\\miniconda3\\envs\\gaiavenv\\lib\\site-packages (from llama-index-core<0.11.0,>=0.10.1->llama-index-readers-web==0.1.9) (3.8.1)\n",
      "Requirement already satisfied: numpy in c:\\users\\kalin\\miniconda3\\envs\\gaiavenv\\lib\\site-packages (from llama-index-core<0.11.0,>=0.10.1->llama-index-readers-web==0.1.9) (1.26.4)\n",
      "Requirement already satisfied: openai>=1.1.0 in c:\\users\\kalin\\miniconda3\\envs\\gaiavenv\\lib\\site-packages (from llama-index-core<0.11.0,>=0.10.1->llama-index-readers-web==0.1.9) (1.27.0)\n",
      "Requirement already satisfied: pandas in c:\\users\\kalin\\miniconda3\\envs\\gaiavenv\\lib\\site-packages (from llama-index-core<0.11.0,>=0.10.1->llama-index-readers-web==0.1.9) (2.2.2)\n",
      "Requirement already satisfied: pillow>=9.0.0 in c:\\users\\kalin\\miniconda3\\envs\\gaiavenv\\lib\\site-packages (from llama-index-core<0.11.0,>=0.10.1->llama-index-readers-web==0.1.9) (10.3.0)\n",
      "Requirement already satisfied: tenacity<9.0.0,>=8.2.0 in c:\\users\\kalin\\miniconda3\\envs\\gaiavenv\\lib\\site-packages (from llama-index-core<0.11.0,>=0.10.1->llama-index-readers-web==0.1.9) (8.3.0)\n",
      "Requirement already satisfied: tiktoken>=0.3.3 in c:\\users\\kalin\\miniconda3\\envs\\gaiavenv\\lib\\site-packages (from llama-index-core<0.11.0,>=0.10.1->llama-index-readers-web==0.1.9) (0.6.0)\n",
      "Requirement already satisfied: tqdm<5.0.0,>=4.66.1 in c:\\users\\kalin\\miniconda3\\envs\\gaiavenv\\lib\\site-packages (from llama-index-core<0.11.0,>=0.10.1->llama-index-readers-web==0.1.9) (4.66.4)\n",
      "Requirement already satisfied: typing-extensions>=4.5.0 in c:\\users\\kalin\\miniconda3\\envs\\gaiavenv\\lib\\site-packages (from llama-index-core<0.11.0,>=0.10.1->llama-index-readers-web==0.1.9) (4.11.0)\n",
      "Requirement already satisfied: typing-inspect>=0.8.0 in c:\\users\\kalin\\miniconda3\\envs\\gaiavenv\\lib\\site-packages (from llama-index-core<0.11.0,>=0.10.1->llama-index-readers-web==0.1.9) (0.9.0)\n",
      "Requirement already satisfied: wrapt in c:\\users\\kalin\\miniconda3\\envs\\gaiavenv\\lib\\site-packages (from llama-index-core<0.11.0,>=0.10.1->llama-index-readers-web==0.1.9) (1.16.0)\n",
      "Collecting cssselect>=0.9.2 (from newspaper3k<0.3.0,>=0.2.8->llama-index-readers-web==0.1.9)\n",
      "  Using cached cssselect-1.2.0-py2.py3-none-any.whl.metadata (2.2 kB)\n",
      "Requirement already satisfied: lxml>=3.6.0 in c:\\users\\kalin\\miniconda3\\envs\\gaiavenv\\lib\\site-packages (from newspaper3k<0.3.0,>=0.2.8->llama-index-readers-web==0.1.9) (5.2.1)\n",
      "Collecting feedparser>=5.2.1 (from newspaper3k<0.3.0,>=0.2.8->llama-index-readers-web==0.1.9)\n",
      "  Downloading feedparser-6.0.11-py3-none-any.whl.metadata (2.4 kB)\n",
      "Collecting tldextract>=2.0.1 (from newspaper3k<0.3.0,>=0.2.8->llama-index-readers-web==0.1.9)\n",
      "  Using cached tldextract-5.1.2-py3-none-any.whl.metadata (11 kB)\n",
      "Collecting feedfinder2>=0.0.4 (from newspaper3k<0.3.0,>=0.2.8->llama-index-readers-web==0.1.9)\n",
      "  Using cached feedfinder2-0.0.4-py3-none-any.whl\n",
      "Collecting jieba3k>=0.35.1 (from newspaper3k<0.3.0,>=0.2.8->llama-index-readers-web==0.1.9)\n",
      "  Using cached jieba3k-0.35.1-py3-none-any.whl\n",
      "Requirement already satisfied: python-dateutil>=2.5.3 in c:\\users\\kalin\\miniconda3\\envs\\gaiavenv\\lib\\site-packages (from newspaper3k<0.3.0,>=0.2.8->llama-index-readers-web==0.1.9) (2.9.0.post0)\n",
      "Collecting tinysegmenter==0.3 (from newspaper3k<0.3.0,>=0.2.8->llama-index-readers-web==0.1.9)\n",
      "  Using cached tinysegmenter-0.3-py3-none-any.whl\n",
      "Requirement already satisfied: greenlet==3.0.3 in c:\\users\\kalin\\miniconda3\\envs\\gaiavenv\\lib\\site-packages (from playwright<2.0,>=1.30->llama-index-readers-web==0.1.9) (3.0.3)\n",
      "Collecting pyee==11.1.0 (from playwright<2.0,>=1.30->llama-index-readers-web==0.1.9)\n",
      "  Using cached pyee-11.1.0-py3-none-any.whl.metadata (2.8 kB)\n",
      "Requirement already satisfied: charset-normalizer<4,>=2 in c:\\users\\kalin\\miniconda3\\envs\\gaiavenv\\lib\\site-packages (from requests<3.0.0,>=2.31.0->llama-index-readers-web==0.1.9) (3.3.2)\n",
      "Requirement already satisfied: idna<4,>=2.5 in c:\\users\\kalin\\miniconda3\\envs\\gaiavenv\\lib\\site-packages (from requests<3.0.0,>=2.31.0->llama-index-readers-web==0.1.9) (3.7)\n",
      "Requirement already satisfied: certifi>=2017.4.17 in c:\\users\\kalin\\miniconda3\\envs\\gaiavenv\\lib\\site-packages (from requests<3.0.0,>=2.31.0->llama-index-readers-web==0.1.9) (2024.2.2)\n",
      "Collecting trio~=0.17 (from selenium<5.0.0,>=4.17.2->llama-index-readers-web==0.1.9)\n",
      "  Downloading trio-0.25.1-py3-none-any.whl.metadata (8.7 kB)\n",
      "Collecting trio-websocket~=0.9 (from selenium<5.0.0,>=4.17.2->llama-index-readers-web==0.1.9)\n",
      "  Using cached trio_websocket-0.11.1-py3-none-any.whl.metadata (4.7 kB)\n",
      "Requirement already satisfied: six in c:\\users\\kalin\\miniconda3\\envs\\gaiavenv\\lib\\site-packages (from feedfinder2>=0.0.4->newspaper3k<0.3.0,>=0.2.8->llama-index-readers-web==0.1.9) (1.16.0)\n",
      "Collecting sgmllib3k (from feedparser>=5.2.1->newspaper3k<0.3.0,>=0.2.8->llama-index-readers-web==0.1.9)\n",
      "  Using cached sgmllib3k-1.0.0-py3-none-any.whl\n",
      "Requirement already satisfied: pydantic>=1.10 in c:\\users\\kalin\\miniconda3\\envs\\gaiavenv\\lib\\site-packages (from llamaindex-py-client<0.2.0,>=0.1.18->llama-index-core<0.11.0,>=0.10.1->llama-index-readers-web==0.1.9) (2.7.1)\n",
      "Requirement already satisfied: anyio in c:\\users\\kalin\\miniconda3\\envs\\gaiavenv\\lib\\site-packages (from httpx->llama-index-core<0.11.0,>=0.10.1->llama-index-readers-web==0.1.9) (4.3.0)\n",
      "Requirement already satisfied: httpcore==1.* in c:\\users\\kalin\\miniconda3\\envs\\gaiavenv\\lib\\site-packages (from httpx->llama-index-core<0.11.0,>=0.10.1->llama-index-readers-web==0.1.9) (1.0.5)\n",
      "Requirement already satisfied: sniffio in c:\\users\\kalin\\miniconda3\\envs\\gaiavenv\\lib\\site-packages (from httpx->llama-index-core<0.11.0,>=0.10.1->llama-index-readers-web==0.1.9) (1.3.1)\n",
      "Requirement already satisfied: h11<0.15,>=0.13 in c:\\users\\kalin\\miniconda3\\envs\\gaiavenv\\lib\\site-packages (from httpcore==1.*->httpx->llama-index-core<0.11.0,>=0.10.1->llama-index-readers-web==0.1.9) (0.14.0)\n",
      "Requirement already satisfied: click in c:\\users\\kalin\\miniconda3\\envs\\gaiavenv\\lib\\site-packages (from nltk<4.0.0,>=3.8.1->llama-index-core<0.11.0,>=0.10.1->llama-index-readers-web==0.1.9) (8.1.7)\n",
      "Requirement already satisfied: joblib in c:\\users\\kalin\\miniconda3\\envs\\gaiavenv\\lib\\site-packages (from nltk<4.0.0,>=3.8.1->llama-index-core<0.11.0,>=0.10.1->llama-index-readers-web==0.1.9) (1.4.2)\n",
      "Requirement already satisfied: regex>=2021.8.3 in c:\\users\\kalin\\miniconda3\\envs\\gaiavenv\\lib\\site-packages (from nltk<4.0.0,>=3.8.1->llama-index-core<0.11.0,>=0.10.1->llama-index-readers-web==0.1.9) (2024.4.28)\n",
      "Requirement already satisfied: distro<2,>=1.7.0 in c:\\users\\kalin\\miniconda3\\envs\\gaiavenv\\lib\\site-packages (from openai>=1.1.0->llama-index-core<0.11.0,>=0.10.1->llama-index-readers-web==0.1.9) (1.9.0)\n",
      "Collecting requests-file>=1.4 (from tldextract>=2.0.1->newspaper3k<0.3.0,>=0.2.8->llama-index-readers-web==0.1.9)\n",
      "  Using cached requests_file-2.0.0-py2.py3-none-any.whl.metadata (1.7 kB)\n",
      "Requirement already satisfied: filelock>=3.0.8 in c:\\users\\kalin\\miniconda3\\envs\\gaiavenv\\lib\\site-packages (from tldextract>=2.0.1->newspaper3k<0.3.0,>=0.2.8->llama-index-readers-web==0.1.9) (3.14.0)\n",
      "Requirement already satisfied: colorama in c:\\users\\kalin\\miniconda3\\envs\\gaiavenv\\lib\\site-packages (from tqdm<5.0.0,>=4.66.1->llama-index-core<0.11.0,>=0.10.1->llama-index-readers-web==0.1.9) (0.4.6)\n",
      "Collecting sortedcontainers (from trio~=0.17->selenium<5.0.0,>=4.17.2->llama-index-readers-web==0.1.9)\n",
      "  Using cached sortedcontainers-2.4.0-py2.py3-none-any.whl.metadata (10 kB)\n",
      "Collecting outcome (from trio~=0.17->selenium<5.0.0,>=4.17.2->llama-index-readers-web==0.1.9)\n",
      "  Using cached outcome-1.3.0.post0-py2.py3-none-any.whl.metadata (2.6 kB)\n",
      "Requirement already satisfied: cffi>=1.14 in c:\\users\\kalin\\miniconda3\\envs\\gaiavenv\\lib\\site-packages (from trio~=0.17->selenium<5.0.0,>=4.17.2->llama-index-readers-web==0.1.9) (1.16.0)\n",
      "Requirement already satisfied: exceptiongroup in c:\\users\\kalin\\miniconda3\\envs\\gaiavenv\\lib\\site-packages (from trio~=0.17->selenium<5.0.0,>=4.17.2->llama-index-readers-web==0.1.9) (1.2.0)\n",
      "Collecting wsproto>=0.14 (from trio-websocket~=0.9->selenium<5.0.0,>=4.17.2->llama-index-readers-web==0.1.9)\n",
      "  Using cached wsproto-1.2.0-py3-none-any.whl.metadata (5.6 kB)\n",
      "Requirement already satisfied: mypy-extensions>=0.3.0 in c:\\users\\kalin\\miniconda3\\envs\\gaiavenv\\lib\\site-packages (from typing-inspect>=0.8.0->llama-index-core<0.11.0,>=0.10.1->llama-index-readers-web==0.1.9) (1.0.0)\n",
      "Collecting pysocks!=1.5.7,<2.0,>=1.5.6 (from urllib3[socks]<3,>=1.26->selenium<5.0.0,>=4.17.2->llama-index-readers-web==0.1.9)\n",
      "  Using cached PySocks-1.7.1-py3-none-any.whl.metadata (13 kB)\n",
      "Requirement already satisfied: marshmallow<4.0.0,>=3.18.0 in c:\\users\\kalin\\miniconda3\\envs\\gaiavenv\\lib\\site-packages (from dataclasses-json->llama-index-core<0.11.0,>=0.10.1->llama-index-readers-web==0.1.9) (3.21.2)\n",
      "Requirement already satisfied: pytz>=2020.1 in c:\\users\\kalin\\miniconda3\\envs\\gaiavenv\\lib\\site-packages (from pandas->llama-index-core<0.11.0,>=0.10.1->llama-index-readers-web==0.1.9) (2024.1)\n",
      "Requirement already satisfied: tzdata>=2022.7 in c:\\users\\kalin\\miniconda3\\envs\\gaiavenv\\lib\\site-packages (from pandas->llama-index-core<0.11.0,>=0.10.1->llama-index-readers-web==0.1.9) (2024.1)\n",
      "Requirement already satisfied: pycparser in c:\\users\\kalin\\miniconda3\\envs\\gaiavenv\\lib\\site-packages (from cffi>=1.14->trio~=0.17->selenium<5.0.0,>=4.17.2->llama-index-readers-web==0.1.9) (2.22)\n",
      "Requirement already satisfied: annotated-types>=0.4.0 in c:\\users\\kalin\\miniconda3\\envs\\gaiavenv\\lib\\site-packages (from pydantic>=1.10->llamaindex-py-client<0.2.0,>=0.1.18->llama-index-core<0.11.0,>=0.10.1->llama-index-readers-web==0.1.9) (0.6.0)\n",
      "Requirement already satisfied: pydantic-core==2.18.2 in c:\\users\\kalin\\miniconda3\\envs\\gaiavenv\\lib\\site-packages (from pydantic>=1.10->llamaindex-py-client<0.2.0,>=0.1.18->llama-index-core<0.11.0,>=0.10.1->llama-index-readers-web==0.1.9) (2.18.2)\n",
      "Using cached llama_index_readers_web-0.1.9-py3-none-any.whl (64 kB)\n",
      "Using cached chromedriver_autoinstaller-0.6.4-py3-none-any.whl (7.6 kB)\n",
      "Using cached html2text-2020.1.16-py3-none-any.whl (32 kB)\n",
      "Using cached newspaper3k-0.2.8-py3-none-any.whl (211 kB)\n",
      "Downloading playwright-1.44.0-py3-none-win_amd64.whl (29.7 MB)\n",
      "   ---------------------------------------- 0.0/29.7 MB ? eta -:--:--\n",
      "   ---------------------------------------- 0.0/29.7 MB ? eta -:--:--\n",
      "   ---------------------------------------- 0.0/29.7 MB 660.6 kB/s eta 0:00:45\n",
      "   ---------------------------------------- 0.1/29.7 MB 880.9 kB/s eta 0:00:34\n",
      "   ---------------------------------------- 0.1/29.7 MB 950.9 kB/s eta 0:00:32\n",
      "   ---------------------------------------- 0.3/29.7 MB 1.6 MB/s eta 0:00:18\n",
      "    --------------------------------------- 0.6/29.7 MB 2.2 MB/s eta 0:00:14\n",
      "    --------------------------------------- 0.7/29.7 MB 2.2 MB/s eta 0:00:14\n",
      "   - -------------------------------------- 1.0/29.7 MB 3.1 MB/s eta 0:00:10\n",
      "   -- ------------------------------------- 1.5/29.7 MB 3.9 MB/s eta 0:00:08\n",
      "   -- ------------------------------------- 2.0/29.7 MB 4.5 MB/s eta 0:00:07\n",
      "   --- ------------------------------------ 2.5/29.7 MB 5.2 MB/s eta 0:00:06\n",
      "   --- ------------------------------------ 2.8/29.7 MB 5.3 MB/s eta 0:00:06\n",
      "   ---- ----------------------------------- 3.1/29.7 MB 5.4 MB/s eta 0:00:05\n",
      "   ---- ----------------------------------- 3.4/29.7 MB 5.7 MB/s eta 0:00:05\n",
      "   ----- ---------------------------------- 3.8/29.7 MB 5.8 MB/s eta 0:00:05\n",
      "   ----- ---------------------------------- 4.3/29.7 MB 5.9 MB/s eta 0:00:05\n",
      "   ------ --------------------------------- 4.7/29.7 MB 6.1 MB/s eta 0:00:05\n",
      "   ------ --------------------------------- 5.2/29.7 MB 6.4 MB/s eta 0:00:04\n",
      "   ------- -------------------------------- 5.4/29.7 MB 6.3 MB/s eta 0:00:04\n",
      "   ------- -------------------------------- 5.8/29.7 MB 6.4 MB/s eta 0:00:04\n",
      "   -------- ------------------------------- 6.2/29.7 MB 6.5 MB/s eta 0:00:04\n",
      "   --------- ------------------------------ 6.7/29.7 MB 6.7 MB/s eta 0:00:04\n",
      "   --------- ------------------------------ 6.8/29.7 MB 6.5 MB/s eta 0:00:04\n",
      "   --------- ------------------------------ 7.4/29.7 MB 6.8 MB/s eta 0:00:04\n",
      "   ---------- ----------------------------- 7.8/29.7 MB 6.8 MB/s eta 0:00:04\n",
      "   ---------- ----------------------------- 8.2/29.7 MB 6.9 MB/s eta 0:00:04\n",
      "   ----------- ---------------------------- 8.6/29.7 MB 7.0 MB/s eta 0:00:04\n",
      "   ------------ --------------------------- 8.9/29.7 MB 6.9 MB/s eta 0:00:03\n",
      "   ------------ --------------------------- 9.3/29.7 MB 7.0 MB/s eta 0:00:03\n",
      "   ------------- -------------------------- 9.7/29.7 MB 7.1 MB/s eta 0:00:03\n",
      "   ------------- -------------------------- 9.7/29.7 MB 7.1 MB/s eta 0:00:03\n",
      "   ------------- -------------------------- 10.2/29.7 MB 7.0 MB/s eta 0:00:03\n",
      "   -------------- ------------------------- 10.4/29.7 MB 7.6 MB/s eta 0:00:03\n",
      "   -------------- ------------------------- 10.6/29.7 MB 7.6 MB/s eta 0:00:03\n",
      "   -------------- ------------------------- 10.9/29.7 MB 7.7 MB/s eta 0:00:03\n",
      "   --------------- ------------------------ 11.2/29.7 MB 7.9 MB/s eta 0:00:03\n",
      "   --------------- ------------------------ 11.8/29.7 MB 7.9 MB/s eta 0:00:03\n",
      "   ---------------- ----------------------- 12.4/29.7 MB 7.9 MB/s eta 0:00:03\n",
      "   ----------------- ---------------------- 12.9/29.7 MB 7.9 MB/s eta 0:00:03\n",
      "   ------------------ --------------------- 13.4/29.7 MB 8.0 MB/s eta 0:00:03\n",
      "   ------------------ --------------------- 13.9/29.7 MB 8.1 MB/s eta 0:00:02\n",
      "   ------------------ --------------------- 14.0/29.7 MB 8.1 MB/s eta 0:00:02\n",
      "   ------------------- -------------------- 14.3/29.7 MB 7.9 MB/s eta 0:00:02\n",
      "   -------------------- ------------------- 15.0/29.7 MB 8.1 MB/s eta 0:00:02\n",
      "   -------------------- ------------------- 15.4/29.7 MB 8.1 MB/s eta 0:00:02\n",
      "   --------------------- ------------------ 16.0/29.7 MB 8.3 MB/s eta 0:00:02\n",
      "   ---------------------- ----------------- 16.4/29.7 MB 8.2 MB/s eta 0:00:02\n",
      "   ---------------------- ----------------- 16.8/29.7 MB 8.2 MB/s eta 0:00:02\n",
      "   ----------------------- ---------------- 17.3/29.7 MB 8.4 MB/s eta 0:00:02\n",
      "   ------------------------ --------------- 17.8/29.7 MB 8.5 MB/s eta 0:00:02\n",
      "   ------------------------ --------------- 18.1/29.7 MB 8.5 MB/s eta 0:00:02\n",
      "   ------------------------ --------------- 18.5/29.7 MB 8.4 MB/s eta 0:00:02\n",
      "   ------------------------- -------------- 18.9/29.7 MB 8.4 MB/s eta 0:00:02\n",
      "   ------------------------- -------------- 19.2/29.7 MB 8.4 MB/s eta 0:00:02\n",
      "   -------------------------- ------------- 19.8/29.7 MB 8.6 MB/s eta 0:00:02\n",
      "   --------------------------- ------------ 20.3/29.7 MB 8.8 MB/s eta 0:00:02\n",
      "   ---------------------------- ----------- 20.9/29.7 MB 9.5 MB/s eta 0:00:01\n",
      "   ---------------------------- ----------- 21.1/29.7 MB 9.5 MB/s eta 0:00:01\n",
      "   ---------------------------- ----------- 21.5/29.7 MB 9.5 MB/s eta 0:00:01\n",
      "   ----------------------------- ---------- 21.9/29.7 MB 9.5 MB/s eta 0:00:01\n",
      "   ----------------------------- ---------- 21.9/29.7 MB 9.0 MB/s eta 0:00:01\n",
      "   ------------------------------ --------- 22.3/29.7 MB 8.7 MB/s eta 0:00:01\n",
      "   ------------------------------ --------- 22.5/29.7 MB 8.6 MB/s eta 0:00:01\n",
      "   ------------------------------- -------- 23.0/29.7 MB 8.6 MB/s eta 0:00:01\n",
      "   ------------------------------- -------- 23.4/29.7 MB 8.6 MB/s eta 0:00:01\n",
      "   -------------------------------- ------- 23.8/29.7 MB 8.6 MB/s eta 0:00:01\n",
      "   -------------------------------- ------- 24.2/29.7 MB 8.5 MB/s eta 0:00:01\n",
      "   -------------------------------- ------- 24.4/29.7 MB 8.5 MB/s eta 0:00:01\n",
      "   --------------------------------- ------ 24.8/29.7 MB 8.4 MB/s eta 0:00:01\n",
      "   --------------------------------- ------ 25.1/29.7 MB 8.2 MB/s eta 0:00:01\n",
      "   ---------------------------------- ----- 25.4/29.7 MB 8.1 MB/s eta 0:00:01\n",
      "   ---------------------------------- ----- 26.0/29.7 MB 8.3 MB/s eta 0:00:01\n",
      "   ----------------------------------- ---- 26.3/29.7 MB 8.2 MB/s eta 0:00:01\n",
      "   ----------------------------------- ---- 26.7/29.7 MB 8.0 MB/s eta 0:00:01\n",
      "   ------------------------------------ --- 26.9/29.7 MB 8.1 MB/s eta 0:00:01\n",
      "   ------------------------------------ --- 27.1/29.7 MB 7.8 MB/s eta 0:00:01\n",
      "   ------------------------------------- -- 27.5/29.7 MB 7.8 MB/s eta 0:00:01\n",
      "   ------------------------------------- -- 27.9/29.7 MB 7.6 MB/s eta 0:00:01\n",
      "   ------------------------------------- -- 28.2/29.7 MB 7.6 MB/s eta 0:00:01\n",
      "   -------------------------------------- - 28.3/29.7 MB 7.8 MB/s eta 0:00:01\n",
      "   -------------------------------------- - 28.3/29.7 MB 7.8 MB/s eta 0:00:01\n",
      "   -------------------------------------- - 28.6/29.7 MB 7.2 MB/s eta 0:00:01\n",
      "   -------------------------------------- - 28.9/29.7 MB 7.2 MB/s eta 0:00:01\n",
      "   ---------------------------------------  29.3/29.7 MB 7.1 MB/s eta 0:00:01\n",
      "   ---------------------------------------  29.6/29.7 MB 7.0 MB/s eta 0:00:01\n",
      "   ---------------------------------------  29.7/29.7 MB 6.8 MB/s eta 0:00:01\n",
      "   ---------------------------------------- 29.7/29.7 MB 6.7 MB/s eta 0:00:00\n",
      "Using cached pyee-11.1.0-py3-none-any.whl (15 kB)\n",
      "Downloading selenium-4.21.0-py3-none-any.whl (9.5 MB)\n",
      "   ---------------------------------------- 0.0/9.5 MB ? eta -:--:--\n",
      "    --------------------------------------- 0.2/9.5 MB 4.6 MB/s eta 0:00:03\n",
      "   - -------------------------------------- 0.3/9.5 MB 5.3 MB/s eta 0:00:02\n",
      "   -- ------------------------------------- 0.7/9.5 MB 5.2 MB/s eta 0:00:02\n",
      "   --- ------------------------------------ 0.8/9.5 MB 5.1 MB/s eta 0:00:02\n",
      "   ---- ----------------------------------- 1.0/9.5 MB 4.7 MB/s eta 0:00:02\n",
      "   ---- ----------------------------------- 1.1/9.5 MB 4.5 MB/s eta 0:00:02\n",
      "   ------ --------------------------------- 1.5/9.5 MB 4.9 MB/s eta 0:00:02\n",
      "   ------ --------------------------------- 1.6/9.5 MB 4.6 MB/s eta 0:00:02\n",
      "   ------- -------------------------------- 1.8/9.5 MB 4.5 MB/s eta 0:00:02\n",
      "   -------- ------------------------------- 1.9/9.5 MB 4.2 MB/s eta 0:00:02\n",
      "   --------- ------------------------------ 2.3/9.5 MB 4.5 MB/s eta 0:00:02\n",
      "   ---------- ----------------------------- 2.4/9.5 MB 4.4 MB/s eta 0:00:02\n",
      "   ---------- ----------------------------- 2.6/9.5 MB 4.3 MB/s eta 0:00:02\n",
      "   ----------- ---------------------------- 2.7/9.5 MB 4.2 MB/s eta 0:00:02\n",
      "   ------------ --------------------------- 3.0/9.5 MB 4.5 MB/s eta 0:00:02\n",
      "   --------------- ------------------------ 3.6/9.5 MB 4.9 MB/s eta 0:00:02\n",
      "   ----------------- ---------------------- 4.0/9.5 MB 5.2 MB/s eta 0:00:02\n",
      "   ------------------ --------------------- 4.3/9.5 MB 5.2 MB/s eta 0:00:01\n",
      "   ------------------ --------------------- 4.5/9.5 MB 5.2 MB/s eta 0:00:01\n",
      "   ------------------- -------------------- 4.6/9.5 MB 5.0 MB/s eta 0:00:01\n",
      "   -------------------- ------------------- 4.7/9.5 MB 4.9 MB/s eta 0:00:01\n",
      "   -------------------- ------------------- 4.9/9.5 MB 4.8 MB/s eta 0:00:01\n",
      "   --------------------- ------------------ 5.1/9.5 MB 4.8 MB/s eta 0:00:01\n",
      "   ---------------------- ----------------- 5.3/9.5 MB 4.9 MB/s eta 0:00:01\n",
      "   ------------------------- -------------- 5.9/9.5 MB 5.2 MB/s eta 0:00:01\n",
      "   -------------------------- ------------- 6.4/9.5 MB 5.3 MB/s eta 0:00:01\n",
      "   --------------------------- ------------ 6.4/9.5 MB 5.3 MB/s eta 0:00:01\n",
      "   ---------------------------- ----------- 6.8/9.5 MB 5.3 MB/s eta 0:00:01\n",
      "   ------------------------------ --------- 7.1/9.5 MB 5.4 MB/s eta 0:00:01\n",
      "   ------------------------------- -------- 7.6/9.5 MB 5.5 MB/s eta 0:00:01\n",
      "   ---------------------------------- ----- 8.2/9.5 MB 5.7 MB/s eta 0:00:01\n",
      "   ------------------------------------ --- 8.7/9.5 MB 5.9 MB/s eta 0:00:01\n",
      "   ------------------------------------- -- 9.0/9.5 MB 6.0 MB/s eta 0:00:01\n",
      "   ---------------------------------------  9.5/9.5 MB 6.0 MB/s eta 0:00:01\n",
      "   ---------------------------------------- 9.5/9.5 MB 5.9 MB/s eta 0:00:00\n",
      "Using cached cssselect-1.2.0-py2.py3-none-any.whl (18 kB)\n",
      "Downloading feedparser-6.0.11-py3-none-any.whl (81 kB)\n",
      "   ---------------------------------------- 0.0/81.3 kB ? eta -:--:--\n",
      "   ----------------------------------- ---- 71.7/81.3 kB ? eta -:--:--\n",
      "   ----------------------------------- ---- 71.7/81.3 kB ? eta -:--:--\n",
      "   ----------------------------------- ---- 71.7/81.3 kB ? eta -:--:--\n",
      "   ---------------------------------------- 81.3/81.3 kB 413.4 kB/s eta 0:00:00\n",
      "Using cached tldextract-5.1.2-py3-none-any.whl (97 kB)\n",
      "Downloading trio-0.25.1-py3-none-any.whl (467 kB)\n",
      "   ---------------------------------------- 0.0/467.7 kB ? eta -:--:--\n",
      "   ----------------------- --------------- 276.5/467.7 kB 16.6 MB/s eta 0:00:01\n",
      "   ---------------------------------- ----- 399.4/467.7 kB 6.2 MB/s eta 0:00:01\n",
      "   ---------------------------------------- 467.7/467.7 kB 4.2 MB/s eta 0:00:00\n",
      "Using cached trio_websocket-0.11.1-py3-none-any.whl (17 kB)\n",
      "Using cached PySocks-1.7.1-py3-none-any.whl (16 kB)\n",
      "Using cached requests_file-2.0.0-py2.py3-none-any.whl (4.2 kB)\n",
      "Using cached wsproto-1.2.0-py3-none-any.whl (24 kB)\n",
      "Using cached outcome-1.3.0.post0-py2.py3-none-any.whl (10 kB)\n",
      "Using cached sortedcontainers-2.4.0-py2.py3-none-any.whl (29 kB)\n",
      "Installing collected packages: tinysegmenter, sortedcontainers, sgmllib3k, jieba3k, wsproto, pysocks, pyee, outcome, html2text, feedparser, cssselect, chromedriver-autoinstaller, trio, requests-file, playwright, feedfinder2, trio-websocket, tldextract, selenium, newspaper3k, llama-index-readers-web\n",
      "  Attempting uninstall: html2text\n",
      "    Found existing installation: html2text 2024.2.26\n",
      "    Uninstalling html2text-2024.2.26:\n",
      "      Successfully uninstalled html2text-2024.2.26\n",
      "Successfully installed chromedriver-autoinstaller-0.6.4 cssselect-1.2.0 feedfinder2-0.0.4 feedparser-6.0.11 html2text-2020.1.16 jieba3k-0.35.1 llama-index-readers-web-0.1.9 newspaper3k-0.2.8 outcome-1.3.0.post0 playwright-1.44.0 pyee-11.1.0 pysocks-1.7.1 requests-file-2.0.0 selenium-4.21.0 sgmllib3k-1.0.0 sortedcontainers-2.4.0 tinysegmenter-0.3 tldextract-5.1.2 trio-0.25.1 trio-websocket-0.11.1 wsproto-1.2.0\n",
      "Collecting youtube_transcript_api==0.6.2\n",
      "  Using cached youtube_transcript_api-0.6.2-py3-none-any.whl.metadata (15 kB)\n",
      "Requirement already satisfied: requests in c:\\users\\kalin\\miniconda3\\envs\\gaiavenv\\lib\\site-packages (from youtube_transcript_api==0.6.2) (2.31.0)\n",
      "Requirement already satisfied: charset-normalizer<4,>=2 in c:\\users\\kalin\\miniconda3\\envs\\gaiavenv\\lib\\site-packages (from requests->youtube_transcript_api==0.6.2) (3.3.2)\n",
      "Requirement already satisfied: idna<4,>=2.5 in c:\\users\\kalin\\miniconda3\\envs\\gaiavenv\\lib\\site-packages (from requests->youtube_transcript_api==0.6.2) (3.7)\n",
      "Requirement already satisfied: urllib3<3,>=1.21.1 in c:\\users\\kalin\\miniconda3\\envs\\gaiavenv\\lib\\site-packages (from requests->youtube_transcript_api==0.6.2) (2.2.1)\n",
      "Requirement already satisfied: certifi>=2017.4.17 in c:\\users\\kalin\\miniconda3\\envs\\gaiavenv\\lib\\site-packages (from requests->youtube_transcript_api==0.6.2) (2024.2.2)\n",
      "Using cached youtube_transcript_api-0.6.2-py3-none-any.whl (24 kB)\n",
      "Installing collected packages: youtube_transcript_api\n",
      "Successfully installed youtube_transcript_api-0.6.2\n",
      "Collecting llama-index-readers-youtube-transcript==0.1.4\n",
      "  Using cached llama_index_readers_youtube_transcript-0.1.4-py3-none-any.whl.metadata (2.0 kB)\n",
      "Requirement already satisfied: llama-index-core<0.11.0,>=0.10.1 in c:\\users\\kalin\\miniconda3\\envs\\gaiavenv\\lib\\site-packages (from llama-index-readers-youtube-transcript==0.1.4) (0.10.36)\n",
      "Requirement already satisfied: youtube-transcript-api>=0.5.0 in c:\\users\\kalin\\miniconda3\\envs\\gaiavenv\\lib\\site-packages (from llama-index-readers-youtube-transcript==0.1.4) (0.6.2)\n",
      "Requirement already satisfied: PyYAML>=6.0.1 in c:\\users\\kalin\\miniconda3\\envs\\gaiavenv\\lib\\site-packages (from llama-index-core<0.11.0,>=0.10.1->llama-index-readers-youtube-transcript==0.1.4) (6.0.1)\n",
      "Requirement already satisfied: SQLAlchemy>=1.4.49 in c:\\users\\kalin\\miniconda3\\envs\\gaiavenv\\lib\\site-packages (from SQLAlchemy[asyncio]>=1.4.49->llama-index-core<0.11.0,>=0.10.1->llama-index-readers-youtube-transcript==0.1.4) (2.0.30)\n",
      "Requirement already satisfied: aiohttp<4.0.0,>=3.8.6 in c:\\users\\kalin\\miniconda3\\envs\\gaiavenv\\lib\\site-packages (from llama-index-core<0.11.0,>=0.10.1->llama-index-readers-youtube-transcript==0.1.4) (3.9.5)\n",
      "Requirement already satisfied: dataclasses-json in c:\\users\\kalin\\miniconda3\\envs\\gaiavenv\\lib\\site-packages (from llama-index-core<0.11.0,>=0.10.1->llama-index-readers-youtube-transcript==0.1.4) (0.6.5)\n",
      "Requirement already satisfied: deprecated>=1.2.9.3 in c:\\users\\kalin\\miniconda3\\envs\\gaiavenv\\lib\\site-packages (from llama-index-core<0.11.0,>=0.10.1->llama-index-readers-youtube-transcript==0.1.4) (1.2.14)\n",
      "Requirement already satisfied: dirtyjson<2.0.0,>=1.0.8 in c:\\users\\kalin\\miniconda3\\envs\\gaiavenv\\lib\\site-packages (from llama-index-core<0.11.0,>=0.10.1->llama-index-readers-youtube-transcript==0.1.4) (1.0.8)\n",
      "Requirement already satisfied: fsspec>=2023.5.0 in c:\\users\\kalin\\miniconda3\\envs\\gaiavenv\\lib\\site-packages (from llama-index-core<0.11.0,>=0.10.1->llama-index-readers-youtube-transcript==0.1.4) (2024.3.1)\n",
      "Requirement already satisfied: httpx in c:\\users\\kalin\\miniconda3\\envs\\gaiavenv\\lib\\site-packages (from llama-index-core<0.11.0,>=0.10.1->llama-index-readers-youtube-transcript==0.1.4) (0.27.0)\n",
      "Requirement already satisfied: llamaindex-py-client<0.2.0,>=0.1.18 in c:\\users\\kalin\\miniconda3\\envs\\gaiavenv\\lib\\site-packages (from llama-index-core<0.11.0,>=0.10.1->llama-index-readers-youtube-transcript==0.1.4) (0.1.19)\n",
      "Requirement already satisfied: nest-asyncio<2.0.0,>=1.5.8 in c:\\users\\kalin\\miniconda3\\envs\\gaiavenv\\lib\\site-packages (from llama-index-core<0.11.0,>=0.10.1->llama-index-readers-youtube-transcript==0.1.4) (1.6.0)\n",
      "Requirement already satisfied: networkx>=3.0 in c:\\users\\kalin\\miniconda3\\envs\\gaiavenv\\lib\\site-packages (from llama-index-core<0.11.0,>=0.10.1->llama-index-readers-youtube-transcript==0.1.4) (3.2.1)\n",
      "Requirement already satisfied: nltk<4.0.0,>=3.8.1 in c:\\users\\kalin\\miniconda3\\envs\\gaiavenv\\lib\\site-packages (from llama-index-core<0.11.0,>=0.10.1->llama-index-readers-youtube-transcript==0.1.4) (3.8.1)\n",
      "Requirement already satisfied: numpy in c:\\users\\kalin\\miniconda3\\envs\\gaiavenv\\lib\\site-packages (from llama-index-core<0.11.0,>=0.10.1->llama-index-readers-youtube-transcript==0.1.4) (1.26.4)\n",
      "Requirement already satisfied: openai>=1.1.0 in c:\\users\\kalin\\miniconda3\\envs\\gaiavenv\\lib\\site-packages (from llama-index-core<0.11.0,>=0.10.1->llama-index-readers-youtube-transcript==0.1.4) (1.27.0)\n",
      "Requirement already satisfied: pandas in c:\\users\\kalin\\miniconda3\\envs\\gaiavenv\\lib\\site-packages (from llama-index-core<0.11.0,>=0.10.1->llama-index-readers-youtube-transcript==0.1.4) (2.2.2)\n",
      "Requirement already satisfied: pillow>=9.0.0 in c:\\users\\kalin\\miniconda3\\envs\\gaiavenv\\lib\\site-packages (from llama-index-core<0.11.0,>=0.10.1->llama-index-readers-youtube-transcript==0.1.4) (10.3.0)\n",
      "Requirement already satisfied: requests>=2.31.0 in c:\\users\\kalin\\miniconda3\\envs\\gaiavenv\\lib\\site-packages (from llama-index-core<0.11.0,>=0.10.1->llama-index-readers-youtube-transcript==0.1.4) (2.31.0)\n",
      "Requirement already satisfied: tenacity<9.0.0,>=8.2.0 in c:\\users\\kalin\\miniconda3\\envs\\gaiavenv\\lib\\site-packages (from llama-index-core<0.11.0,>=0.10.1->llama-index-readers-youtube-transcript==0.1.4) (8.3.0)\n",
      "Requirement already satisfied: tiktoken>=0.3.3 in c:\\users\\kalin\\miniconda3\\envs\\gaiavenv\\lib\\site-packages (from llama-index-core<0.11.0,>=0.10.1->llama-index-readers-youtube-transcript==0.1.4) (0.6.0)\n",
      "Requirement already satisfied: tqdm<5.0.0,>=4.66.1 in c:\\users\\kalin\\miniconda3\\envs\\gaiavenv\\lib\\site-packages (from llama-index-core<0.11.0,>=0.10.1->llama-index-readers-youtube-transcript==0.1.4) (4.66.4)\n",
      "Requirement already satisfied: typing-extensions>=4.5.0 in c:\\users\\kalin\\miniconda3\\envs\\gaiavenv\\lib\\site-packages (from llama-index-core<0.11.0,>=0.10.1->llama-index-readers-youtube-transcript==0.1.4) (4.11.0)\n",
      "Requirement already satisfied: typing-inspect>=0.8.0 in c:\\users\\kalin\\miniconda3\\envs\\gaiavenv\\lib\\site-packages (from llama-index-core<0.11.0,>=0.10.1->llama-index-readers-youtube-transcript==0.1.4) (0.9.0)\n",
      "Requirement already satisfied: wrapt in c:\\users\\kalin\\miniconda3\\envs\\gaiavenv\\lib\\site-packages (from llama-index-core<0.11.0,>=0.10.1->llama-index-readers-youtube-transcript==0.1.4) (1.16.0)\n",
      "Requirement already satisfied: aiosignal>=1.1.2 in c:\\users\\kalin\\miniconda3\\envs\\gaiavenv\\lib\\site-packages (from aiohttp<4.0.0,>=3.8.6->llama-index-core<0.11.0,>=0.10.1->llama-index-readers-youtube-transcript==0.1.4) (1.3.1)\n",
      "Requirement already satisfied: attrs>=17.3.0 in c:\\users\\kalin\\miniconda3\\envs\\gaiavenv\\lib\\site-packages (from aiohttp<4.0.0,>=3.8.6->llama-index-core<0.11.0,>=0.10.1->llama-index-readers-youtube-transcript==0.1.4) (23.2.0)\n",
      "Requirement already satisfied: frozenlist>=1.1.1 in c:\\users\\kalin\\miniconda3\\envs\\gaiavenv\\lib\\site-packages (from aiohttp<4.0.0,>=3.8.6->llama-index-core<0.11.0,>=0.10.1->llama-index-readers-youtube-transcript==0.1.4) (1.4.1)\n",
      "Requirement already satisfied: multidict<7.0,>=4.5 in c:\\users\\kalin\\miniconda3\\envs\\gaiavenv\\lib\\site-packages (from aiohttp<4.0.0,>=3.8.6->llama-index-core<0.11.0,>=0.10.1->llama-index-readers-youtube-transcript==0.1.4) (6.0.5)\n",
      "Requirement already satisfied: yarl<2.0,>=1.0 in c:\\users\\kalin\\miniconda3\\envs\\gaiavenv\\lib\\site-packages (from aiohttp<4.0.0,>=3.8.6->llama-index-core<0.11.0,>=0.10.1->llama-index-readers-youtube-transcript==0.1.4) (1.9.4)\n",
      "Requirement already satisfied: async-timeout<5.0,>=4.0 in c:\\users\\kalin\\miniconda3\\envs\\gaiavenv\\lib\\site-packages (from aiohttp<4.0.0,>=3.8.6->llama-index-core<0.11.0,>=0.10.1->llama-index-readers-youtube-transcript==0.1.4) (4.0.3)\n",
      "Requirement already satisfied: pydantic>=1.10 in c:\\users\\kalin\\miniconda3\\envs\\gaiavenv\\lib\\site-packages (from llamaindex-py-client<0.2.0,>=0.1.18->llama-index-core<0.11.0,>=0.10.1->llama-index-readers-youtube-transcript==0.1.4) (2.7.1)\n",
      "Requirement already satisfied: anyio in c:\\users\\kalin\\miniconda3\\envs\\gaiavenv\\lib\\site-packages (from httpx->llama-index-core<0.11.0,>=0.10.1->llama-index-readers-youtube-transcript==0.1.4) (4.3.0)\n",
      "Requirement already satisfied: certifi in c:\\users\\kalin\\miniconda3\\envs\\gaiavenv\\lib\\site-packages (from httpx->llama-index-core<0.11.0,>=0.10.1->llama-index-readers-youtube-transcript==0.1.4) (2024.2.2)\n",
      "Requirement already satisfied: httpcore==1.* in c:\\users\\kalin\\miniconda3\\envs\\gaiavenv\\lib\\site-packages (from httpx->llama-index-core<0.11.0,>=0.10.1->llama-index-readers-youtube-transcript==0.1.4) (1.0.5)\n",
      "Requirement already satisfied: idna in c:\\users\\kalin\\miniconda3\\envs\\gaiavenv\\lib\\site-packages (from httpx->llama-index-core<0.11.0,>=0.10.1->llama-index-readers-youtube-transcript==0.1.4) (3.7)\n",
      "Requirement already satisfied: sniffio in c:\\users\\kalin\\miniconda3\\envs\\gaiavenv\\lib\\site-packages (from httpx->llama-index-core<0.11.0,>=0.10.1->llama-index-readers-youtube-transcript==0.1.4) (1.3.1)\n",
      "Requirement already satisfied: h11<0.15,>=0.13 in c:\\users\\kalin\\miniconda3\\envs\\gaiavenv\\lib\\site-packages (from httpcore==1.*->httpx->llama-index-core<0.11.0,>=0.10.1->llama-index-readers-youtube-transcript==0.1.4) (0.14.0)\n",
      "Requirement already satisfied: click in c:\\users\\kalin\\miniconda3\\envs\\gaiavenv\\lib\\site-packages (from nltk<4.0.0,>=3.8.1->llama-index-core<0.11.0,>=0.10.1->llama-index-readers-youtube-transcript==0.1.4) (8.1.7)\n",
      "Requirement already satisfied: joblib in c:\\users\\kalin\\miniconda3\\envs\\gaiavenv\\lib\\site-packages (from nltk<4.0.0,>=3.8.1->llama-index-core<0.11.0,>=0.10.1->llama-index-readers-youtube-transcript==0.1.4) (1.4.2)\n",
      "Requirement already satisfied: regex>=2021.8.3 in c:\\users\\kalin\\miniconda3\\envs\\gaiavenv\\lib\\site-packages (from nltk<4.0.0,>=3.8.1->llama-index-core<0.11.0,>=0.10.1->llama-index-readers-youtube-transcript==0.1.4) (2024.4.28)\n",
      "Requirement already satisfied: distro<2,>=1.7.0 in c:\\users\\kalin\\miniconda3\\envs\\gaiavenv\\lib\\site-packages (from openai>=1.1.0->llama-index-core<0.11.0,>=0.10.1->llama-index-readers-youtube-transcript==0.1.4) (1.9.0)\n",
      "Requirement already satisfied: charset-normalizer<4,>=2 in c:\\users\\kalin\\miniconda3\\envs\\gaiavenv\\lib\\site-packages (from requests>=2.31.0->llama-index-core<0.11.0,>=0.10.1->llama-index-readers-youtube-transcript==0.1.4) (3.3.2)\n",
      "Requirement already satisfied: urllib3<3,>=1.21.1 in c:\\users\\kalin\\miniconda3\\envs\\gaiavenv\\lib\\site-packages (from requests>=2.31.0->llama-index-core<0.11.0,>=0.10.1->llama-index-readers-youtube-transcript==0.1.4) (2.2.1)\n",
      "Requirement already satisfied: greenlet!=0.4.17 in c:\\users\\kalin\\miniconda3\\envs\\gaiavenv\\lib\\site-packages (from SQLAlchemy>=1.4.49->SQLAlchemy[asyncio]>=1.4.49->llama-index-core<0.11.0,>=0.10.1->llama-index-readers-youtube-transcript==0.1.4) (3.0.3)\n",
      "Requirement already satisfied: colorama in c:\\users\\kalin\\miniconda3\\envs\\gaiavenv\\lib\\site-packages (from tqdm<5.0.0,>=4.66.1->llama-index-core<0.11.0,>=0.10.1->llama-index-readers-youtube-transcript==0.1.4) (0.4.6)\n",
      "Requirement already satisfied: mypy-extensions>=0.3.0 in c:\\users\\kalin\\miniconda3\\envs\\gaiavenv\\lib\\site-packages (from typing-inspect>=0.8.0->llama-index-core<0.11.0,>=0.10.1->llama-index-readers-youtube-transcript==0.1.4) (1.0.0)\n",
      "Requirement already satisfied: marshmallow<4.0.0,>=3.18.0 in c:\\users\\kalin\\miniconda3\\envs\\gaiavenv\\lib\\site-packages (from dataclasses-json->llama-index-core<0.11.0,>=0.10.1->llama-index-readers-youtube-transcript==0.1.4) (3.21.2)\n",
      "Requirement already satisfied: python-dateutil>=2.8.2 in c:\\users\\kalin\\miniconda3\\envs\\gaiavenv\\lib\\site-packages (from pandas->llama-index-core<0.11.0,>=0.10.1->llama-index-readers-youtube-transcript==0.1.4) (2.9.0.post0)\n",
      "Requirement already satisfied: pytz>=2020.1 in c:\\users\\kalin\\miniconda3\\envs\\gaiavenv\\lib\\site-packages (from pandas->llama-index-core<0.11.0,>=0.10.1->llama-index-readers-youtube-transcript==0.1.4) (2024.1)\n",
      "Requirement already satisfied: tzdata>=2022.7 in c:\\users\\kalin\\miniconda3\\envs\\gaiavenv\\lib\\site-packages (from pandas->llama-index-core<0.11.0,>=0.10.1->llama-index-readers-youtube-transcript==0.1.4) (2024.1)\n",
      "Requirement already satisfied: exceptiongroup>=1.0.2 in c:\\users\\kalin\\miniconda3\\envs\\gaiavenv\\lib\\site-packages (from anyio->httpx->llama-index-core<0.11.0,>=0.10.1->llama-index-readers-youtube-transcript==0.1.4) (1.2.0)\n",
      "Requirement already satisfied: packaging>=17.0 in c:\\users\\kalin\\miniconda3\\envs\\gaiavenv\\lib\\site-packages (from marshmallow<4.0.0,>=3.18.0->dataclasses-json->llama-index-core<0.11.0,>=0.10.1->llama-index-readers-youtube-transcript==0.1.4) (24.0)\n",
      "Requirement already satisfied: annotated-types>=0.4.0 in c:\\users\\kalin\\miniconda3\\envs\\gaiavenv\\lib\\site-packages (from pydantic>=1.10->llamaindex-py-client<0.2.0,>=0.1.18->llama-index-core<0.11.0,>=0.10.1->llama-index-readers-youtube-transcript==0.1.4) (0.6.0)\n",
      "Requirement already satisfied: pydantic-core==2.18.2 in c:\\users\\kalin\\miniconda3\\envs\\gaiavenv\\lib\\site-packages (from pydantic>=1.10->llamaindex-py-client<0.2.0,>=0.1.18->llama-index-core<0.11.0,>=0.10.1->llama-index-readers-youtube-transcript==0.1.4) (2.18.2)\n",
      "Requirement already satisfied: six>=1.5 in c:\\users\\kalin\\miniconda3\\envs\\gaiavenv\\lib\\site-packages (from python-dateutil>=2.8.2->pandas->llama-index-core<0.11.0,>=0.10.1->llama-index-readers-youtube-transcript==0.1.4) (1.16.0)\n",
      "Using cached llama_index_readers_youtube_transcript-0.1.4-py3-none-any.whl (3.7 kB)\n",
      "Installing collected packages: llama-index-readers-youtube-transcript\n",
      "Successfully installed llama-index-readers-youtube-transcript-0.1.4\n"
     ]
    }
   ],
   "source": [
    "!pip install torch==2.2.1\n",
    "!pip install sentence-transformers==2.6.0\n",
    "!pip install llama-index==0.10.20\n",
    "!pip install python-dotenv==1.0.1\n",
    "!pip install llama-index-embeddings-huggingface==0.1.4\n",
    "!pip install llama-index-readers-web==0.1.9\n",
    "!pip install youtube_transcript_api==0.6.2\n",
    "!pip install llama-index-readers-youtube-transcript==0.1.4"
   ]
  },
  {
   "cell_type": "markdown",
   "metadata": {},
   "source": [
    "## Setup API keys"
   ]
  },
  {
   "cell_type": "code",
   "execution_count": 3,
   "metadata": {},
   "outputs": [],
   "source": [
    "import os\n",
    "import openai\n",
    "from dotenv import load_dotenv\n",
    "from dotenv import load_dotenv, find_dotenv\n",
    "\n",
    "load_dotenv()\n",
    "openai.api_key = os.getenv('OPENAI_API_KEY')\n",
    "assert openai.api_key, 'Please set OPENAI_API_KEY!'"
   ]
  },
  {
   "cell_type": "markdown",
   "metadata": {},
   "source": [
    "## Some Utility Functions"
   ]
  },
  {
   "cell_type": "code",
   "execution_count": 12,
   "metadata": {},
   "outputs": [],
   "source": [
    "from llama_index.core import (\n",
    "    Document,\n",
    "    SimpleDirectoryReader,\n",
    "    VectorStoreIndex,\n",
    "    DocumentSummaryIndex,\n",
    "    SummaryIndex,\n",
    "    StorageContext,\n",
    "    load_index_from_storage,\n",
    "    get_response_synthesizer\n",
    ")\n",
    "from llama_index.readers.youtube_transcript import YoutubeTranscriptReader\n",
    "from llama_index.core.tools import FunctionTool, QueryEngineTool, ToolMetadata\n",
    "from llama_index.llms.openai import OpenAI\n",
    "from llama_index.core.node_parser import SentenceSplitter\n",
    "\n",
    "def get_youtube_transcript_doc(yt_links:list)->Document:\n",
    "    return YoutubeTranscriptReader().load_data(ytlinks=yt_links)\n",
    "\n",
    "def build_vector_index(doc:Document, persist_dir=None)->VectorStoreIndex:\n",
    "    if persist_dir:\n",
    "        storage_context = StorageContext.from_defaults(persist_dir=persist_dir)\n",
    "        index = VectorStoreIndex.load_from_storage(storage_context)\n",
    "    else:\n",
    "        index = VectorStoreIndex.from_documents(doc, show_progress=True)\n",
    "    return index\n",
    "\n",
    "def build_summary_index(doc:Document, persist_dir=None)->SummaryIndex:\n",
    "    if persist_dir:\n",
    "        storage_context = StorageContext.from_defaults(persist_dir=persist_dir)\n",
    "        index = DocumentSummaryIndex.load_from_storage(storage_context)\n",
    "    else:\n",
    "        # from https://docs.llamaindex.ai/en/stable/examples/index_structs/doc_summary/DocSummary/\n",
    "        index = DocumentSummaryIndex.from_documents(doc, show_progress=True)\n",
    "        # LLM (gpt-3.5-turbo)\n",
    "        chatgpt = OpenAI(temperature=0, model=\"gpt-3.5-turbo\")\n",
    "        splitter = SentenceSplitter(chunk_size=1024)\n",
    "\n",
    "        # default mode of building the index\n",
    "        response_synthesizer = get_response_synthesizer(\n",
    "            response_mode=\"tree_summarize\", use_async=True\n",
    "        )\n",
    "        doc_summary_index = DocumentSummaryIndex.from_documents(\n",
    "            doc,\n",
    "            llm=chatgpt,\n",
    "            transformations=[splitter],\n",
    "            response_synthesizer=response_synthesizer,\n",
    "            show_progress=True,\n",
    "        )\n",
    "    return index\n",
    "\n",
    "def get_query_engine(index, similarity_top=3):\n",
    "    return index.as_query_engine(similarity_top_k=similarity_top)\n",
    "\n",
    "def get_youtube_tool():\n",
    "    return FunctionTool.from_defaults(fn=get_youtube_transcript_doc)\n"
   ]
  },
  {
   "cell_type": "code",
   "execution_count": 14,
   "metadata": {},
   "outputs": [],
   "source": [
    "import nest_asyncio\n",
    "\n",
    "nest_asyncio.apply()"
   ]
  },
  {
   "cell_type": "markdown",
   "metadata": {},
   "source": [
    "## Create an example Vector Index from a YouTube Link"
   ]
  },
  {
   "cell_type": "code",
   "execution_count": 15,
   "metadata": {},
   "outputs": [
    {
     "data": {
      "application/vnd.jupyter.widget-view+json": {
       "model_id": "7923e5583b3a4b69bc1378fb66f3522e",
       "version_major": 2,
       "version_minor": 0
      },
      "text/plain": [
       "Parsing nodes:   0%|          | 0/1 [00:00<?, ?it/s]"
      ]
     },
     "metadata": {},
     "output_type": "display_data"
    },
    {
     "data": {
      "application/vnd.jupyter.widget-view+json": {
       "model_id": "1cfc591613a4448989f521132d952d01",
       "version_major": 2,
       "version_minor": 0
      },
      "text/plain": [
       "Generating embeddings:   0%|          | 0/19 [00:00<?, ?it/s]"
      ]
     },
     "metadata": {},
     "output_type": "display_data"
    },
    {
     "data": {
      "application/vnd.jupyter.widget-view+json": {
       "model_id": "a6a49ea92afa4fafbae7d302c28bac48",
       "version_major": 2,
       "version_minor": 0
      },
      "text/plain": [
       "Parsing nodes:   0%|          | 0/1 [00:00<?, ?it/s]"
      ]
     },
     "metadata": {},
     "output_type": "display_data"
    },
    {
     "data": {
      "application/vnd.jupyter.widget-view+json": {
       "model_id": "131b0a76f60b4240a2ec3dc72f58027a",
       "version_major": 2,
       "version_minor": 0
      },
      "text/plain": [
       "Summarizing documents:   0%|          | 0/1 [00:00<?, ?it/s]"
      ]
     },
     "metadata": {},
     "output_type": "display_data"
    },
    {
     "name": "stdout",
     "output_type": "stream",
     "text": [
      "current doc id: zjkBMFhNj_g\n"
     ]
    },
    {
     "data": {
      "application/vnd.jupyter.widget-view+json": {
       "model_id": "99b33a50b8b148ee8770a7d3ce9af097",
       "version_major": 2,
       "version_minor": 0
      },
      "text/plain": [
       "Generating embeddings:   0%|          | 0/1 [00:00<?, ?it/s]"
      ]
     },
     "metadata": {},
     "output_type": "display_data"
    },
    {
     "data": {
      "application/vnd.jupyter.widget-view+json": {
       "model_id": "8b1c8a73608248bf8cabbfdb345809bd",
       "version_major": 2,
       "version_minor": 0
      },
      "text/plain": [
       "Parsing nodes:   0%|          | 0/1 [00:00<?, ?it/s]"
      ]
     },
     "metadata": {},
     "output_type": "display_data"
    },
    {
     "data": {
      "application/vnd.jupyter.widget-view+json": {
       "model_id": "fde44058bb1a4417afdb8e112426da66",
       "version_major": 2,
       "version_minor": 0
      },
      "text/plain": [
       "Summarizing documents:   0%|          | 0/1 [00:00<?, ?it/s]"
      ]
     },
     "metadata": {},
     "output_type": "display_data"
    },
    {
     "name": "stdout",
     "output_type": "stream",
     "text": [
      "current doc id: zjkBMFhNj_g\n"
     ]
    },
    {
     "data": {
      "application/vnd.jupyter.widget-view+json": {
       "model_id": "55a6d6fa96a0425f9858ceaee7f40b1a",
       "version_major": 2,
       "version_minor": 0
      },
      "text/plain": [
       "Generating embeddings:   0%|          | 0/1 [00:00<?, ?it/s]"
      ]
     },
     "metadata": {},
     "output_type": "display_data"
    }
   ],
   "source": [
    "# Intro to LLMs, Andrej Karpathy\n",
    "yt_links = [\"https://www.youtube.com/watch?v=zjkBMFhNj_g\"]\n",
    "\n",
    "yt_doc = get_youtube_transcript_doc(yt_links)\n",
    "yt_vector_index = build_vector_index(yt_doc)\n",
    "\n",
    "yt_engine = get_query_engine(yt_vector_index)\n",
    "# yt_tool = get_youtube_tool(transcript_doc)\n",
    "\n",
    "query_engine_tools = [\n",
    "    QueryEngineTool(\n",
    "        query_engine=yt_engine,\n",
    "        metadata=ToolMetadata(\n",
    "            name=\"youtube\",\n",
    "            description=(\n",
    "                \"YouTube transcript of Andrej Karpathy's Introduction to LLMs. \"\n",
    "                \"Use a detailed plain text question as input to the tool.\"\n",
    "            ),\n",
    "        ),\n",
    "    ),\n",
    "]"
   ]
  },
  {
   "cell_type": "markdown",
   "metadata": {},
   "source": [
    "## Summarize Document"
   ]
  },
  {
   "cell_type": "code",
   "execution_count": 19,
   "metadata": {},
   "outputs": [
    {
     "data": {
      "application/vnd.jupyter.widget-view+json": {
       "model_id": "0d6cdf09391a4282997d31f43548f253",
       "version_major": 2,
       "version_minor": 0
      },
      "text/plain": [
       "Parsing nodes:   0%|          | 0/1 [00:00<?, ?it/s]"
      ]
     },
     "metadata": {},
     "output_type": "display_data"
    },
    {
     "name": "stderr",
     "output_type": "stream",
     "text": [
      "<string>:3: RuntimeWarning: coroutine 'run_async_tasks.<locals>._gather' was never awaited\n",
      "RuntimeWarning: Enable tracemalloc to get the object allocation traceback\n",
      "<string>:3: RuntimeWarning: coroutine 'Dispatcher.span.<locals>.async_wrapper' was never awaited\n",
      "RuntimeWarning: Enable tracemalloc to get the object allocation traceback\n"
     ]
    },
    {
     "data": {
      "application/vnd.jupyter.widget-view+json": {
       "model_id": "f1182bed8bec4be7877fb6949e187f53",
       "version_major": 2,
       "version_minor": 0
      },
      "text/plain": [
       "Summarizing documents:   0%|          | 0/1 [00:00<?, ?it/s]"
      ]
     },
     "metadata": {},
     "output_type": "display_data"
    },
    {
     "name": "stdout",
     "output_type": "stream",
     "text": [
      "current doc id: youtube_doc\n"
     ]
    },
    {
     "data": {
      "application/vnd.jupyter.widget-view+json": {
       "model_id": "22ff59863bd14a68b2b6a65e351a634a",
       "version_major": 2,
       "version_minor": 0
      },
      "text/plain": [
       "Generating embeddings:   0%|          | 0/1 [00:00<?, ?it/s]"
      ]
     },
     "metadata": {},
     "output_type": "display_data"
    },
    {
     "data": {
      "application/vnd.jupyter.widget-view+json": {
       "model_id": "9e3434202201412ab5705983ef17c96c",
       "version_major": 2,
       "version_minor": 0
      },
      "text/plain": [
       "Parsing nodes:   0%|          | 0/1 [00:00<?, ?it/s]"
      ]
     },
     "metadata": {},
     "output_type": "display_data"
    },
    {
     "data": {
      "application/vnd.jupyter.widget-view+json": {
       "model_id": "c6fae067b97b4b8bbb47900500d95351",
       "version_major": 2,
       "version_minor": 0
      },
      "text/plain": [
       "Summarizing documents:   0%|          | 0/1 [00:00<?, ?it/s]"
      ]
     },
     "metadata": {},
     "output_type": "display_data"
    },
    {
     "name": "stdout",
     "output_type": "stream",
     "text": [
      "current doc id: youtube_doc\n"
     ]
    },
    {
     "data": {
      "application/vnd.jupyter.widget-view+json": {
       "model_id": "80543561537840a098024f040dbf0d56",
       "version_major": 2,
       "version_minor": 0
      },
      "text/plain": [
       "Generating embeddings:   0%|          | 0/1 [00:00<?, ?it/s]"
      ]
     },
     "metadata": {},
     "output_type": "display_data"
    }
   ],
   "source": [
    "yt_doc = get_youtube_transcript_doc(yt_links)\n",
    "doc_id = \"youtube_doc\"\n",
    "yt_doc[0].doc_id = doc_id\n",
    "yt_summary_index = build_summary_index(yt_doc)"
   ]
  },
  {
   "cell_type": "code",
   "execution_count": 20,
   "metadata": {},
   "outputs": [
    {
     "ename": "ValueError",
     "evalue": "doc_id zjkBMFhNj_g not in index",
     "output_type": "error",
     "traceback": [
      "\u001b[1;31m---------------------------------------------------------------------------\u001b[0m",
      "\u001b[1;31mValueError\u001b[0m                                Traceback (most recent call last)",
      "Cell \u001b[1;32mIn[20], line 1\u001b[0m\n\u001b[1;32m----> 1\u001b[0m \u001b[38;5;28mprint\u001b[39m(\u001b[43myt_summary_index\u001b[49m\u001b[38;5;241;43m.\u001b[39;49m\u001b[43mget_document_summary\u001b[49m\u001b[43m(\u001b[49m\u001b[38;5;124;43m'\u001b[39;49m\u001b[38;5;124;43mzjkBMFhNj_g\u001b[39;49m\u001b[38;5;124;43m'\u001b[39;49m\u001b[43m)\u001b[49m)\n",
      "File \u001b[1;32mc:\\Users\\kalin\\miniconda3\\envs\\gaiavenv\\lib\\site-packages\\llama_index\\core\\indices\\document_summary\\base.py:168\u001b[0m, in \u001b[0;36mDocumentSummaryIndex.get_document_summary\u001b[1;34m(self, doc_id)\u001b[0m\n\u001b[0;32m    161\u001b[0m \u001b[38;5;250m\u001b[39m\u001b[38;5;124;03m\"\"\"Get document summary by doc id.\u001b[39;00m\n\u001b[0;32m    162\u001b[0m \n\u001b[0;32m    163\u001b[0m \u001b[38;5;124;03mArgs:\u001b[39;00m\n\u001b[0;32m    164\u001b[0m \u001b[38;5;124;03m    doc_id (str): A document id.\u001b[39;00m\n\u001b[0;32m    165\u001b[0m \n\u001b[0;32m    166\u001b[0m \u001b[38;5;124;03m\"\"\"\u001b[39;00m\n\u001b[0;32m    167\u001b[0m \u001b[38;5;28;01mif\u001b[39;00m doc_id \u001b[38;5;129;01mnot\u001b[39;00m \u001b[38;5;129;01min\u001b[39;00m \u001b[38;5;28mself\u001b[39m\u001b[38;5;241m.\u001b[39m_index_struct\u001b[38;5;241m.\u001b[39mdoc_id_to_summary_id:\n\u001b[1;32m--> 168\u001b[0m     \u001b[38;5;28;01mraise\u001b[39;00m \u001b[38;5;167;01mValueError\u001b[39;00m(\u001b[38;5;124mf\u001b[39m\u001b[38;5;124m\"\u001b[39m\u001b[38;5;124mdoc_id \u001b[39m\u001b[38;5;132;01m{\u001b[39;00mdoc_id\u001b[38;5;132;01m}\u001b[39;00m\u001b[38;5;124m not in index\u001b[39m\u001b[38;5;124m\"\u001b[39m)\n\u001b[0;32m    169\u001b[0m summary_id \u001b[38;5;241m=\u001b[39m \u001b[38;5;28mself\u001b[39m\u001b[38;5;241m.\u001b[39m_index_struct\u001b[38;5;241m.\u001b[39mdoc_id_to_summary_id[doc_id]\n\u001b[0;32m    170\u001b[0m \u001b[38;5;28;01mreturn\u001b[39;00m \u001b[38;5;28mself\u001b[39m\u001b[38;5;241m.\u001b[39mdocstore\u001b[38;5;241m.\u001b[39mget_node(summary_id)\u001b[38;5;241m.\u001b[39mget_content()\n",
      "\u001b[1;31mValueError\u001b[0m: doc_id zjkBMFhNj_g not in index"
     ]
    }
   ],
   "source": [
    "print(yt_summary_index.get_document_summary(doc_id))"
   ]
  },
  {
   "cell_type": "markdown",
   "metadata": {},
   "source": [
    "## Query the Index"
   ]
  },
  {
   "cell_type": "code",
   "execution_count": 6,
   "metadata": {},
   "outputs": [
    {
     "name": "stdout",
     "output_type": "stream",
     "text": [
      "The main takeaways are that large language models operate in two modes of thinking - system one for quick, instinctive responses and system two for rational, conscious decision-making. These models are evolving to incorporate tool use, enabling them to perform tasks like data analysis and graph generation. The training process involves pre-training on internet text for knowledge and fine-tuning on Q&A documents for alignment, resulting in assistant models capable of providing helpful responses.\n"
     ]
    }
   ],
   "source": [
    "query = \"What's a neural network?\"\n",
    "response = yt_engine.query(query)\n",
    "print(response)"
   ]
  },
  {
   "cell_type": "markdown",
   "metadata": {},
   "source": [
    "## Create a ReAct Agent"
   ]
  },
  {
   "cell_type": "code",
   "execution_count": 7,
   "metadata": {},
   "outputs": [],
   "source": [
    "from llama_index.llms.openai import OpenAI\n",
    "from llama_index.core.agent import ReActAgent\n",
    "\n",
    "llm = OpenAI(model=\"gpt-4\")\n",
    "agent = ReActAgent.from_tools(\n",
    "    query_engine_tools,\n",
    "    llm=llm,\n",
    "    verbose=True,\n",
    ")"
   ]
  },
  {
   "cell_type": "markdown",
   "metadata": {},
   "source": [
    "## Test Agent"
   ]
  },
  {
   "cell_type": "code",
   "execution_count": 8,
   "metadata": {},
   "outputs": [
    {
     "name": "stdout",
     "output_type": "stream",
     "text": [
      "Query: How do you train ChatGPT?\n",
      "\u001b[1;3;38;5;200mThought: The user wants to know how ChatGPT is trained. I can use the YouTube tool to fetch the transcript of Andrej Karpathy's Introduction to LLMs, which might contain information on how ChatGPT is trained.\n",
      "Action: youtube\n",
      "Action Input: {'input': 'How is ChatGPT trained?'}\n",
      "\u001b[0m\u001b[1;3;34mObservation: ChatGPT is trained by utilizing a process that involves human-machine collaboration. This process entails humans providing helpful, truthful, and harmless labeling instructions to guide the training of the model. Additionally, the training process involves leveraging the capabilities of language models to sample answers, allowing humans to select and combine parts of these answers to create the best responses. This collaborative approach helps in efficiently and accurately training ChatGPT.\n",
      "\u001b[0m\u001b[1;3;38;5;200mThought: I can answer without using any more tools. I'll use the user's language to answer.\n",
      "Answer: ChatGPT is trained through a process of human-machine collaboration. Humans provide labeling instructions that are helpful, truthful, and harmless to guide the training of the model. The capabilities of language models are also used to sample answers, and humans then select and combine parts of these answers to create the best responses. This collaborative approach aids in the efficient and accurate training of ChatGPT.\n",
      "\u001b[0m-------------------------------------------------------------\n",
      "Query: What's system 1 vs. system 2 thinking?\n",
      "\u001b[1;3;38;5;200mThought: The user is asking about the concept of System 1 and System 2 thinking. This is a psychological concept introduced by Daniel Kahneman in his book \"Thinking, Fast and Slow\". I need to use the youtube tool to find Andrej Karpathy's explanation of this concept.\n",
      "Action: youtube\n",
      "Action Input: {'input': 'System 1 vs System 2 thinking'}\n",
      "\u001b[0m\u001b[1;3;34mObservation: System 1 thinking is characterized by quick, instinctive, and automatic responses, while System 2 thinking involves more rational, slower, and conscious decision-making processes.\n",
      "\u001b[0m\u001b[1;3;38;5;200mThought: I can answer without using any more tools. I'll use the user's language to answer.\n",
      "Answer: System 1 thinking is characterized by quick, instinctive, and automatic responses. It's the kind of thinking you use when you're doing something familiar or routine, like driving a car on an empty road or recognizing the face of a friend. On the other hand, System 2 thinking involves more deliberate, slower, and conscious decision-making processes. It's the kind of thinking you use when you're doing something that requires careful consideration, like solving a complex math problem or making a major life decision.\n",
      "\u001b[0m-------------------------------------------------------------\n",
      "Query: What were the two main stages of AlphaGo?\n",
      "\u001b[1;3;38;5;200mThought: The current language of the user is English. I need to use the youtube tool to help me answer the question.\n",
      "Action: youtube\n",
      "Action Input: {'input': 'two main stages of AlphaGo'}\n",
      "\u001b[0m\u001b[1;3;34mObservation: The two main stages of AlphaGo were the initial stage where it learned by imitating human expert players and the second stage where it achieved self-improvement through playing in a closed sandbox environment and optimizing based on winning the game.\n",
      "\u001b[0m\u001b[1;3;38;5;200mThought: I can answer without using any more tools. I'll use the user's language to answer.\n",
      "Answer: The two main stages of AlphaGo were:\n",
      "\n",
      "1. The initial stage, where it learned by imitating human expert players. This is often referred to as supervised learning, where the model learns from labeled data.\n",
      "\n",
      "2. The second stage, where AlphaGo achieved self-improvement through playing games against itself in a closed sandbox environment. This is often referred to as reinforcement learning, where the model learns to optimize its actions based on the goal of winning the game.\n",
      "\u001b[0m-------------------------------------------------------------\n",
      "Query: What will an LLM OS be able to do in a few years?\n",
      "\u001b[1;3;38;5;200mThought: The current language of the user is: English. I need to use a tool to help me answer the question.\n",
      "Action: youtube\n",
      "Action Input: {'input': 'What will an LLM OS be able to do in a few years?'}\n",
      "\u001b[0m\u001b[1;3;34mObservation: An LLM OS will be able to read and generate text, possess extensive knowledge on various subjects, browse the internet or reference local files for information, utilize existing software tools like calculators and Python, create and interpret images and videos, listen, speak, and generate music, engage in long-term thinking using a system, potentially self-improve in specific domains with available reward functions, be customized and fine-tuned for various tasks, and have a multitude of LLM experts specialized for different tasks available in an App Store for coordinated problem-solving.\n",
      "\u001b[0m\u001b[1;3;38;5;200mThought: I can answer without using any more tools. I'll use the user's language to answer.\n",
      "Answer: In a few years, an LLM OS will be able to perform a wide range of tasks. It will be able to read and generate text, possess extensive knowledge on various subjects, and browse the internet or reference local files for information. It will also be able to utilize existing software tools like calculators and Python, create and interpret images and videos, listen, speak, and generate music. Furthermore, it will be capable of engaging in long-term thinking using a system and potentially self-improve in specific domains with available reward functions. The LLM OS will also be customizable and fine-tuned for various tasks. Lastly, there will be a multitude of LLM experts specialized for different tasks available in an App Store for coordinated problem-solving.\n",
      "\u001b[0m-------------------------------------------------------------\n",
      "Query: How do you jailbreak an LLM?\n",
      "\u001b[1;3;38;5;200mThought: The user is asking about the process of jailbreaking an LLM. I will use the youtube tool to find the relevant information from Andrej Karpathy's Introduction to LLMs.\n",
      "Action: youtube\n",
      "Action Input: {'input': 'How to jailbreak an LLM'}\n",
      "\u001b[0m\u001b[1;3;34mObservation: To jailbreak an LLM, one method involves creating a specific text sequence that can bypass the safety mechanisms of the model. By crafting a sequence that tricks the LLM into providing responses it would typically refuse, such as harmful instructions or information, the jailbreak can be achieved. This can involve using roleplay scenarios or specific text sequences that exploit vulnerabilities in the model's training data or language understanding capabilities.\n",
      "\u001b[0m\u001b[1;3;38;5;200mThought: I can answer without using any more tools. I'll use the user's language to answer.\n",
      "Answer: Jailbreaking an LLM involves creating a specific text sequence that can bypass the safety mechanisms of the model. This can be achieved by crafting a sequence that tricks the LLM into providing responses it would typically refuse, such as harmful instructions or information. This can involve using roleplay scenarios or specific text sequences that exploit vulnerabilities in the model's training data or language understanding capabilities.\n",
      "\u001b[0m-------------------------------------------------------------\n",
      "Query: How do you do prompt injection?\n",
      "\u001b[1;3;38;5;200mThought: (Implicit) I can answer without any more tools!\n",
      "Answer: Prompt injection is a technique used to guide the responses of a language model. It involves inserting specific phrases or questions into the input prompt that are designed to steer the model's output in a desired direction. This can be used to elicit specific types of responses, encourage the model to think in certain ways, or avoid certain topics or types of language. The exact method for prompt injection can vary depending on the specific model and task.\n",
      "\u001b[0m-------------------------------------------------------------\n"
     ]
    }
   ],
   "source": [
    "hint = \"(use the youtube tool)\"\n",
    "queries = [\n",
    "    # \"Summarize to just the main takeaways.\",\n",
    "    # \"What is a LLM according to Andrej Karpathy?\",\n",
    "    # \"How does it work?\",\n",
    "    \"How do you train ChatGPT?\",\n",
    "    \"What's system 1 vs. system 2 thinking?\",\n",
    "    \"What were the two main stages of AlphaGo?\",\n",
    "    \"What will an LLM OS be able to do in a few years?\",\n",
    "    \"How do you jailbreak an LLM?\",\n",
    "    \"How do you do prompt injection?\",\n",
    "]\n",
    "\n",
    "for query in queries:\n",
    "    print(f\"Query: {query}\")\n",
    "    response = agent.chat(f\"{query}\\n{hint}\")\n",
    "    print(\"-------------------------------------------------------------\")"
   ]
  },
  {
   "cell_type": "markdown",
   "metadata": {},
   "source": [
    "## Interactive chat"
   ]
  },
  {
   "cell_type": "code",
   "execution_count": 9,
   "metadata": {},
   "outputs": [],
   "source": [
    "while True:\n",
    "    user_input = input()\n",
    "    if not user_input:\n",
    "        break\n",
    "    print(f\"User: {user_input}\")\n",
    "    response = agent.chat(user_input)\n",
    "    print(f\"Agent: {response}\")"
   ]
  }
 ],
 "metadata": {
  "kernelspec": {
   "display_name": "ragvenv",
   "language": "python",
   "name": "python3"
  },
  "language_info": {
   "codemirror_mode": {
    "name": "ipython",
    "version": 3
   },
   "file_extension": ".py",
   "mimetype": "text/x-python",
   "name": "python",
   "nbconvert_exporter": "python",
   "pygments_lexer": "ipython3",
   "version": "3.9.19"
  }
 },
 "nbformat": 4,
 "nbformat_minor": 2
}
