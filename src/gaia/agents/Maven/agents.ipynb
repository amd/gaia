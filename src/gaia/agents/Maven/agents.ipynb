{
 "cells": [
  {
   "cell_type": "markdown",
   "metadata": {},
   "source": [
    "# **Maven Super Agent**"
   ]
  },
  {
   "cell_type": "markdown",
   "metadata": {},
   "source": [
    "## Setup"
   ]
  },
  {
   "cell_type": "code",
   "execution_count": 117,
   "metadata": {},
   "outputs": [],
   "source": [
    "import os\n",
    "from IPython.display import Markdown, display\n",
    "# Setting environment variables\n",
    "os.environ['OPENAI_API_KEY'] = ''\n",
    "research_topic = \"AVX512\""
   ]
  },
  {
   "cell_type": "code",
   "execution_count": 118,
   "metadata": {},
   "outputs": [],
   "source": [
    "sources = [\"pdf\",\n",
    "           \"wikipedia\",\n",
    "           \"arxiv\",\n",
    "           \"youtube\",\n",
    "           \"webpage\"]"
   ]
  },
  {
   "cell_type": "markdown",
   "metadata": {},
   "source": [
    "## PDF Reader"
   ]
  },
  {
   "cell_type": "code",
   "execution_count": 119,
   "metadata": {},
   "outputs": [],
   "source": [
    "from llama_index.core import VectorStoreIndex, SimpleDirectoryReader\n",
    "documents_pdf = SimpleDirectoryReader(\"local_pdfs\").load_data()"
   ]
  },
  {
   "cell_type": "code",
   "execution_count": 120,
   "metadata": {},
   "outputs": [
    {
     "data": {
      "text/markdown": [
       "The SIMD width of AVX-512 is 512 bits."
      ],
      "text/plain": [
       "<IPython.core.display.Markdown object>"
      ]
     },
     "metadata": {},
     "output_type": "display_data"
    }
   ],
   "source": [
    "# PDF unit testing\n",
    "index_pdf = VectorStoreIndex.from_documents(documents_pdf)\n",
    "index_pdf.storage_context.persist(persist_dir=\"pdf_reader\")\n",
    "query_engine_pdf = index_pdf.as_query_engine()\n",
    "response = query_engine_pdf.query(\"What is SIMD width of avx 512?\")\n",
    "display(Markdown(f\"{response}\"))"
   ]
  },
  {
   "cell_type": "markdown",
   "metadata": {},
   "source": [
    "## Wikipedia Reader"
   ]
  },
  {
   "cell_type": "code",
   "execution_count": 61,
   "metadata": {},
   "outputs": [],
   "source": [
    "# wikipedia pages\n",
    "from llama_index.readers.wikipedia import WikipediaReader\n",
    "\n",
    "documents_wiki = WikipediaReader().load_data(\n",
    "    pages=[research_topic]\n",
    ")"
   ]
  },
  {
   "cell_type": "code",
   "execution_count": 64,
   "metadata": {},
   "outputs": [
    {
     "data": {
      "text/markdown": [
       "The SIMD width of AVX-VNNI is 512 bits."
      ],
      "text/plain": [
       "<IPython.core.display.Markdown object>"
      ]
     },
     "metadata": {},
     "output_type": "display_data"
    }
   ],
   "source": [
    "# Wikipedia unit testing\n",
    "from llama_index.core import VectorStoreIndex\n",
    "index_wikipedia = VectorStoreIndex.from_documents(documents_wiki)\n",
    "index_wikipedia.storage_context.persist(persist_dir=\"wiki_reader\")\n",
    "query_engine_wiki = index_wikipedia.as_query_engine()\n",
    "response = query_engine_wiki.query(\"What is SIMD width of avxvnni?\")\n",
    "display(Markdown(f\"{response}\"))"
   ]
  },
  {
   "cell_type": "code",
   "execution_count": 65,
   "metadata": {},
   "outputs": [
    {
     "data": {
      "text/plain": [
       "'AVX-512 are 512-bit extensions to the 256-bit Advanced Vector Extensions SIMD instructions for x86 instruction set architecture (ISA) proposed by Intel in July 2013, and first implemented in the 2016 Intel Xeon Phi x200 (Knights Landing), and then later in a number of AMD and other Intel CPUs (see list below). AVX-512 consists of multiple extensions that may be implemented independently. This policy is a departure from the historical requirement of implementing the entire instruction block. Only the core extension AVX-512F (AVX-512 Foundation) is required by all AVX-512 implementations.\\nBesides widening most 256-bit instructions, the extensions introduce various new operations, such as new data conversions, scatter operations, and permutations. The number of AVX registers is increased from 16 to 32, and eight new \"mask registers\" are added, which allow for variable selection and blending of the results of instructions. In CPUs with the vector length (VL) extension—included in most AVX-512-capable processors (see § CPUs with AVX-512)—these instructions may also be used on the 128-bit and 256-bit vector sizes. AVX-512 is not the first 512-bit SIMD instruction set that Intel has introduced in processors: the earlier 512-bit SIMD instructions used in the first generation Xeon Phi coprocessors, derived from Intel\\'s Larrabee project, are similar but not binary compatible and only partially source compatible.\\n\\n\\n== Instruction set ==\\nThe AVX-512 instruction set consists of several separate sets each having their own unique CPUID feature bit; however, they are typically grouped by the processor generation that implements them.\\n\\nF, CD, ER, PF\\nIntroduced with Xeon Phi x200 (Knights Landing) and Xeon Gold/Platinum (Skylake SP \"Purley\"), with the last two (ER and PF) being specific to Knights Landing.\\nAVX-512 Foundation (F) –  expands most 32-bit and 64-bit based AVX instructions with the EVEX coding scheme to support 512-bit registers, operation masks, parameter broadcasting, and embedded rounding and exception control, implemented by Knights Landing and Skylake Xeon\\nAVX-512 Conflict Detection Instructions (CD) –  efficient conflict detection to allow more loops to be vectorized, implemented by Knights Landing and Skylake X\\nAVX-512 Exponential and Reciprocal Instructions (ER) –  exponential and reciprocal operations designed to help implement transcendental operations, implemented by Knights Landing\\nAVX-512 Prefetch Instructions (PF) –  new prefetch capabilities, implemented by Knights Landing\\nVL, DQ, BW\\nIntroduced with Skylake X and Cannon Lake.\\nAVX-512 Vector Length Extensions (VL) –  extends most AVX-512 operations to also operate on XMM (128-bit) and YMM (256-bit) registers\\nAVX-512 Doubleword and Quadword Instructions (DQ) –  adds new 32-bit and 64-bit AVX-512 instructions\\nAVX-512 Byte and Word Instructions (BW) –  extends AVX-512 to cover 8-bit and 16-bit integer operations\\nIFMA, VBMI\\nIntroduced with Cannon Lake.\\nAVX-512 Integer Fused Multiply Add (IFMA) – fused multiply add of integers using 52-bit precision.\\nAVX-512 Vector Byte Manipulation Instructions (VBMI) adds vector byte permutation instructions which were not present in AVX-512BW.\\n4VNNIW, 4FMAPS\\nIntroduced with Knights Mill.\\nAVX-512 Vector Neural Network Instructions Word variable precision (4VNNIW) – vector instructions for deep learning, enhanced word, variable precision.\\nAVX-512 Fused Multiply Accumulation Packed Single precision (4FMAPS) – vector instructions for deep learning, floating point, single precision.\\nVPOPCNTDQ\\nVector population count instruction. Introduced with Knights Mill and Ice Lake.\\nVNNI, VBMI2, BITALG\\nIntroduced with Ice Lake.\\nAVX-512 Vector Neural Network Instructions (VNNI) – vector instructions for deep learning.\\nAVX-512 Vector Byte Manipulation Instructions 2 (VBMI2) – byte/word load, store and concatenation with shift.\\nAVX-512 Bit Algorithms (BITALG) – byte/word bit manipulation instructions expanding VPOPCNTDQ.\\nVP2INTERSECT\\nIntroduced with Tiger Lake.\\nAVX-512 Vector Pair Intersection to a Pair of Mask Registers (VP2INTERSECT).\\nGFNI, VPCLMULQDQ, VAES\\nIntroduced with Ice Lake.\\nThese are not AVX-512 features per se. Together with AVX-512, they enable EVEX encoded versions of GFNI, PCLMULQDQ and AES instructions.\\n\\n\\n== Encoding and features ==\\nThe VEX prefix used by AVX and AVX2, while flexible, did not leave enough room for the features Intel wanted to add to AVX-512. This has led them to define a new prefix called EVEX.\\nCompared to VEX, EVEX adds the following benefits:\\n\\nExpanded register encoding allowing 32 512-bit registers.\\nAdds 8 new opmask registers for masking most AVX-512 instructions.\\nAdds a new scalar memory mode that automatically performs a broadcast.\\nAdds room for explicit rounding control in each instruction.\\nAdds a new compressed displacement memory addressing mode.\\nThe extended registers, SIMD width bit, and opmask registers of AVX-512 are mandatory and all require support from the OS.\\n\\n\\n=== SIMD modes ===\\nThe AVX-512 instructions are designed to mix with 128/256-bit AVX/AVX2 instructions without a performance penalty. However, AVX-512VL extensions allows the use of AVX-512 instructions on 128/256-bit registers XMM/YMM, so most SSE and AVX/AVX2 instructions have new AVX-512 versions encoded with the EVEX prefix which allow access to new features such as opmask and additional registers. Unlike AVX-256, the new instructions do not have new mnemonics but share namespace with AVX, making the distinction between VEX and EVEX encoded versions of an instruction ambiguous in the source code. Since AVX-512F only works on 32- and 64-bit values, SSE and AVX/AVX2 instructions that operate on bytes or words are available only with the AVX-512BW extension (byte & word support).\\n\\n\\n=== Extended registers ===\\n\\nThe width of the SIMD register file is increased from 256 bits to 512 bits, and expanded from 16 to a total of 32 registers ZMM0–ZMM31. These registers can be addressed as 256 bit YMM registers from AVX extensions and 128-bit XMM registers from Streaming SIMD Extensions, and legacy AVX and SSE instructions can be extended to operate on the 16 additional registers XMM16-XMM31 and YMM16-YMM31 when using EVEX encoded form.\\n\\n\\n== Opmask registers ==\\nAVX-512 vector instructions may indicate an opmask register to control which values are written to the destination, the instruction encoding supports 0–7 for this field, however, only opmask registers k1–k7 (of k0–k7) can be used as the mask corresponding to the value 1–7, whereas the value 0 is reserved for indicating no opmask register is used, i.e. a hardcoded constant (instead of \\'k0\\') is used to indicate unmasked operations. The special opmask register \\'k0\\' is still a functioning, valid register, it can be used in opmask register manipulation instructions or used as the destination opmask register. A flag controls the opmask behavior, which can either be \"zero\", which zeros everything not selected by the mask, or \"merge\", which leaves everything not selected untouched. The merge behavior is identical to the blend instructions.\\nThe opmask registers are normally 16 bits wide, but can be up to 64 bits with the AVX-512BW extension. How many of the bits are actually used, though, depends on the vector type of the instructions masked. For the 32-bit single float or double words, 16 bits are used to mask the 16 elements in a 512-bit register. For double float and quad words, at most 8 mask bits are used.\\nThe opmask register is the reason why several bitwise instructions which naturally have no element widths had them added in AVX-512. For instance, bitwise AND, OR or 128-bit shuffle now exist in both double-word and quad-word variants with the only difference being in the final masking.\\n\\n\\n=== New opmask instructions ===\\nThe opmask registers have a new mini extension of instructions operating directly on them. Unlike the rest of the AVX-512 instructions, these instructions are all VEX encoded. The initial opmask instructions are all 16-bit (Word) versions. With AVX-512DQ 8-bit (Byte) versions were added to better match the needs of masking 8 64-bit values, and with AVX-512BW 32-bit (Double) and 64-bit (Quad) versions were added so they can mask up to 64 8-bit values. The instructions KORTEST and KTEST can be used to set the x86 flags based on mask registers, so that they may be used together with non-SIMD x86 branch and conditional instructions.\\n\\n\\n== New instructions in AVX-512 foundation ==\\nMany AVX-512 instructions are simply EVEX versions of old SSE or AVX instructions. There are, however, several new instructions, and old instructions that have been replaced with new AVX-512 versions. The new or heavily reworked instructions are listed below. These foundation instructions also include the extensions from AVX-512VL and AVX-512BW since those extensions merely add new versions of these instructions instead of new instructions.\\n\\n\\n=== Blend using mask ===\\nThere are no EVEX-prefixed versions of the blend instructions from SSE4; instead, AVX-512 has a new set of blending instructions using mask registers as selectors. Together with the general compare into mask instructions below, these may be used to implement generic ternary operations or cmov, similar to XOP\\'s VPCMOV.\\nSince blending is an integral part of the EVEX encoding, these instructions may also be considered basic move instructions. Using the zeroing blend mode, they can also be used as masking instructions.\\n\\n\\n=== Compare into mask ===\\nAVX-512F has four new compare instructions. Like their XOP counterparts they use the immediate field to select between 8 different comparisons. Unlike their XOP inspiration, however, they save the result to a mask register and initially only support doubleword and quadword comparisons. The AVX-512BW extension provides the byte and word versions. Note that two mask registers may be specified for the instructions, one to write to and one to declare regular masking.\\n\\n\\n=== Logical set mask ===\\nThe final way to set masks is using Logical Set Mask. These instructions perform either AND or NAND, and then set the destination opmask based on the result values being zero or non-zero. Note that like the comparison instructions, these take two opmask registers, one as destination and one a regular opmask.\\n\\n\\n=== Compress and expand ===\\nThe compress and expand instructions match the APL operations of the same name. They use the opmask in a slightly different way from other AVX-512 instructions. Compress only saves the values marked in the mask, but saves them compacted by skipping and not reserving space for unmarked values. Expand operates in the opposite way, by loading as many values as indicated in the mask and then spreading them to the selected positions.\\n\\n\\n=== Permute ===\\nA new set of permute instructions have been added for full two input permutations. They all take three arguments, two source registers and one index; the result is output by either overwriting the first source register or the index register. AVX-512BW extends the instructions to also include 16-bit (word) versions, and the AVX-512_VBMI extension defines the byte versions of the instructions.\\n\\n\\n=== Bitwise ternary logic ===\\nTwo new instructions added can logically implement all possible bitwise operations between three inputs. They take three registers as input and an 8-bit immediate field. Each bit in the output is generated using a lookup of the three corresponding bits in the inputs to select one of the 8 positions in the 8-bit immediate. Since only 8 combinations are possible using three bits, this allow all possible 3 input bitwise operations to be performed.\\nThese are the only bitwise vector instructions in AVX-512F; EVEX versions of the two source SSE and AVX bitwise vector instructions AND, ANDN, OR and XOR were added in AVX-512DQ.\\nThe difference in the doubleword and quadword versions is only the application of the opmask.\\n\\n\\n=== Conversions ===\\nA number of conversion or move instructions were added; these complete the set of conversion instructions available from SSE2.\\n\\n\\n=== Floating-point decomposition ===\\nAmong the unique new features in AVX-512F are instructions to decompose floating-point values and handle special floating-point values. Since these methods are completely new, they also exist in scalar versions.\\n\\n\\n=== Floating-point arithmetic ===\\nThis is the second set of new floating-point methods, which includes new scaling and approximate calculation of reciprocal, and reciprocal of square root. The approximate reciprocal instructions guarantee to have at most a relative error of 2−14.\\n\\n\\n=== Broadcast ===\\n\\n\\n=== Miscellaneous ===\\n\\n\\n== New instructions by sets ==\\n\\n\\n=== Conflict detection ===\\nThe instructions in AVX-512 conflict detection (AVX-512CD) are designed to help efficiently calculate conflict-free subsets of elements in loops that normally could not be safely vectorized.\\n\\n\\n=== Exponential and reciprocal ===\\nAVX-512 exponential and reciprocal (AVX-512ER) instructions contain more accurate approximate reciprocal instructions than those in the AVX-512 foundation; relative error is at most 2−28. They also contain two new exponential functions that have a relative error of at most 2−23.\\n\\n\\n=== Prefetch ===\\nAVX-512 prefetch (AVX-512PF) instructions contain new prefetch operations for the new scatter and gather functionality introduced in AVX2 and AVX-512. T0 prefetch means prefetching into level 1 cache and T1 means prefetching into level 2 cache.\\n\\n\\n=== 4FMAPS and 4VNNIW ===\\nThe two sets of instructions perform multiple iterations of processing. They are generally only found in Xeon Phi products.\\n\\n\\n=== BW, DQ and VBMI ===\\nAVX-512DQ adds new doubleword and quadword instructions. AVX-512BW adds byte and words versions of the same instructions, and adds byte and word version of doubleword/quadword instructions in AVX-512F. A few instructions which get only word forms with AVX-512BW acquire byte forms with the AVX-512_VBMI extension (VPERMB, VPERMI2B, VPERMT2B, VPMULTISHIFTQB).\\nTwo new instructions were added to the mask instructions set: KADD and KTEST (B and W forms with AVX-512DQ, D and Q with AVX-512BW). The rest of mask instructions, which had only word forms, got byte forms with AVX-512DQ and doubleword/quadword forms with AVX-512BW. KUNPCKBW was extended to KUNPCKWD and KUNPCKDQ by AVX-512BW.\\nAmong the instructions added by AVX-512DQ are several SSE and AVX instructions that didn\\'t get AVX-512 versions with AVX-512F, among those are all the two input bitwise instructions and extract/insert integer instructions.\\nInstructions that are completely new are covered below.\\n\\n\\n==== Floating-point instructions ====\\nThree new floating-point operations are introduced. Since they are not only new to AVX-512 they have both packed/SIMD and scalar versions.\\nThe VFPCLASS instructions tests if the floating-point value is one of eight special floating-point values, which of the eight values will trigger a bit in the output mask register is controlled by the immediate field. The VRANGE instructions perform minimum or maximum operations depending on the value of the immediate field, which can also control if the operation is done absolute or not and separately how the sign is handled. The VREDUCE instructions operate on a single source, and subtract from that the integer part of the source value plus a number of bits specified in the immediate field of its fraction.\\n\\n\\n==== Other instructions ====\\n\\n\\n=== VBMI2 ===\\nExtend VPCOMPRESS and VPEXPAND with byte and word variants. Shift instructions are new.\\n\\n\\n=== VNNI ===\\nVector Neural Network Instructions: AVX512-VNNI adds EVEX-coded instructions described below. With AVX-512F, these instructions can operate on 512-bit vectors, and AVX-512VL further adds support for 128- and 256-bit vectors.\\nA later AVX-VNNI extension adds VEX encodings of these instructions which can only operate on 128- or 256-bit vectors. AVX-VNNI is not part of the AVX-512 suite, it does not require AVX-512F and can be implemented independently.\\n\\n\\n=== IFMA ===\\nInteger fused multiply-add instructions. AVX512-IFMA adds EVEX-coded instructions described below.\\nA separate AVX-IFMA instruction set extension defines VEX encoding of these instructions. This extension is not part of the AVX-512 suite and can be implemented independently.\\n\\n\\n=== VPOPCNTDQ and BITALG ===\\n\\n\\n=== VP2INTERSECT ===\\n\\n\\n=== GFNI ===\\nGalois field new instructions are useful for cryptography, as they can be used to implement Rijndael-style S-boxes such as those used in AES, Camellia, and SM4. These instructions may also be used for bit manipulation in networking and signal processing.\\nGFNI is a standalone instruction set extension and can be enabled separately from AVX or AVX-512. Depending on whether AVX and AVX-512F support is indicated by the CPU, GFNI support enables legacy (SSE), VEX or EVEX-coded instructions operating on 128, 256 or 512-bit vectors.\\n\\n\\n=== VPCLMULQDQ ===\\nVPCLMULQDQ with AVX-512F adds an EVEX-encoded 512-bit version of the PCLMULQDQ instruction. With AVX-512VL, it adds EVEX-encoded 256- and 128-bit versions. VPCLMULQDQ alone (that is, on non-AVX512 CPUs) adds only VEX-encoded 256-bit version. (Availability of the VEX-encoded 128-bit version is indicated by different CPUID bits: PCLMULQDQ and AVX.) The wider than 128-bit variations of the instruction perform the same operation on each 128-bit portion of input registers, but they do not extend it to select quadwords from different 128-bit fields (the meaning of imm8 operand is the same: either low or high quadword of the 128-bit field is selected).\\n\\n\\n=== VAES ===\\nVEX- and EVEX-encoded AES instructions. The wider than 128-bit variations of the instruction perform the same operation on each 128-bit portion of input registers. The VEX versions can be used without AVX-512 support.\\n\\n\\n=== BF16 ===\\nAI acceleration instructions operating on the Bfloat16 numbers.\\n\\n\\n=== FP16 ===\\nAn extension of the earlier F16C instruction set, adding comprehensive support for the binary16 floating-point numbers (also known as FP16, float16 or half-precision floating-point numbers). The new instructions implement most operations that were previously available for single and double-precision floating-point numbers and also introduce new complex number instructions and conversion instructions. Scalar and packed operations are supported.\\nUnlike the single and double-precision format instructions, the half-precision operands are neither conditionally flushed to zero (FTZ) nor conditionally treated as zero (DAZ) based on MXCSR settings. Subnormal values are processed at full speed by hardware to facilitate using the full dynamic range of the FP16 numbers. Instructions that create FP32 and FP64 numbers still respect the MXCSR.FTZ bit.\\n\\n\\n==== Arithmetic instructions ====\\n\\n\\n==== Complex arithmetic instructions ====\\n\\n\\n==== Approximate reciprocal instructions ====\\n\\n\\n==== Comparison instructions ====\\n\\n\\n==== Conversion instructions ====\\n\\n\\n==== Decomposition instructions ====\\n\\n\\n==== Move instructions ====\\n\\n\\n== Legacy instructions with EVEX-encoded versions ==\\n\\n\\n== CPUs with AVX-512 ==\\nIntel\\nKnights Landing (Xeon Phi x200): AVX-512 F, CD, ER, PF\\nKnights Mill (Xeon Phi x205): AVX-512 F, CD, ER, PF, 4FMAPS, 4VNNIW, VPOPCNTDQ\\nSkylake-SP, Skylake-X: AVX-512 F, CD, VL, DQ, BW\\nCannon Lake: AVX-512 F, CD, VL, DQ, BW, IFMA, VBMI\\nCascade Lake: AVX-512 F, CD, VL, DQ, BW, VNNI\\nCooper Lake: AVX-512 F, CD, VL, DQ, BW, VNNI, BF16\\nIce Lake, Rocket Lake: AVX-512 F, CD, VL, DQ, BW, IFMA, VBMI, VBMI2, VPOPCNTDQ, BITALG, VNNI, VPCLMULQDQ, GFNI, VAES\\nTiger Lake (except Pentium and Celeron but some reviewer have the CPU-Z Screenshot of Celeron 6305 with AVX-512 support): AVX-512 F, CD, VL, DQ, BW, IFMA, VBMI, VBMI2, VPOPCNTDQ, BITALG, VNNI, VPCLMULQDQ, GFNI, VAES, VP2INTERSECT\\nAlder Lake (never officially supported by Intel, completely removed in newer CPUsNote 1): AVX-512 F, CD, VL, DQ, BW, IFMA, VBMI, VBMI2, VPOPCNTDQ, BITALG, VNNI, VPCLMULQDQ, GFNI, VAES, BF16, VP2INTERSECT, FP16\\nSapphire Rapids: AVX-512 F, CD, VL, DQ, BW, IFMA, VBMI, VBMI2, VPOPCNTDQ, BITALG, VNNI, VPCLMULQDQ, GFNI, VAES, BF16, FP16\\nCentaur Technology\\n\"CNS\" core (8c/8t): AVX-512 F, CD, VL, DQ, BW, IFMA, VBMI\\nAMD\\nZen 4: AVX-512 F, CD, VL, DQ, BW, IFMA, VBMI, VBMI2, VPOPCNTDQ, BITALG, VNNI, VPCLMULQDQ, GFNI, VAES, BF16\\nZen 5: AVX-512 F, CD, VL, DQ, BW, IFMA, VBMI, VBMI2, VPOPCNTDQ, BITALG, VNNI, VPCLMULQDQ, GFNI, VAES, BF16, VP2INTERSECT\\n\\n^Note 1 : Intel does not officially support AVX-512 family of instructions on the Alder Lake microprocessors. In early 2022, Intel began disabling in silicon (fusing off) AVX-512 in Alder Lake microprocessors to prevent customers from enabling AVX-512.\\nIn older Alder Lake family CPUs with some legacy combinations of BIOS and microcode revisions, it was possible to execute AVX-512 family instructions when disabling all the efficiency cores which do not contain the silicon for AVX-512.\\n\\n\\n== Performance ==\\n\\nIntel Vectorization Advisor (starting from version 2017) supports native AVX-512 performance and vector code quality analysis (for \"Core\", Xeon and Intel Xeon Phi processors). Along with traditional hotspots profile, Advisor Recommendations and \"seamless\" integration of Intel Compiler vectorization diagnostics, Advisor Survey analysis also provides AVX-512 ISA metrics and new AVX-512-specific \"traits\", e.g. Scatter, Compress/Expand, mask utilization.\\nOn some processors (mostly pre-Ice Lake Intel), AVX-512 instructions can cause a frequency throttling even greater than its predecessors, causing a penalty for mixed workloads. The additional downclocking is triggered by the 512-bit width of vectors and depend on the nature of instructions being executed, and using the 128 or 256-bit part of AVX-512 (AVX-512VL) does not trigger it. As a result, gcc and clang default to prefer using the 256-bit vectors for Intel targets.\\nC/C++ compilers also automatically handle loop unrolling and preventing stalls in the pipeline in order to use AVX-512 most effectively, which means a programmer using language intrinsics to try to force use of AVX-512 can sometimes result in worse performance relative to the code generated by the compiler when it encounters loops plainly written in the source code. In other cases, using AVX-512 intrinsics in C/C++ code can result in a performance improvement relative to plainly written C/C++.\\n\\n\\n== Reception ==\\nThere are many examples of AVX-512 applications, including media processing, cryptography, video games, neural networks, and even OpenJDK, which employs AVX-512 for sorting.\\nIn a much-cited quote from 2020, Linus Torvalds said \"I hope AVX-512 dies a painful death, and that Intel starts fixing real problems instead of trying to create magic instructions to then create benchmarks that they can look good on,\" stating that he would prefer the transistor budget be spent on additional cores and integer performance instead, and that he \"detests\" floating point benchmarks.\\nNumenta touts their \"highly sparse\" neural network technology, which they say obviates the need for GPUs as their algorithms run on CPUs with AVX-512. They claim a ten times speedup relative to A100 largely because their algorithms reduce the size of the neural network, while maintaining accuracy, by techniques such as the Sparse Evolutionary Training (SET) algorithm and Foresight Pruning.\\n\\n\\n== See also ==\\nFMA instruction set (FMA)\\nXOP instruction set (XOP)\\nScalable Vector Extension for ARM – a new vector instruction set (supplementing VFP and NEON) supporting very wide bit-widths, and single binary code that can adapt automatically to maximum width supported by hardware.\\n\\n\\n== References ==\\nKusswurm, Daniel (2022). Modern parallel programming with C++ and Assembly language : X86 SIMD development using AVX, AVX2, and AVX-512. New York, NY: Apress Media LLC. ISBN 978-1-4842-7918-2. OCLC 1304243196.'"
      ]
     },
     "execution_count": 65,
     "metadata": {},
     "output_type": "execute_result"
    }
   ],
   "source": [
    "from llama_index.tools.wikipedia.base import WikipediaToolSpec\n",
    "wiki_spec = WikipediaToolSpec()\n",
    "wiki_spec.search_data(research_topic)"
   ]
  },
  {
   "cell_type": "markdown",
   "metadata": {},
   "source": [
    "## Arxiv Reader"
   ]
  },
  {
   "cell_type": "code",
   "execution_count": 81,
   "metadata": {},
   "outputs": [],
   "source": [
    "from llama_index.readers.papers import ArxivReader\n",
    "\n",
    "loader = ArxivReader()\n",
    "documents_arxiv = loader.load_data(\n",
    "    search_query=research_topic, max_results=5\n",
    ")"
   ]
  },
  {
   "cell_type": "code",
   "execution_count": 82,
   "metadata": {},
   "outputs": [
    {
     "data": {
      "text/markdown": [
       "AVX512 introduces new features and improvements over AVX2, such as wider registers (512-bit versus 256-bit in AVX2), additional instructions, and enhanced capabilities for parallel processing. AVX512 also offers better performance for certain operations due to its increased register width and expanded instruction set."
      ],
      "text/plain": [
       "<IPython.core.display.Markdown object>"
      ]
     },
     "metadata": {},
     "output_type": "display_data"
    }
   ],
   "source": [
    "# Arxiv unit test\n",
    "index_arxiv = VectorStoreIndex.from_documents(documents_arxiv)\n",
    "index_arxiv.storage_context.persist(persist_dir=\"arxiv_reader\")\n",
    "query_engine_arxiv = index_arxiv.as_query_engine()\n",
    "response = query_engine_arxiv.query(\"What is the difference between avx512 and avx2?\")\n",
    "display(Markdown(f\"{response}\"))"
   ]
  },
  {
   "cell_type": "code",
   "execution_count": 42,
   "metadata": {},
   "outputs": [
    {
     "name": "stdout",
     "output_type": "stream",
     "text": [
      "<llama_index.tools.arxiv.base.ArxivToolSpec object at 0x000001C1DF9C4430>\n"
     ]
    }
   ],
   "source": [
    "from llama_index.tools.arxiv.base import ArxivToolSpec\n",
    "arxiv_tool = ArxivToolSpec()\n",
    "arxiv_tool.arxiv_query(research_topic)"
   ]
  },
  {
   "cell_type": "markdown",
   "metadata": {},
   "source": [
    "## Youtube reader"
   ]
  },
  {
   "cell_type": "code",
   "execution_count": 113,
   "metadata": {},
   "outputs": [],
   "source": [
    "from llama_index.readers.youtube_transcript import YoutubeTranscriptReader\n",
    "from llama_index.core import VectorStoreIndex\n",
    "\n",
    "# Verge summary of WWDC 2024 - 18 mins\n",
    "yt_links = [\"https://youtu.be/P1s6ZQcDvUs?si=I4HJFhv241Pnl4Bp\",\n",
    "            \"https://youtu.be/bskEGP0r3hE?si=y23RB5OzZS3_JvOp\"]\n",
    "documents_youtube = YoutubeTranscriptReader().load_data(ytlinks=yt_links)"
   ]
  },
  {
   "cell_type": "code",
   "execution_count": 75,
   "metadata": {},
   "outputs": [
    {
     "data": {
      "text/markdown": [
       "Ian's take on AVX 512 is that Intel's communication regarding AVX 512 has been somewhat lacking, especially in terms of explaining the technology to the average consumer. He also mentions that there have been thermal issues with AVX 512 in the past, causing CPUs to get hot and experience clock speed decreases. Ian discusses how AMD implemented AVX 512 differently, leading to performance improvements in some cases. Additionally, he suggests that Intel could make AVX 512 more accessible and efficient by unifying it with a 512-bit vector length, which would simplify code writing and improve adoption."
      ],
      "text/plain": [
       "<IPython.core.display.Markdown object>"
      ]
     },
     "metadata": {},
     "output_type": "display_data"
    }
   ],
   "source": [
    "# YouTube unit test\n",
    "index_youtube = VectorStoreIndex.from_documents(documents_youtube)\n",
    "index_youtube.storage_context.persist(persist_dir=\"youtube_reader\")\n",
    "query_engine_youtube = index_youtube.as_query_engine()\n",
    "response = query_engine_youtube.query(\"Whats Ian's take on avx 512?\")\n",
    "display(Markdown(f\"{response}\"))"
   ]
  },
  {
   "cell_type": "markdown",
   "metadata": {},
   "source": [
    "## Webpage"
   ]
  },
  {
   "cell_type": "code",
   "execution_count": 77,
   "metadata": {},
   "outputs": [],
   "source": [
    "from llama_index.tools.duckduckgo import DuckDuckGoSearchToolSpec\n",
    "from llama_index.readers.web import SimpleWebPageReader\n",
    "search_tool = DuckDuckGoSearchToolSpec()\n",
    "full_search = search_tool.duckduckgo_full_search(research_topic, max_results=3)\n",
    "urls = [article['href'] for article in full_search]\n",
    "documents_webpage = SimpleWebPageReader(html_to_text=True).load_data(\n",
    "    urls\n",
    ")"
   ]
  },
  {
   "cell_type": "code",
   "execution_count": 78,
   "metadata": {},
   "outputs": [
    {
     "data": {
      "text/markdown": [
       "The downsides of utilizing AVX-512 involve potential difficulties in software optimization, compatibility issues with older hardware, higher power consumption due to increased computational requirements, and the necessity for specialized expertise to fully utilize the advanced capabilities of AVX-512. Moreover, some applications may not experience substantial benefits from AVX-512 instructions, resulting in potential inefficiencies in specific situations."
      ],
      "text/plain": [
       "<IPython.core.display.Markdown object>"
      ]
     },
     "metadata": {},
     "output_type": "display_data"
    }
   ],
   "source": [
    "# Webpage unit test\n",
    "from llama_index.core import SummaryIndex\n",
    "from IPython.display import Markdown, display\n",
    "\n",
    "index_webpage = SummaryIndex.from_documents(documents_webpage)\n",
    "index_webpage.storage_context.persist(persist_dir=\"webpage_reader\")\n",
    "query_engine_webpage = index_webpage.as_query_engine()\n",
    "response = query_engine_webpage.query(\"What are the downsides of using avx512?\")\n",
    "display(Markdown(f\"{response}\"))"
   ]
  },
  {
   "cell_type": "markdown",
   "metadata": {},
   "source": [
    "## Multi document agent"
   ]
  },
  {
   "cell_type": "code",
   "execution_count": 24,
   "metadata": {},
   "outputs": [],
   "source": [
    "from llama_index.core import (\n",
    "    VectorStoreIndex,\n",
    "    SimpleKeywordTableIndex,\n",
    "    SimpleDirectoryReader,\n",
    ")\n",
    "from llama_index.core import SummaryIndex\n",
    "from llama_index.core.schema import IndexNode\n",
    "from llama_index.core.tools import QueryEngineTool, ToolMetadata\n",
    "from llama_index.llms.openai import OpenAI\n",
    "from llama_index.core.callbacks import CallbackManager\n",
    "from llama_index.agent.openai import OpenAIAgent\n",
    "from llama_index.core import load_index_from_storage, StorageContext\n",
    "from llama_index.core.node_parser import SentenceSplitter\n",
    "import os\n",
    "from llama_index.llms.openai import OpenAI\n",
    "from llama_index.embeddings.openai import OpenAIEmbedding\n",
    "from llama_index.core import Settings\n",
    "\n",
    "Settings.llm = OpenAI(temperature=0, model=\"gpt-3.5-turbo\")\n",
    "Settings.embed_model = OpenAIEmbedding(model=\"text-embedding-ada-002\")\n",
    "\n",
    "node_parser = SentenceSplitter()\n",
    "\n",
    "# Build agents dictionary\n",
    "agents = {}\n",
    "query_engines = {}\n",
    "\n",
    "# this is for the baseline\n",
    "all_nodes = []\n",
    "\n",
    "source_dict ={}\n",
    "source_dict['pdf'] = documents_pdf\n",
    "source_dict['arxiv'] = documents_arxiv\n",
    "source_dict['youtube'] = documents_youtube\n",
    "source_dict['wikipedia'] = documents_wiki\n",
    "source_dict['webpage'] = documents_webpage"
   ]
  },
  {
   "cell_type": "code",
   "execution_count": 106,
   "metadata": {},
   "outputs": [],
   "source": [
    "\n",
    "# Iterate over the combined documents\n",
    "for idx, source in enumerate(sources):\n",
    "    nodes = node_parser.get_nodes_from_documents(source_dict[source])\n",
    "    all_nodes.extend(nodes)\n",
    "\n",
    "    # Check if a directory for the wiki title exists, if not, create it and build a new vector index\n",
    "    if not os.path.exists(f\"./data/{source}\"):\n",
    "        vector_index = VectorStoreIndex(nodes)  # Create a vector index from the nodes\n",
    "        vector_index.storage_context.persist(persist_dir=f\"./data/{source}\")  # Persist the vector index to disk\n",
    "    else:\n",
    "        # If directory exists, load the existing vector index from storage\n",
    "        vector_index = load_index_from_storage(\n",
    "            StorageContext.from_defaults(persist_dir=f\"./data/{source}\"),\n",
    "        )\n",
    "\n",
    "    # Create a summary index from the nodes\n",
    "    summary_index = SummaryIndex(nodes)\n",
    "\n",
    "    # Define query engines for vector and summary indexes\n",
    "    vector_query_engine = vector_index.as_query_engine(llm=Settings.llm)\n",
    "    summary_query_engine = summary_index.as_query_engine(llm=Settings.llm)\n",
    "\n",
    "    # Define tools for querying the vector and summary indexes\n",
    "    query_engine_tools = [\n",
    "        QueryEngineTool(\n",
    "            query_engine=vector_query_engine,\n",
    "            metadata=ToolMetadata(\n",
    "                name=\"vector_tool\",\n",
    "                description=(\n",
    "                    f\"Useful for questions related to specific aspects of {source}.\\n\\n\"\n",
    "                    \"You are a research assistant providing accurate information from local PDFs, Wikipedia, YouTube, webpages, and arXiv papers. Follow these guidelines:\\n\"\n",
    "                    \"1. For broad overviews, historical context, and general information, use Wikipedia.\\n\"\n",
    "                    \"2. For in-depth research and technical details, use arXiv papers.\\n\"\n",
    "                    \"3. For the latest news and updates, use webpages.\\n\"\n",
    "                    \"4. For tutorials, demonstrations, reviews and feedback from the industry, use YouTube.\\n\"\n",
    "                    \"5. For specific, pre-verified documents, use local PDFs.\\n\"\n",
    "                    \"General Instructions:\\n\"\n",
    "                    \"Choose the source that best fits the query. Combine information from multiple sources when necessary. Ensure the information is accurate and relevant.\\n\\n\"\n",
    "                    \"You must ALWAYS use at least one of the provided tools when answering a question; do NOT rely on prior knowledge alone.\"\n",
    "                ),\n",
    "            ),\n",
    "        ),\n",
    "        QueryEngineTool(\n",
    "            query_engine=summary_query_engine,\n",
    "            metadata=ToolMetadata(\n",
    "                name=\"summary_tool\",\n",
    "                description=(\n",
    "                    f\"Useful for questions related to specific aspects of {source}.\\n\\n\"\n",
    "                    \"You are a research assistant providing accurate information from local PDFs, Wikipedia, YouTube, webpages, and arXiv papers. Follow these guidelines:\\n\"\n",
    "                    \"1. For broad overviews, historical context, and general information, use Wikipedia.\\n\"\n",
    "                    \"2. For in-depth research and technical details, use arXiv papers.\\n\"\n",
    "                    \"3. For the latest news and updates, use webpages.\\n\"\n",
    "                    \"4. For tutorials, demonstrations, reviews and feedback from the industry, use YouTube.\\n\"\n",
    "                    \"5. For specific, pre-verified documents, use local PDFs.\\n\"\n",
    "                    \"General Instructions:\\n\"\n",
    "                    \"Choose the source that best fits the query. Combine information from multiple sources when necessary. Ensure the information is accurate and relevant.\\n\\n\"\n",
    "                    \"You must ALWAYS use at least one of the provided tools when answering a question; do NOT rely on prior knowledge alone.\"\n",
    "                ),\n",
    "            ),\n",
    "        ),\n",
    "    ]\n",
    "\n",
    "    # Build an OpenAI agent with the defined tools and a custom system prompt\n",
    "    function_llm = OpenAI(model=\"gpt-4\")  # Initialize the LLM with GPT-4 model\n",
    "    agent = OpenAIAgent.from_tools(\n",
    "        query_engine_tools,\n",
    "        llm=function_llm,\n",
    "        verbose=True,\n",
    "        system_prompt=f\"\"\"\\\n",
    "You are a specialized agent designed to answer queries about {research_topic}.\n",
    "You must ALWAYS use at least one of the tools provided when answering a question; do NOT rely on prior knowledge.\\\n",
    "\"\"\",\n",
    "    )\n",
    "\n",
    "    # Store the agent and the query engine in their respective dictionaries\n",
    "    agents[source] = agent\n",
    "    query_engines[source] = vector_index.as_query_engine(similarity_top_k=2)\n",
    "    "
   ]
  },
  {
   "cell_type": "code",
   "execution_count": 107,
   "metadata": {},
   "outputs": [],
   "source": [
    "all_tools = []\n",
    "for source in sources:\n",
    "    tool_summary = (\n",
    "        f\"Useful for questions related to specific aspects of {source}.\\n\\n\"\n",
    "        \"You are a research assistant providing accurate information from local PDFs, Wikipedia, YouTube, webpages, and arXiv papers. Follow these guidelines:\\n\"\n",
    "        \"1. For broad overviews, historical context, and general information, use Wikipedia.\\n\"\n",
    "        \"2. For in-depth research and technical details, use arXiv papers.\\n\"\n",
    "        \"3. For the latest news and updates, use webpages.\\n\"\n",
    "        \"4. For tutorials, demonstrations, reviews and feedback from the industry, use YouTube.\\n\"\n",
    "        \"5. For specific, pre-verified documents, use local PDFs.\\n\"\n",
    "        \"General Instructions:\\n\"\n",
    "        \"Choose the source that best fits the query. Combine information from multiple sources when necessary. Ensure the information is accurate and relevant.\\n\\n\"\n",
    "        \"You must ALWAYS use at least one of the provided tools when answering a question; do NOT rely on prior knowledge alone.\"\n",
    "    )\n",
    "    \n",
    "    doc_tool = QueryEngineTool(\n",
    "        query_engine=agents[source],\n",
    "        metadata=ToolMetadata(\n",
    "            name=f\"tool_{source}\",\n",
    "            description=tool_summary,\n",
    "        ),\n",
    "    )\n",
    "    all_tools.append(doc_tool)\n"
   ]
  },
  {
   "cell_type": "code",
   "execution_count": 108,
   "metadata": {},
   "outputs": [],
   "source": [
    "# define an \"object\" index and retriever over these tools\n",
    "from llama_index.core import VectorStoreIndex\n",
    "from llama_index.core.objects import ObjectIndex\n",
    "\n",
    "obj_index = ObjectIndex.from_objects(\n",
    "    all_tools,\n",
    "    index_cls=VectorStoreIndex,\n",
    ")"
   ]
  },
  {
   "cell_type": "code",
   "execution_count": 109,
   "metadata": {},
   "outputs": [],
   "source": [
    "from llama_index.agent.openai import OpenAIAgent\n",
    "\n",
    "top_agent = OpenAIAgent.from_tools(\n",
    "    tool_retriever=obj_index.as_retriever(similarity_top_k=3),\n",
    "    system_prompt=\"\"\" \\\n",
    "        f\"Useful for questions related to specific aspects of {source}.\\n\\n\"\n",
    "        \"You are a research assistant providing accurate information from local PDFs, Wikipedia, YouTube, webpages, and arXiv papers. Follow these guidelines:\\n\"\n",
    "        \"1. For broad overviews, historical context, and general information, use Wikipedia.\\n\"\n",
    "        \"2. For in-depth research and technical details, use arXiv papers.\\n\"\n",
    "        \"3. For the latest news and updates, use webpages.\\n\"\n",
    "        \"4. For tutorials, demonstrations, reviews and feedback from the industry, use YouTube.\\n\"\n",
    "        \"5. For specific, pre-verified documents, use local PDFs.\\n\"\n",
    "        \"General Instructions:\\n\"\n",
    "        \"Choose the source that best fits the query. Combine information from multiple sources when necessary. Ensure the information is accurate and relevant.\\n\\n\"\n",
    "        \"You must ALWAYS use at least one of the provided tools when answering a question; do NOT rely on prior knowledge alone.\"\n",
    "\"\"\",\n",
    "    verbose=True,\n",
    ")"
   ]
  },
  {
   "cell_type": "code",
   "execution_count": 110,
   "metadata": {},
   "outputs": [],
   "source": [
    "base_index = VectorStoreIndex(all_nodes)\n",
    "base_query_engine = base_index.as_query_engine(similarity_top_k=4)"
   ]
  },
  {
   "cell_type": "code",
   "execution_count": 102,
   "metadata": {},
   "outputs": [
    {
     "name": "stdout",
     "output_type": "stream",
     "text": [
      "Added user message to memory: What was used before the invention of AVX512\n",
      "=== Calling Function ===\n",
      "Calling function: tool_wikipedia with args: {\"input\":\"AVX512\"}\n",
      "Added user message to memory: AVX512\n",
      "=== Calling Function ===\n",
      "Calling function: summary_tool with args: {\n",
      "  \"input\": \"AVX512\"\n",
      "}\n",
      "Got output: AVX512 is a set of advanced vector extensions designed to significantly improve performance for certain types of computations, particularly in fields like scientific simulations, artificial intelligence, and data analytics. These extensions provide a wider vector register file, new instructions, and additional capabilities for parallel processing, allowing for faster and more efficient processing of data.\n",
      "========================\n",
      "\n",
      "Got output: AVX-512 (Advanced Vector Extensions 512) is a set of instructions that are part of the x86 instruction set architecture. It extends the existing AVX instruction set, and is designed to improve performance for specific types of computations. AVX-512 is particularly beneficial in fields such as scientific simulations, artificial intelligence (AI), and data analytics.\n",
      "\n",
      "The key features of AVX-512 include a wider vector register file, new instructions, and additional capabilities for parallel processing. These enhancements allow for faster and more efficient processing of data, which can significantly boost the performance of applications that are able to take advantage of them.\n",
      "========================\n",
      "\n"
     ]
    },
    {
     "data": {
      "text/markdown": [
       "Before the invention of AVX-512, the AVX (Advanced Vector Extensions) instruction set was used. AVX provided a set of instructions for SIMD (Single Instruction, Multiple Data) operations on Intel processors. AVX-512 is an extension of the AVX instruction set, offering wider vector register files, new instructions, and enhanced capabilities for parallel processing."
      ],
      "text/plain": [
       "<IPython.core.display.Markdown object>"
      ]
     },
     "metadata": {},
     "output_type": "display_data"
    }
   ],
   "source": [
    "# Historical context should use wikipedia\n",
    "response = top_agent.query(f\"What was used before the invention of {research_topic}\")\n",
    "display(Markdown(f\"{response}\"))"
   ]
  },
  {
   "cell_type": "code",
   "execution_count": 104,
   "metadata": {},
   "outputs": [
    {
     "name": "stdout",
     "output_type": "stream",
     "text": [
      "Added user message to memory: Give me the technical details behind AVX512\n",
      "=== Calling Function ===\n",
      "Calling function: tool_arxiv with args: {\"input\":\"AVX512\"}\n",
      "Added user message to memory: AVX512\n",
      "=== Calling Function ===\n",
      "Calling function: summary_tool with args: {\n",
      "  \"input\": \"AVX512\"\n",
      "}\n",
      "Got output: Repeat.\n",
      "========================\n",
      "\n",
      "Got output: AVX-512 (Advanced Vector Extensions) is a set of new instructions that can accelerate performance for workloads and usages such as scientific simulations, financial analytics, artificial intelligence (AI)/deep learning, 3D modeling and analysis, image and audio/video processing, cryptography and data compression.\n",
      "\n",
      "AVX-512 instructions are important because they offer higher performance for the most demanding computational tasks. AVX-512 can operate on arrays of data in one operation, which is called SIMD (Single Instruction, Multiple Data) computing. This can significantly increase performance for applications that are able to take advantage of it.\n",
      "\n",
      "AVX-512 has a larger number of registers, wider vectors, more operations, and more flexible programming model than AVX2. It also includes features for efficient software multi-threading and data alignment.\n",
      "========================\n",
      "\n"
     ]
    },
    {
     "data": {
      "text/markdown": [
       "AVX-512 (Advanced Vector Extensions) is a set of new instructions that can accelerate performance for various workloads such as scientific simulations, financial analytics, AI/deep learning, 3D modeling, image and audio/video processing, cryptography, and data compression. These instructions offer higher performance for demanding computational tasks by operating on arrays of data in a single operation, known as SIMD (Single Instruction, Multiple Data) computing. AVX-512 provides a larger number of registers, wider vectors, more operations, and a more flexible programming model compared to AVX2. It also includes features for efficient software multi-threading and data alignment."
      ],
      "text/plain": [
       "<IPython.core.display.Markdown object>"
      ]
     },
     "metadata": {},
     "output_type": "display_data"
    }
   ],
   "source": [
    "# Technical details should refer to arxiv\n",
    "response = top_agent.query(f\"Give me the technical details behind {research_topic}\")\n",
    "display(Markdown(f\"{response}\"))"
   ]
  },
  {
   "cell_type": "code",
   "execution_count": 112,
   "metadata": {},
   "outputs": [
    {
     "name": "stdout",
     "output_type": "stream",
     "text": [
      "Added user message to memory: What is the review or feedback from the industry on AVX512\n",
      "=== Calling Function ===\n",
      "Calling function: tool_youtube with args: {\"input\":\"AVX512 review\"}\n",
      "Added user message to memory: AVX512 review\n",
      "=== Calling Function ===\n",
      "Calling function: summary_tool with args: {\n",
      "  \"input\": \"AVX512 review\"\n",
      "}\n",
      "Got output: AVX512 is not mentioned in the provided context information.\n",
      "========================\n",
      "\n",
      "=== Calling Function ===\n",
      "Calling function: vector_tool with args: {\n",
      "  \"input\": \"AVX512 review\"\n",
      "}\n",
      "Got output: AVX512 is a set of advanced instructions designed for demanding computational tasks, particularly in the realm of scientific computing, artificial intelligence, and data analytics. It offers enhanced performance by allowing for parallel processing of a larger number of data elements compared to previous instruction sets.\n",
      "========================\n",
      "\n",
      "Got output: AVX512 is a set of advanced instructions designed for demanding computational tasks, particularly in the realm of scientific computing, artificial intelligence, and data analytics. It offers enhanced performance by allowing for parallel processing of a larger number of data elements compared to previous instruction sets. For more detailed reviews and feedback, you might want to check out specific industry forums or technical blogs.\n",
      "========================\n",
      "\n"
     ]
    },
    {
     "data": {
      "text/markdown": [
       "AVX512 is a set of advanced instructions designed for demanding computational tasks, particularly in scientific computing, artificial intelligence, and data analytics. It offers enhanced performance by allowing for parallel processing of a larger number of data elements compared to previous instruction sets. For more detailed reviews and feedback, you might want to check out specific industry forums or technical blogs."
      ],
      "text/plain": [
       "<IPython.core.display.Markdown object>"
      ]
     },
     "metadata": {},
     "output_type": "display_data"
    }
   ],
   "source": [
    "# For reviews and and feed back use youtube\n",
    "response = top_agent.query(f\"What is the review or feedback from the industry on {research_topic}\")\n",
    "display(Markdown(f\"{response}\"))"
   ]
  },
  {
   "cell_type": "code",
   "execution_count": 115,
   "metadata": {},
   "outputs": [
    {
     "name": "stdout",
     "output_type": "stream",
     "text": [
      "Added user message to memory: What is the latest news and updates on AVX512\n",
      "=== Calling Function ===\n",
      "Calling function: tool_wikipedia with args: {\"input\":\"AVX512\"}\n",
      "Added user message to memory: AVX512\n",
      "=== Calling Function ===\n",
      "Calling function: summary_tool with args: {\n",
      "  \"input\": \"AVX512\"\n",
      "}\n",
      "Got output: AVX512 is not mentioned in the provided context information.\n",
      "========================\n",
      "\n",
      "=== Calling Function ===\n",
      "Calling function: vector_tool with args: {\n",
      "  \"input\": \"AVX512\"\n",
      "}\n",
      "Got output: AVX512 is a set of advanced instructions for processors that can significantly accelerate performance for certain types of computations.\n",
      "========================\n",
      "\n",
      "Got output: AVX512, or Advanced Vector Extensions 512, is a set of instructions for processors that can significantly enhance performance for specific types of computations. These instructions allow for the simultaneous processing of multiple data points, which can be particularly beneficial in fields such as scientific computing, machine learning, and multimedia applications.\n",
      "========================\n",
      "\n"
     ]
    },
    {
     "data": {
      "text/markdown": [
       "AVX512, or Advanced Vector Extensions 512, is a set of instructions for processors that can significantly enhance performance for specific types of computations. These instructions allow for the simultaneous processing of multiple data points, which can be particularly beneficial in fields such as scientific computing, machine learning, and multimedia applications."
      ],
      "text/plain": [
       "<IPython.core.display.Markdown object>"
      ]
     },
     "metadata": {},
     "output_type": "display_data"
    }
   ],
   "source": [
    "# Latest news shuld use webpages/ wikipedia\n",
    "response = top_agent.query(f\"What is the latest news and updates on {research_topic}\")\n",
    "display(Markdown(f\"{response}\"))"
   ]
  },
  {
   "cell_type": "code",
   "execution_count": 116,
   "metadata": {},
   "outputs": [
    {
     "name": "stdout",
     "output_type": "stream",
     "text": [
      "Added user message to memory: What are the registers used in AVX512\n",
      "=== Calling Function ===\n",
      "Calling function: tool_wikipedia with args: {\"input\":\"AVX512 registers\"}\n",
      "Added user message to memory: AVX512 registers\n",
      "=== Calling Function ===\n",
      "Calling function: summary_tool with args: {\n",
      "  \"input\": \"AVX512 registers\"\n",
      "}\n",
      "Got output: Sundar Pichai's career and background do not relate to AVX512 registers.\n",
      "========================\n",
      "\n",
      "=== Calling Function ===\n",
      "Calling function: vector_tool with args: {\n",
      "  \"input\": \"AVX512 registers\"\n",
      "}\n",
      "Got output: Sundar Pichai's background and career details are provided in the context.\n",
      "========================\n",
      "\n",
      "=== Calling Function ===\n",
      "Calling function: summary_tool with args: {\n",
      "  \"input\": \"AVX512 registers\"\n",
      "}\n",
      "Got output: Sundar Pichai's career and background do not relate to AVX512 registers.\n",
      "========================\n",
      "\n",
      "=== Calling Function ===\n",
      "Calling function: vector_tool with args: {\n",
      "  \"input\": \"AVX512 registers\"\n",
      "}\n",
      "Got output: Sundar Pichai's background and career information do not include any details related to AVX512 registers.\n",
      "========================\n",
      "\n",
      "=== Calling Function ===\n",
      "Calling function: summary_tool with args: {\n",
      "  \"input\": \"AVX-512\"\n",
      "}\n",
      "Got output: AVX-512 is a set of advanced instructions for processors that can significantly enhance performance for certain types of computational tasks.\n",
      "========================\n",
      "\n",
      "Got output: AVX-512 is a set of advanced instructions for processors that can significantly enhance performance for certain types of computational tasks. The AVX512 registers, which are part of this instruction set, are 512 bits wide and can hold up to 64 bytes of data. This allows for more efficient processing of large amounts of data, such as in vector and matrix operations.\n",
      "========================\n",
      "\n"
     ]
    },
    {
     "data": {
      "text/markdown": [
       "AVX-512 registers are 512 bits wide and can hold up to 64 bytes of data. They are used to enhance performance for certain types of computational tasks, such as vector and matrix operations."
      ],
      "text/plain": [
       "<IPython.core.display.Markdown object>"
      ]
     },
     "metadata": {},
     "output_type": "display_data"
    }
   ],
   "source": [
    "# Latest news shuld use webpages/ wikipedia\n",
    "response = top_agent.query(f\"What are the registers used in {research_topic}\")\n",
    "display(Markdown(f\"{response}\"))"
   ]
  }
 ],
 "metadata": {
  "kernelspec": {
   "display_name": "agents",
   "language": "python",
   "name": "python3"
  },
  "language_info": {
   "codemirror_mode": {
    "name": "ipython",
    "version": 3
   },
   "file_extension": ".py",
   "mimetype": "text/x-python",
   "name": "python",
   "nbconvert_exporter": "python",
   "pygments_lexer": "ipython3",
   "version": "3.10.14"
  }
 },
 "nbformat": 4,
 "nbformat_minor": 2
}
